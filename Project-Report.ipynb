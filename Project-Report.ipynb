{
 "cells": [
  {
   "cell_type": "markdown",
   "metadata": {},
   "source": [
    "# Team 24 Group Project Proposal\n",
    "\n",
    "Date: March 6th 2021\n",
    "\n",
    "Authors: Kian Da Costa, Jack He, Dani Fookes, Ethan Tse\n"
   ]
  },
  {
   "cell_type": "markdown",
   "metadata": {},
   "source": [
    "## Introduction:\n",
    "\n",
    "For students, balancing life and school can be challenging, and achieving a balance between leisure and studying is often critical to a good academic standing. \n",
    "\n",
    "Here, we propose using a K nearest neighbors (KNN)-model to explore the relationship between time spent on several common distractions and grades received in school.\n",
    "\n",
    "The dataset we will be using for this analysis was collected by Paulo Cortez from the University of Minho, GuimarÃ£es, Portugal. This dataset details the performance of students aged 15-22 from two Portugeuse secondary schools. Each row represents an observation of a single student, with the grades they received from each period (G1, G2, G3) along with various details of their life, such as how much free time they have, whether they are in a romantic relationship etc."
   ]
  },
  {
   "cell_type": "markdown",
   "metadata": {},
   "source": [
    "# Load Relevant Libraries"
   ]
  },
  {
   "cell_type": "code",
   "execution_count": 1,
   "metadata": {},
   "outputs": [
    {
     "name": "stderr",
     "output_type": "stream",
     "text": [
      "── \u001b[1mAttaching packages\u001b[22m ─────────────────────────────────────── tidyverse 1.3.0 ──\n",
      "\n",
      "\u001b[32m✔\u001b[39m \u001b[34mggplot2\u001b[39m 3.3.2     \u001b[32m✔\u001b[39m \u001b[34mpurrr  \u001b[39m 0.3.4\n",
      "\u001b[32m✔\u001b[39m \u001b[34mtibble \u001b[39m 3.0.3     \u001b[32m✔\u001b[39m \u001b[34mdplyr  \u001b[39m 1.0.2\n",
      "\u001b[32m✔\u001b[39m \u001b[34mtidyr  \u001b[39m 1.1.2     \u001b[32m✔\u001b[39m \u001b[34mstringr\u001b[39m 1.4.0\n",
      "\u001b[32m✔\u001b[39m \u001b[34mreadr  \u001b[39m 1.3.1     \u001b[32m✔\u001b[39m \u001b[34mforcats\u001b[39m 0.5.0\n",
      "\n",
      "Warning message:\n",
      "“package ‘ggplot2’ was built under R version 4.0.1”\n",
      "Warning message:\n",
      "“package ‘tibble’ was built under R version 4.0.2”\n",
      "Warning message:\n",
      "“package ‘tidyr’ was built under R version 4.0.2”\n",
      "Warning message:\n",
      "“package ‘dplyr’ was built under R version 4.0.2”\n",
      "── \u001b[1mConflicts\u001b[22m ────────────────────────────────────────── tidyverse_conflicts() ──\n",
      "\u001b[31m✖\u001b[39m \u001b[34mdplyr\u001b[39m::\u001b[32mfilter()\u001b[39m masks \u001b[34mstats\u001b[39m::filter()\n",
      "\u001b[31m✖\u001b[39m \u001b[34mdplyr\u001b[39m::\u001b[32mlag()\u001b[39m    masks \u001b[34mstats\u001b[39m::lag()\n",
      "\n",
      "Warning message:\n",
      "“package ‘tidymodels’ was built under R version 4.0.2”\n",
      "── \u001b[1mAttaching packages\u001b[22m ────────────────────────────────────── tidymodels 0.1.1 ──\n",
      "\n",
      "\u001b[32m✔\u001b[39m \u001b[34mbroom    \u001b[39m 0.7.0      \u001b[32m✔\u001b[39m \u001b[34mrecipes  \u001b[39m 0.1.13\n",
      "\u001b[32m✔\u001b[39m \u001b[34mdials    \u001b[39m 0.0.9      \u001b[32m✔\u001b[39m \u001b[34mrsample  \u001b[39m 0.0.7 \n",
      "\u001b[32m✔\u001b[39m \u001b[34minfer    \u001b[39m 0.5.4      \u001b[32m✔\u001b[39m \u001b[34mtune     \u001b[39m 0.1.1 \n",
      "\u001b[32m✔\u001b[39m \u001b[34mmodeldata\u001b[39m 0.0.2      \u001b[32m✔\u001b[39m \u001b[34mworkflows\u001b[39m 0.2.0 \n",
      "\u001b[32m✔\u001b[39m \u001b[34mparsnip  \u001b[39m 0.1.3      \u001b[32m✔\u001b[39m \u001b[34myardstick\u001b[39m 0.0.7 \n",
      "\n",
      "Warning message:\n",
      "“package ‘broom’ was built under R version 4.0.2”\n",
      "Warning message:\n",
      "“package ‘dials’ was built under R version 4.0.2”\n",
      "Warning message:\n",
      "“package ‘infer’ was built under R version 4.0.3”\n",
      "Warning message:\n",
      "“package ‘modeldata’ was built under R version 4.0.1”\n",
      "Warning message:\n",
      "“package ‘parsnip’ was built under R version 4.0.2”\n",
      "Warning message:\n",
      "“package ‘recipes’ was built under R version 4.0.1”\n",
      "Warning message:\n",
      "“package ‘tune’ was built under R version 4.0.2”\n",
      "Warning message:\n",
      "“package ‘workflows’ was built under R version 4.0.2”\n",
      "Warning message:\n",
      "“package ‘yardstick’ was built under R version 4.0.2”\n",
      "── \u001b[1mConflicts\u001b[22m ───────────────────────────────────────── tidymodels_conflicts() ──\n",
      "\u001b[31m✖\u001b[39m \u001b[34mscales\u001b[39m::\u001b[32mdiscard()\u001b[39m masks \u001b[34mpurrr\u001b[39m::discard()\n",
      "\u001b[31m✖\u001b[39m \u001b[34mdplyr\u001b[39m::\u001b[32mfilter()\u001b[39m   masks \u001b[34mstats\u001b[39m::filter()\n",
      "\u001b[31m✖\u001b[39m \u001b[34mrecipes\u001b[39m::\u001b[32mfixed()\u001b[39m  masks \u001b[34mstringr\u001b[39m::fixed()\n",
      "\u001b[31m✖\u001b[39m \u001b[34mdplyr\u001b[39m::\u001b[32mlag()\u001b[39m      masks \u001b[34mstats\u001b[39m::lag()\n",
      "\u001b[31m✖\u001b[39m \u001b[34myardstick\u001b[39m::\u001b[32mspec()\u001b[39m masks \u001b[34mreadr\u001b[39m::spec()\n",
      "\u001b[31m✖\u001b[39m \u001b[34mrecipes\u001b[39m::\u001b[32mstep()\u001b[39m   masks \u001b[34mstats\u001b[39m::step()\n",
      "\n"
     ]
    }
   ],
   "source": [
    "library(tidyverse)\n",
    "library(tidymodels)\n",
    "library(RColorBrewer)\n",
    "library(repr)\n",
    "set.seed(1000)"
   ]
  },
  {
   "cell_type": "markdown",
   "metadata": {},
   "source": [
    "# Data Collection"
   ]
  },
  {
   "cell_type": "code",
   "execution_count": 2,
   "metadata": {},
   "outputs": [
    {
     "data": {
      "text/html": [
       "<table>\n",
       "<caption>A data.frame: 5 × 33</caption>\n",
       "<thead>\n",
       "\t<tr><th></th><th scope=col>school</th><th scope=col>sex</th><th scope=col>age</th><th scope=col>address</th><th scope=col>famsize</th><th scope=col>Pstatus</th><th scope=col>Medu</th><th scope=col>Fedu</th><th scope=col>Mjob</th><th scope=col>Fjob</th><th scope=col>⋯</th><th scope=col>famrel</th><th scope=col>freetime</th><th scope=col>goout</th><th scope=col>Dalc</th><th scope=col>Walc</th><th scope=col>health</th><th scope=col>absences</th><th scope=col>G1</th><th scope=col>G2</th><th scope=col>G3</th></tr>\n",
       "\t<tr><th></th><th scope=col>&lt;chr&gt;</th><th scope=col>&lt;chr&gt;</th><th scope=col>&lt;int&gt;</th><th scope=col>&lt;chr&gt;</th><th scope=col>&lt;chr&gt;</th><th scope=col>&lt;chr&gt;</th><th scope=col>&lt;int&gt;</th><th scope=col>&lt;int&gt;</th><th scope=col>&lt;chr&gt;</th><th scope=col>&lt;chr&gt;</th><th scope=col>⋯</th><th scope=col>&lt;int&gt;</th><th scope=col>&lt;int&gt;</th><th scope=col>&lt;int&gt;</th><th scope=col>&lt;int&gt;</th><th scope=col>&lt;int&gt;</th><th scope=col>&lt;int&gt;</th><th scope=col>&lt;int&gt;</th><th scope=col>&lt;int&gt;</th><th scope=col>&lt;int&gt;</th><th scope=col>&lt;int&gt;</th></tr>\n",
       "</thead>\n",
       "<tbody>\n",
       "\t<tr><th scope=row>1</th><td>GP</td><td>F</td><td>18</td><td>U</td><td>GT3</td><td>A</td><td>4</td><td>4</td><td>at_home</td><td>teacher </td><td>⋯</td><td>4</td><td>3</td><td>4</td><td>1</td><td>1</td><td>3</td><td> 6</td><td> 5</td><td> 6</td><td> 6</td></tr>\n",
       "\t<tr><th scope=row>2</th><td>GP</td><td>F</td><td>17</td><td>U</td><td>GT3</td><td>T</td><td>1</td><td>1</td><td>at_home</td><td>other   </td><td>⋯</td><td>5</td><td>3</td><td>3</td><td>1</td><td>1</td><td>3</td><td> 4</td><td> 5</td><td> 5</td><td> 6</td></tr>\n",
       "\t<tr><th scope=row>3</th><td>GP</td><td>F</td><td>15</td><td>U</td><td>LE3</td><td>T</td><td>1</td><td>1</td><td>at_home</td><td>other   </td><td>⋯</td><td>4</td><td>3</td><td>2</td><td>2</td><td>3</td><td>3</td><td>10</td><td> 7</td><td> 8</td><td>10</td></tr>\n",
       "\t<tr><th scope=row>4</th><td>GP</td><td>F</td><td>15</td><td>U</td><td>GT3</td><td>T</td><td>4</td><td>2</td><td>health </td><td>services</td><td>⋯</td><td>3</td><td>2</td><td>2</td><td>1</td><td>1</td><td>5</td><td> 2</td><td>15</td><td>14</td><td>15</td></tr>\n",
       "\t<tr><th scope=row>5</th><td>GP</td><td>F</td><td>16</td><td>U</td><td>GT3</td><td>T</td><td>3</td><td>3</td><td>other  </td><td>other   </td><td>⋯</td><td>4</td><td>3</td><td>2</td><td>1</td><td>2</td><td>5</td><td> 4</td><td> 6</td><td>10</td><td>10</td></tr>\n",
       "</tbody>\n",
       "</table>\n"
      ],
      "text/latex": [
       "A data.frame: 5 × 33\n",
       "\\begin{tabular}{r|lllllllllllllllllllll}\n",
       "  & school & sex & age & address & famsize & Pstatus & Medu & Fedu & Mjob & Fjob & ⋯ & famrel & freetime & goout & Dalc & Walc & health & absences & G1 & G2 & G3\\\\\n",
       "  & <chr> & <chr> & <int> & <chr> & <chr> & <chr> & <int> & <int> & <chr> & <chr> & ⋯ & <int> & <int> & <int> & <int> & <int> & <int> & <int> & <int> & <int> & <int>\\\\\n",
       "\\hline\n",
       "\t1 & GP & F & 18 & U & GT3 & A & 4 & 4 & at\\_home & teacher  & ⋯ & 4 & 3 & 4 & 1 & 1 & 3 &  6 &  5 &  6 &  6\\\\\n",
       "\t2 & GP & F & 17 & U & GT3 & T & 1 & 1 & at\\_home & other    & ⋯ & 5 & 3 & 3 & 1 & 1 & 3 &  4 &  5 &  5 &  6\\\\\n",
       "\t3 & GP & F & 15 & U & LE3 & T & 1 & 1 & at\\_home & other    & ⋯ & 4 & 3 & 2 & 2 & 3 & 3 & 10 &  7 &  8 & 10\\\\\n",
       "\t4 & GP & F & 15 & U & GT3 & T & 4 & 2 & health  & services & ⋯ & 3 & 2 & 2 & 1 & 1 & 5 &  2 & 15 & 14 & 15\\\\\n",
       "\t5 & GP & F & 16 & U & GT3 & T & 3 & 3 & other   & other    & ⋯ & 4 & 3 & 2 & 1 & 2 & 5 &  4 &  6 & 10 & 10\\\\\n",
       "\\end{tabular}\n"
      ],
      "text/markdown": [
       "\n",
       "A data.frame: 5 × 33\n",
       "\n",
       "| <!--/--> | school &lt;chr&gt; | sex &lt;chr&gt; | age &lt;int&gt; | address &lt;chr&gt; | famsize &lt;chr&gt; | Pstatus &lt;chr&gt; | Medu &lt;int&gt; | Fedu &lt;int&gt; | Mjob &lt;chr&gt; | Fjob &lt;chr&gt; | ⋯ ⋯ | famrel &lt;int&gt; | freetime &lt;int&gt; | goout &lt;int&gt; | Dalc &lt;int&gt; | Walc &lt;int&gt; | health &lt;int&gt; | absences &lt;int&gt; | G1 &lt;int&gt; | G2 &lt;int&gt; | G3 &lt;int&gt; |\n",
       "|---|---|---|---|---|---|---|---|---|---|---|---|---|---|---|---|---|---|---|---|---|---|\n",
       "| 1 | GP | F | 18 | U | GT3 | A | 4 | 4 | at_home | teacher  | ⋯ | 4 | 3 | 4 | 1 | 1 | 3 |  6 |  5 |  6 |  6 |\n",
       "| 2 | GP | F | 17 | U | GT3 | T | 1 | 1 | at_home | other    | ⋯ | 5 | 3 | 3 | 1 | 1 | 3 |  4 |  5 |  5 |  6 |\n",
       "| 3 | GP | F | 15 | U | LE3 | T | 1 | 1 | at_home | other    | ⋯ | 4 | 3 | 2 | 2 | 3 | 3 | 10 |  7 |  8 | 10 |\n",
       "| 4 | GP | F | 15 | U | GT3 | T | 4 | 2 | health  | services | ⋯ | 3 | 2 | 2 | 1 | 1 | 5 |  2 | 15 | 14 | 15 |\n",
       "| 5 | GP | F | 16 | U | GT3 | T | 3 | 3 | other   | other    | ⋯ | 4 | 3 | 2 | 1 | 2 | 5 |  4 |  6 | 10 | 10 |\n",
       "\n"
      ],
      "text/plain": [
       "  school sex age address famsize Pstatus Medu Fedu Mjob    Fjob     ⋯ famrel\n",
       "1 GP     F   18  U       GT3     A       4    4    at_home teacher  ⋯ 4     \n",
       "2 GP     F   17  U       GT3     T       1    1    at_home other    ⋯ 5     \n",
       "3 GP     F   15  U       LE3     T       1    1    at_home other    ⋯ 4     \n",
       "4 GP     F   15  U       GT3     T       4    2    health  services ⋯ 3     \n",
       "5 GP     F   16  U       GT3     T       3    3    other   other    ⋯ 4     \n",
       "  freetime goout Dalc Walc health absences G1 G2 G3\n",
       "1 3        4     1    1    3       6        5  6  6\n",
       "2 3        3     1    1    3       4        5  5  6\n",
       "3 3        2     2    3    3      10        7  8 10\n",
       "4 2        2     1    1    5       2       15 14 15\n",
       "5 3        2     1    2    5       4        6 10 10"
      ]
     },
     "metadata": {},
     "output_type": "display_data"
    },
    {
     "data": {
      "text/html": [
       "<table>\n",
       "<caption>A data.frame: 5 × 33</caption>\n",
       "<thead>\n",
       "\t<tr><th></th><th scope=col>school</th><th scope=col>sex</th><th scope=col>age</th><th scope=col>address</th><th scope=col>famsize</th><th scope=col>Pstatus</th><th scope=col>Medu</th><th scope=col>Fedu</th><th scope=col>Mjob</th><th scope=col>Fjob</th><th scope=col>⋯</th><th scope=col>famrel</th><th scope=col>freetime</th><th scope=col>goout</th><th scope=col>Dalc</th><th scope=col>Walc</th><th scope=col>health</th><th scope=col>absences</th><th scope=col>G1</th><th scope=col>G2</th><th scope=col>G3</th></tr>\n",
       "\t<tr><th></th><th scope=col>&lt;chr&gt;</th><th scope=col>&lt;chr&gt;</th><th scope=col>&lt;int&gt;</th><th scope=col>&lt;chr&gt;</th><th scope=col>&lt;chr&gt;</th><th scope=col>&lt;chr&gt;</th><th scope=col>&lt;int&gt;</th><th scope=col>&lt;int&gt;</th><th scope=col>&lt;chr&gt;</th><th scope=col>&lt;chr&gt;</th><th scope=col>⋯</th><th scope=col>&lt;int&gt;</th><th scope=col>&lt;int&gt;</th><th scope=col>&lt;int&gt;</th><th scope=col>&lt;int&gt;</th><th scope=col>&lt;int&gt;</th><th scope=col>&lt;int&gt;</th><th scope=col>&lt;int&gt;</th><th scope=col>&lt;int&gt;</th><th scope=col>&lt;int&gt;</th><th scope=col>&lt;int&gt;</th></tr>\n",
       "</thead>\n",
       "<tbody>\n",
       "\t<tr><th scope=row>1</th><td>GP</td><td>F</td><td>18</td><td>U</td><td>GT3</td><td>A</td><td>4</td><td>4</td><td>at_home</td><td>teacher </td><td>⋯</td><td>4</td><td>3</td><td>4</td><td>1</td><td>1</td><td>3</td><td>4</td><td> 0</td><td>11</td><td>11</td></tr>\n",
       "\t<tr><th scope=row>2</th><td>GP</td><td>F</td><td>17</td><td>U</td><td>GT3</td><td>T</td><td>1</td><td>1</td><td>at_home</td><td>other   </td><td>⋯</td><td>5</td><td>3</td><td>3</td><td>1</td><td>1</td><td>3</td><td>2</td><td> 9</td><td>11</td><td>11</td></tr>\n",
       "\t<tr><th scope=row>3</th><td>GP</td><td>F</td><td>15</td><td>U</td><td>LE3</td><td>T</td><td>1</td><td>1</td><td>at_home</td><td>other   </td><td>⋯</td><td>4</td><td>3</td><td>2</td><td>2</td><td>3</td><td>3</td><td>6</td><td>12</td><td>13</td><td>12</td></tr>\n",
       "\t<tr><th scope=row>4</th><td>GP</td><td>F</td><td>15</td><td>U</td><td>GT3</td><td>T</td><td>4</td><td>2</td><td>health </td><td>services</td><td>⋯</td><td>3</td><td>2</td><td>2</td><td>1</td><td>1</td><td>5</td><td>0</td><td>14</td><td>14</td><td>14</td></tr>\n",
       "\t<tr><th scope=row>5</th><td>GP</td><td>F</td><td>16</td><td>U</td><td>GT3</td><td>T</td><td>3</td><td>3</td><td>other  </td><td>other   </td><td>⋯</td><td>4</td><td>3</td><td>2</td><td>1</td><td>2</td><td>5</td><td>0</td><td>11</td><td>13</td><td>13</td></tr>\n",
       "</tbody>\n",
       "</table>\n"
      ],
      "text/latex": [
       "A data.frame: 5 × 33\n",
       "\\begin{tabular}{r|lllllllllllllllllllll}\n",
       "  & school & sex & age & address & famsize & Pstatus & Medu & Fedu & Mjob & Fjob & ⋯ & famrel & freetime & goout & Dalc & Walc & health & absences & G1 & G2 & G3\\\\\n",
       "  & <chr> & <chr> & <int> & <chr> & <chr> & <chr> & <int> & <int> & <chr> & <chr> & ⋯ & <int> & <int> & <int> & <int> & <int> & <int> & <int> & <int> & <int> & <int>\\\\\n",
       "\\hline\n",
       "\t1 & GP & F & 18 & U & GT3 & A & 4 & 4 & at\\_home & teacher  & ⋯ & 4 & 3 & 4 & 1 & 1 & 3 & 4 &  0 & 11 & 11\\\\\n",
       "\t2 & GP & F & 17 & U & GT3 & T & 1 & 1 & at\\_home & other    & ⋯ & 5 & 3 & 3 & 1 & 1 & 3 & 2 &  9 & 11 & 11\\\\\n",
       "\t3 & GP & F & 15 & U & LE3 & T & 1 & 1 & at\\_home & other    & ⋯ & 4 & 3 & 2 & 2 & 3 & 3 & 6 & 12 & 13 & 12\\\\\n",
       "\t4 & GP & F & 15 & U & GT3 & T & 4 & 2 & health  & services & ⋯ & 3 & 2 & 2 & 1 & 1 & 5 & 0 & 14 & 14 & 14\\\\\n",
       "\t5 & GP & F & 16 & U & GT3 & T & 3 & 3 & other   & other    & ⋯ & 4 & 3 & 2 & 1 & 2 & 5 & 0 & 11 & 13 & 13\\\\\n",
       "\\end{tabular}\n"
      ],
      "text/markdown": [
       "\n",
       "A data.frame: 5 × 33\n",
       "\n",
       "| <!--/--> | school &lt;chr&gt; | sex &lt;chr&gt; | age &lt;int&gt; | address &lt;chr&gt; | famsize &lt;chr&gt; | Pstatus &lt;chr&gt; | Medu &lt;int&gt; | Fedu &lt;int&gt; | Mjob &lt;chr&gt; | Fjob &lt;chr&gt; | ⋯ ⋯ | famrel &lt;int&gt; | freetime &lt;int&gt; | goout &lt;int&gt; | Dalc &lt;int&gt; | Walc &lt;int&gt; | health &lt;int&gt; | absences &lt;int&gt; | G1 &lt;int&gt; | G2 &lt;int&gt; | G3 &lt;int&gt; |\n",
       "|---|---|---|---|---|---|---|---|---|---|---|---|---|---|---|---|---|---|---|---|---|---|\n",
       "| 1 | GP | F | 18 | U | GT3 | A | 4 | 4 | at_home | teacher  | ⋯ | 4 | 3 | 4 | 1 | 1 | 3 | 4 |  0 | 11 | 11 |\n",
       "| 2 | GP | F | 17 | U | GT3 | T | 1 | 1 | at_home | other    | ⋯ | 5 | 3 | 3 | 1 | 1 | 3 | 2 |  9 | 11 | 11 |\n",
       "| 3 | GP | F | 15 | U | LE3 | T | 1 | 1 | at_home | other    | ⋯ | 4 | 3 | 2 | 2 | 3 | 3 | 6 | 12 | 13 | 12 |\n",
       "| 4 | GP | F | 15 | U | GT3 | T | 4 | 2 | health  | services | ⋯ | 3 | 2 | 2 | 1 | 1 | 5 | 0 | 14 | 14 | 14 |\n",
       "| 5 | GP | F | 16 | U | GT3 | T | 3 | 3 | other   | other    | ⋯ | 4 | 3 | 2 | 1 | 2 | 5 | 0 | 11 | 13 | 13 |\n",
       "\n"
      ],
      "text/plain": [
       "  school sex age address famsize Pstatus Medu Fedu Mjob    Fjob     ⋯ famrel\n",
       "1 GP     F   18  U       GT3     A       4    4    at_home teacher  ⋯ 4     \n",
       "2 GP     F   17  U       GT3     T       1    1    at_home other    ⋯ 5     \n",
       "3 GP     F   15  U       LE3     T       1    1    at_home other    ⋯ 4     \n",
       "4 GP     F   15  U       GT3     T       4    2    health  services ⋯ 3     \n",
       "5 GP     F   16  U       GT3     T       3    3    other   other    ⋯ 4     \n",
       "  freetime goout Dalc Walc health absences G1 G2 G3\n",
       "1 3        4     1    1    3      4         0 11 11\n",
       "2 3        3     1    1    3      2         9 11 11\n",
       "3 3        2     2    3    3      6        12 13 12\n",
       "4 2        2     1    1    5      0        14 14 14\n",
       "5 3        2     1    2    5      0        11 13 13"
      ]
     },
     "metadata": {},
     "output_type": "display_data"
    }
   ],
   "source": [
    "#Idea from: https://stackoverflow.com/questions/3053833/using-r-to-download-zipped-data-file-extract-and-import-data\n",
    "\n",
    "#Data from: https://archive.ics.uci.edu/ml/machine-learning-databases/00320/ \n",
    "#and https://archive.ics.uci.edu/ml/datasets/Student+Performance\n",
    "\n",
    "\n",
    "#make a temporary file \n",
    "tempfile <- tempfile()\n",
    "\n",
    "#download file into temp \n",
    "download.file(\"https://archive.ics.uci.edu/ml/machine-learning-databases/00320/student.zip\", \n",
    "              tempfile) \n",
    "\n",
    "#extract relevant files \n",
    "student_mat <- read.table(unz(tempfile, \"student-mat.csv\"), \n",
    "                          header = TRUE, \n",
    "                          sep = \";\")\n",
    "student_por <- read.table(unz(tempfile, \"student-por.csv\"), \n",
    "                          header = TRUE, \n",
    "                          sep = \";\")\n",
    "unlink(tempfile)\n",
    "\n",
    "#read files to see\n",
    "head(student_mat, 5)\n",
    "head(student_por, 5)\n"
   ]
  },
  {
   "cell_type": "markdown",
   "metadata": {},
   "source": [
    "## Tidying the data/Splitting into training and testing sets\n",
    "For the remaining code in this notebooks, we will be working on the __training data__ only \n",
    "\n",
    "Here, we merge the two datasets to include grades for both Math and Portugese"
   ]
  },
  {
   "cell_type": "code",
   "execution_count": 78,
   "metadata": {},
   "outputs": [
    {
     "data": {
      "text/html": [
       "<table>\n",
       "<caption>A data.frame: 10 × 6</caption>\n",
       "<thead>\n",
       "\t<tr><th></th><th scope=col>goout</th><th scope=col>absences</th><th scope=col>Dalc</th><th scope=col>Walc</th><th scope=col>G3</th><th scope=col>G3_class</th></tr>\n",
       "\t<tr><th></th><th scope=col>&lt;int&gt;</th><th scope=col>&lt;int&gt;</th><th scope=col>&lt;int&gt;</th><th scope=col>&lt;int&gt;</th><th scope=col>&lt;int&gt;</th><th scope=col>&lt;fct&gt;</th></tr>\n",
       "</thead>\n",
       "<tbody>\n",
       "\t<tr><th scope=row>1</th><td>4</td><td> 6</td><td>1</td><td>1</td><td> 6</td><td>F </td></tr>\n",
       "\t<tr><th scope=row>2</th><td>3</td><td> 4</td><td>1</td><td>1</td><td> 6</td><td>F </td></tr>\n",
       "\t<tr><th scope=row>3</th><td>2</td><td>10</td><td>2</td><td>3</td><td>10</td><td>C </td></tr>\n",
       "\t<tr><th scope=row>4</th><td>2</td><td> 2</td><td>1</td><td>1</td><td>15</td><td>B </td></tr>\n",
       "\t<tr><th scope=row>5</th><td>2</td><td> 4</td><td>1</td><td>2</td><td>10</td><td>C </td></tr>\n",
       "\t<tr><th scope=row>6</th><td>2</td><td>10</td><td>1</td><td>2</td><td>15</td><td>B </td></tr>\n",
       "\t<tr><th scope=row>7</th><td>4</td><td> 0</td><td>1</td><td>1</td><td>11</td><td>C </td></tr>\n",
       "\t<tr><th scope=row>8</th><td>4</td><td> 6</td><td>1</td><td>1</td><td> 6</td><td>F </td></tr>\n",
       "\t<tr><th scope=row>9</th><td>2</td><td> 0</td><td>1</td><td>1</td><td>19</td><td>A+</td></tr>\n",
       "\t<tr><th scope=row>10</th><td>1</td><td> 0</td><td>1</td><td>1</td><td>15</td><td>B </td></tr>\n",
       "</tbody>\n",
       "</table>\n"
      ],
      "text/latex": [
       "A data.frame: 10 × 6\n",
       "\\begin{tabular}{r|llllll}\n",
       "  & goout & absences & Dalc & Walc & G3 & G3\\_class\\\\\n",
       "  & <int> & <int> & <int> & <int> & <int> & <fct>\\\\\n",
       "\\hline\n",
       "\t1 & 4 &  6 & 1 & 1 &  6 & F \\\\\n",
       "\t2 & 3 &  4 & 1 & 1 &  6 & F \\\\\n",
       "\t3 & 2 & 10 & 2 & 3 & 10 & C \\\\\n",
       "\t4 & 2 &  2 & 1 & 1 & 15 & B \\\\\n",
       "\t5 & 2 &  4 & 1 & 2 & 10 & C \\\\\n",
       "\t6 & 2 & 10 & 1 & 2 & 15 & B \\\\\n",
       "\t7 & 4 &  0 & 1 & 1 & 11 & C \\\\\n",
       "\t8 & 4 &  6 & 1 & 1 &  6 & F \\\\\n",
       "\t9 & 2 &  0 & 1 & 1 & 19 & A+\\\\\n",
       "\t10 & 1 &  0 & 1 & 1 & 15 & B \\\\\n",
       "\\end{tabular}\n"
      ],
      "text/markdown": [
       "\n",
       "A data.frame: 10 × 6\n",
       "\n",
       "| <!--/--> | goout &lt;int&gt; | absences &lt;int&gt; | Dalc &lt;int&gt; | Walc &lt;int&gt; | G3 &lt;int&gt; | G3_class &lt;fct&gt; |\n",
       "|---|---|---|---|---|---|---|\n",
       "| 1 | 4 |  6 | 1 | 1 |  6 | F  |\n",
       "| 2 | 3 |  4 | 1 | 1 |  6 | F  |\n",
       "| 3 | 2 | 10 | 2 | 3 | 10 | C  |\n",
       "| 4 | 2 |  2 | 1 | 1 | 15 | B  |\n",
       "| 5 | 2 |  4 | 1 | 2 | 10 | C  |\n",
       "| 6 | 2 | 10 | 1 | 2 | 15 | B  |\n",
       "| 7 | 4 |  0 | 1 | 1 | 11 | C  |\n",
       "| 8 | 4 |  6 | 1 | 1 |  6 | F  |\n",
       "| 9 | 2 |  0 | 1 | 1 | 19 | A+ |\n",
       "| 10 | 1 |  0 | 1 | 1 | 15 | B  |\n",
       "\n"
      ],
      "text/plain": [
       "   goout absences Dalc Walc G3 G3_class\n",
       "1  4      6       1    1     6 F       \n",
       "2  3      4       1    1     6 F       \n",
       "3  2     10       2    3    10 C       \n",
       "4  2      2       1    1    15 B       \n",
       "5  2      4       1    2    10 C       \n",
       "6  2     10       1    2    15 B       \n",
       "7  4      0       1    1    11 C       \n",
       "8  4      6       1    1     6 F       \n",
       "9  2      0       1    1    19 A+      \n",
       "10 1      0       1    1    15 B       "
      ]
     },
     "metadata": {},
     "output_type": "display_data"
    },
    {
     "data": {
      "text/html": [
       "<style>\n",
       ".list-inline {list-style: none; margin:0; padding: 0}\n",
       ".list-inline>li {display: inline-block}\n",
       ".list-inline>li:not(:last-child)::after {content: \"\\00b7\"; padding: 0 .5ex}\n",
       "</style>\n",
       "<ol class=list-inline><li>F</li><li>C</li><li>B</li><li>A+</li><li>D</li><li>A</li></ol>\n",
       "\n",
       "<details>\n",
       "\t<summary style=display:list-item;cursor:pointer>\n",
       "\t\t<strong>Levels</strong>:\n",
       "\t</summary>\n",
       "\t<style>\n",
       "\t.list-inline {list-style: none; margin:0; padding: 0}\n",
       "\t.list-inline>li {display: inline-block}\n",
       "\t.list-inline>li:not(:last-child)::after {content: \"\\00b7\"; padding: 0 .5ex}\n",
       "\t</style>\n",
       "\t<ol class=list-inline><li>'A'</li><li>'A+'</li><li>'B'</li><li>'C'</li><li>'D'</li><li>'F'</li></ol>\n",
       "</details>"
      ],
      "text/latex": [
       "\\begin{enumerate*}\n",
       "\\item F\n",
       "\\item C\n",
       "\\item B\n",
       "\\item A+\n",
       "\\item D\n",
       "\\item A\n",
       "\\end{enumerate*}\n",
       "\n",
       "\\emph{Levels}: \\begin{enumerate*}\n",
       "\\item 'A'\n",
       "\\item 'A+'\n",
       "\\item 'B'\n",
       "\\item 'C'\n",
       "\\item 'D'\n",
       "\\item 'F'\n",
       "\\end{enumerate*}\n"
      ],
      "text/markdown": [
       "1. F\n",
       "2. C\n",
       "3. B\n",
       "4. A+\n",
       "5. D\n",
       "6. A\n",
       "\n",
       "\n",
       "\n",
       "**Levels**: 1. 'A'\n",
       "2. 'A+'\n",
       "3. 'B'\n",
       "4. 'C'\n",
       "5. 'D'\n",
       "6. 'F'\n",
       "\n",
       "\n"
      ],
      "text/plain": [
       "[1] F  C  B  A+ D  A \n",
       "Levels: A A+ B C D F"
      ]
     },
     "metadata": {},
     "output_type": "display_data"
    },
    {
     "data": {
      "text/html": [
       "<table>\n",
       "<caption>A data.frame: 4 × 6</caption>\n",
       "<thead>\n",
       "\t<tr><th></th><th scope=col>goout</th><th scope=col>absences</th><th scope=col>Dalc</th><th scope=col>Walc</th><th scope=col>G3</th><th scope=col>G3_class</th></tr>\n",
       "\t<tr><th></th><th scope=col>&lt;int&gt;</th><th scope=col>&lt;int&gt;</th><th scope=col>&lt;int&gt;</th><th scope=col>&lt;int&gt;</th><th scope=col>&lt;int&gt;</th><th scope=col>&lt;fct&gt;</th></tr>\n",
       "</thead>\n",
       "<tbody>\n",
       "\t<tr><th scope=row>1</th><td>4</td><td> 6</td><td>1</td><td>1</td><td> 6</td><td>F</td></tr>\n",
       "\t<tr><th scope=row>2</th><td>3</td><td> 4</td><td>1</td><td>1</td><td> 6</td><td>F</td></tr>\n",
       "\t<tr><th scope=row>3</th><td>2</td><td>10</td><td>2</td><td>3</td><td>10</td><td>C</td></tr>\n",
       "\t<tr><th scope=row>4</th><td>2</td><td> 2</td><td>1</td><td>1</td><td>15</td><td>B</td></tr>\n",
       "</tbody>\n",
       "</table>\n"
      ],
      "text/latex": [
       "A data.frame: 4 × 6\n",
       "\\begin{tabular}{r|llllll}\n",
       "  & goout & absences & Dalc & Walc & G3 & G3\\_class\\\\\n",
       "  & <int> & <int> & <int> & <int> & <int> & <fct>\\\\\n",
       "\\hline\n",
       "\t1 & 4 &  6 & 1 & 1 &  6 & F\\\\\n",
       "\t2 & 3 &  4 & 1 & 1 &  6 & F\\\\\n",
       "\t3 & 2 & 10 & 2 & 3 & 10 & C\\\\\n",
       "\t4 & 2 &  2 & 1 & 1 & 15 & B\\\\\n",
       "\\end{tabular}\n"
      ],
      "text/markdown": [
       "\n",
       "A data.frame: 4 × 6\n",
       "\n",
       "| <!--/--> | goout &lt;int&gt; | absences &lt;int&gt; | Dalc &lt;int&gt; | Walc &lt;int&gt; | G3 &lt;int&gt; | G3_class &lt;fct&gt; |\n",
       "|---|---|---|---|---|---|---|\n",
       "| 1 | 4 |  6 | 1 | 1 |  6 | F |\n",
       "| 2 | 3 |  4 | 1 | 1 |  6 | F |\n",
       "| 3 | 2 | 10 | 2 | 3 | 10 | C |\n",
       "| 4 | 2 |  2 | 1 | 1 | 15 | B |\n",
       "\n"
      ],
      "text/plain": [
       "  goout absences Dalc Walc G3 G3_class\n",
       "1 4      6       1    1     6 F       \n",
       "2 3      4       1    1     6 F       \n",
       "3 2     10       2    3    10 C       \n",
       "4 2      2       1    1    15 B       "
      ]
     },
     "metadata": {},
     "output_type": "display_data"
    }
   ],
   "source": [
    "#Merge the datasets\n",
    "total_set <- rbind(student_mat, student_por) \n",
    "\n",
    "#filter for desired columns\n",
    "filtered_set <- total_set %>% \n",
    "                select(goout, absences, Dalc, Walc, G3)\n",
    "\n",
    "#reduce the number of classes our model needs to predict by grouping final grades (G3)\n",
    "#here, we use the portugese grading system found at: https://www.scholaro.com/pro/Countries/Portugal/Grading-System\n",
    "#this website shows the portugese grades on a 1-20 scale to letter grades on the American Grading System\n",
    "data_with_lg <- filtered_set %>% \n",
    "    mutate(G3_class = case_when((G3 >= 0 & G3 <= 6.99) ~ \"F\",\n",
    "                                (G3 >= 7 & G3 <= 9.99) ~\"D\",\n",
    "                                (G3 >= 10 & G3 <= 13.99) ~ \"C\",\n",
    "                                (G3 >= 14 & G3 <= 15.99) ~ \"B\", \n",
    "                                (G3 >= 16 & G3 <= 17.99) ~ \"A\",\n",
    "                                (G3 >= 18 & G3 <= 20 ~ \"A+\")),\n",
    "          G3_class = as.factor(G3_class)) \n",
    "\n",
    "head(data_with_lg, 10)\n",
    "unique(data_with_lg$G3_class)\n",
    "\n",
    "#split our dataset into a training and testing set.\n",
    "data_split <- initial_split(data_with_lg, prop = 0.75, strata = G3)  #where G3 = final grade\n",
    "data_train <- training(data_split)   \n",
    "data_test <- testing(data_split)\n",
    "head(data_train, 4)"
   ]
  },
  {
   "cell_type": "markdown",
   "metadata": {},
   "source": [
    "# Exploratory Data Analysis: \n",
    "\n",
    "## Average Rate of the three predictor variables "
   ]
  },
  {
   "cell_type": "code",
   "execution_count": 80,
   "metadata": {},
   "outputs": [
    {
     "data": {
      "text/html": [
       "<table>\n",
       "<caption>A tibble: 1 × 4</caption>\n",
       "<thead>\n",
       "\t<tr><th scope=col>goout</th><th scope=col>Dalc</th><th scope=col>Walc</th><th scope=col>absences</th></tr>\n",
       "\t<tr><th scope=col>&lt;dbl&gt;</th><th scope=col>&lt;dbl&gt;</th><th scope=col>&lt;dbl&gt;</th><th scope=col>&lt;dbl&gt;</th></tr>\n",
       "</thead>\n",
       "<tbody>\n",
       "\t<tr><td>3.182166</td><td>1.507006</td><td>2.259873</td><td>4.414013</td></tr>\n",
       "</tbody>\n",
       "</table>\n"
      ],
      "text/latex": [
       "A tibble: 1 × 4\n",
       "\\begin{tabular}{llll}\n",
       " goout & Dalc & Walc & absences\\\\\n",
       " <dbl> & <dbl> & <dbl> & <dbl>\\\\\n",
       "\\hline\n",
       "\t 3.182166 & 1.507006 & 2.259873 & 4.414013\\\\\n",
       "\\end{tabular}\n"
      ],
      "text/markdown": [
       "\n",
       "A tibble: 1 × 4\n",
       "\n",
       "| goout &lt;dbl&gt; | Dalc &lt;dbl&gt; | Walc &lt;dbl&gt; | absences &lt;dbl&gt; |\n",
       "|---|---|---|---|\n",
       "| 3.182166 | 1.507006 | 2.259873 | 4.414013 |\n",
       "\n"
      ],
      "text/plain": [
       "  goout    Dalc     Walc     absences\n",
       "1 3.182166 1.507006 2.259873 4.414013"
      ]
     },
     "metadata": {},
     "output_type": "display_data"
    }
   ],
   "source": [
    "#Find the mean of our predictor variables goout, Dalc, Walc\n",
    "predictor_means <- data_train %>%\n",
    "                   select(goout, Dalc, Walc, absences) %>%\n",
    "                   map_df(mean)\n",
    "predictor_means"
   ]
  },
  {
   "cell_type": "markdown",
   "metadata": {},
   "source": [
    "We can see that on average more people go out with their friends versus drinking alcohol on the weekdays or weekends. It will be interesting to see if this variable has a greater effect on students' grades versus alcohol consumption."
   ]
  },
  {
   "cell_type": "markdown",
   "metadata": {},
   "source": [
    "## Visualization: "
   ]
  },
  {
   "cell_type": "code",
   "execution_count": 81,
   "metadata": {},
   "outputs": [
    {
     "data": {
      "image/png": "[encoded data removed]",
      "text/plain": [
       "plot without title"
      ]
     },
     "metadata": {
      "image/png": {
       "height": 420,
       "width": 420
      }
     },
     "output_type": "display_data"
    },
    {
     "data": {
      "image/png": "[encoded data removed]",
      "text/plain": [
       "plot without title"
      ]
     },
     "metadata": {
      "image/png": {
       "height": 420,
       "width": 420
      }
     },
     "output_type": "display_data"
    },
    {
     "data": {
      "image/png": "[encoded data removed]",
      "text/plain": [
       "plot without title"
      ]
     },
     "metadata": {
      "image/png": {
       "height": 420,
       "width": 420
      }
     },
     "output_type": "display_data"
    },
    {
     "data": {
      "image/png": "[encoded data removed]",
      "text/plain": [
       "plot without title"
      ]
     },
     "metadata": {
      "image/png": {
       "height": 420,
       "width": 420
      }
     },
     "output_type": "display_data"
    }
   ],
   "source": [
    "#plots that display the count of how many people got good grades (G3 >= 15) for each predictor variable\n",
    "\n",
    "#Add Colour Scheme \n",
    "#View RColorBrewer possible palettes \n",
    "display.brewer.all(colorblindFriendly = T)\n",
    "\n",
    "goout_viz <- data_train %>%\n",
    "    filter(G3 >= 15) %>%\n",
    "    ggplot(aes(x = goout)) +\n",
    "    geom_bar(width = 0.75) +\n",
    "    labs(x = \"Going Out With Friends (1-5)\", \n",
    "        y = \"Count of grades >= 15\") + \n",
    "    ggtitle(\"Going out with friends and Grade Achieved\") + \n",
    "    theme_bw()\n",
    "    \n",
    "dalc_viz <- data_train %>%\n",
    "    filter(G3 >= 15) %>%\n",
    "    ggplot(aes(x = Dalc)) +\n",
    "    geom_bar(width = 0.75) +\n",
    "    labs(x = \"Daytime Alcohol Consumption\", \n",
    "        y = \"Count of grades >= 15\") + \n",
    "    ggtitle(\"Day time alcohol consumption and Grades Achieved\") + \n",
    "    theme_bw()\n",
    "walc_viz <- data_train %>%\n",
    "    filter(G3 >= 15) %>%\n",
    "    ggplot(aes(x = Walc)) +\n",
    "    geom_bar(width = 0.75) +\n",
    "    labs(x = \"Weekend Alcohol Consumption\", \n",
    "        y = \"Count of Grades >= 15\") + \n",
    "    ggtitle(\"Weekend Alcohol Consumption and Grades Achieved\") + \n",
    "    theme_bw()\n",
    "goout_viz\n",
    "dalc_viz\n",
    "walc_viz"
   ]
  },
  {
   "cell_type": "markdown",
   "metadata": {},
   "source": [
    "We can see that there is a clear trend with alcohol consumption - students who drink more alcohol tend to not get good grades. However, the trend is not as clear with the \"going out with friends\" variable. "
   ]
  },
  {
   "cell_type": "markdown",
   "metadata": {},
   "source": [
    "# SEPARATOR ---------------------------------------------------------------------------------------"
   ]
  },
  {
   "cell_type": "markdown",
   "metadata": {},
   "source": [
    "# Results "
   ]
  },
  {
   "cell_type": "markdown",
   "metadata": {},
   "source": [
    "## K Nearest Neighbours Classification\n",
    "\n",
    "Using this data, we wish to create a classifier that may be usable by school staff to predict the letter grades students will fall into based on their daytime/weekend alcohol consumption as well as the time they spend out with friends. "
   ]
  },
  {
   "cell_type": "markdown",
   "metadata": {},
   "source": [
    "## Step 1: Data Preprocessing \n"
   ]
  },
  {
   "cell_type": "code",
   "execution_count": 100,
   "metadata": {},
   "outputs": [
    {
     "data": {
      "text/html": [
       "<table>\n",
       "<caption>A data.frame: 4 × 6</caption>\n",
       "<thead>\n",
       "\t<tr><th></th><th scope=col>goout</th><th scope=col>absences</th><th scope=col>Dalc</th><th scope=col>Walc</th><th scope=col>G3</th><th scope=col>G3_class</th></tr>\n",
       "\t<tr><th></th><th scope=col>&lt;int&gt;</th><th scope=col>&lt;int&gt;</th><th scope=col>&lt;int&gt;</th><th scope=col>&lt;int&gt;</th><th scope=col>&lt;int&gt;</th><th scope=col>&lt;fct&gt;</th></tr>\n",
       "</thead>\n",
       "<tbody>\n",
       "\t<tr><th scope=row>1</th><td>4</td><td>6</td><td>1</td><td>1</td><td> 6</td><td>F</td></tr>\n",
       "\t<tr><th scope=row>2</th><td>3</td><td>4</td><td>1</td><td>1</td><td> 6</td><td>F</td></tr>\n",
       "\t<tr><th scope=row>4</th><td>2</td><td>2</td><td>1</td><td>1</td><td>15</td><td>B</td></tr>\n",
       "\t<tr><th scope=row>5</th><td>2</td><td>4</td><td>1</td><td>2</td><td>10</td><td>C</td></tr>\n",
       "</tbody>\n",
       "</table>\n"
      ],
      "text/latex": [
       "A data.frame: 4 × 6\n",
       "\\begin{tabular}{r|llllll}\n",
       "  & goout & absences & Dalc & Walc & G3 & G3\\_class\\\\\n",
       "  & <int> & <int> & <int> & <int> & <int> & <fct>\\\\\n",
       "\\hline\n",
       "\t1 & 4 & 6 & 1 & 1 &  6 & F\\\\\n",
       "\t2 & 3 & 4 & 1 & 1 &  6 & F\\\\\n",
       "\t4 & 2 & 2 & 1 & 1 & 15 & B\\\\\n",
       "\t5 & 2 & 4 & 1 & 2 & 10 & C\\\\\n",
       "\\end{tabular}\n"
      ],
      "text/markdown": [
       "\n",
       "A data.frame: 4 × 6\n",
       "\n",
       "| <!--/--> | goout &lt;int&gt; | absences &lt;int&gt; | Dalc &lt;int&gt; | Walc &lt;int&gt; | G3 &lt;int&gt; | G3_class &lt;fct&gt; |\n",
       "|---|---|---|---|---|---|---|\n",
       "| 1 | 4 | 6 | 1 | 1 |  6 | F |\n",
       "| 2 | 3 | 4 | 1 | 1 |  6 | F |\n",
       "| 4 | 2 | 2 | 1 | 1 | 15 | B |\n",
       "| 5 | 2 | 4 | 1 | 2 | 10 | C |\n",
       "\n"
      ],
      "text/plain": [
       "  goout absences Dalc Walc G3 G3_class\n",
       "1 4     6        1    1     6 F       \n",
       "2 3     4        1    1     6 F       \n",
       "4 2     2        1    1    15 B       \n",
       "5 2     4        1    2    10 C       "
      ]
     },
     "metadata": {},
     "output_type": "display_data"
    },
    {
     "name": "stderr",
     "output_type": "stream",
     "text": [
      "`summarise()` ungrouping output (override with `.groups` argument)\n",
      "\n"
     ]
    },
    {
     "data": {
      "text/html": [
       "<table>\n",
       "<caption>A tibble: 17 × 3</caption>\n",
       "<thead>\n",
       "\t<tr><th scope=col>G3</th><th scope=col>n</th><th scope=col>percentage</th></tr>\n",
       "\t<tr><th scope=col>&lt;int&gt;</th><th scope=col>&lt;int&gt;</th><th scope=col>&lt;dbl&gt;</th></tr>\n",
       "</thead>\n",
       "<tbody>\n",
       "\t<tr><td> 0</td><td> 41</td><td> 5.2295918</td></tr>\n",
       "\t<tr><td> 1</td><td>  1</td><td> 0.1275510</td></tr>\n",
       "\t<tr><td> 5</td><td>  7</td><td> 0.8928571</td></tr>\n",
       "\t<tr><td> 6</td><td> 15</td><td> 1.9132653</td></tr>\n",
       "\t<tr><td> 7</td><td> 15</td><td> 1.9132653</td></tr>\n",
       "\t<tr><td> 8</td><td> 50</td><td> 6.3775510</td></tr>\n",
       "\t<tr><td> 9</td><td> 46</td><td> 5.8673469</td></tr>\n",
       "\t<tr><td>10</td><td>119</td><td>15.1785714</td></tr>\n",
       "\t<tr><td>11</td><td>106</td><td>13.5204082</td></tr>\n",
       "\t<tr><td>12</td><td> 73</td><td> 9.3112245</td></tr>\n",
       "\t<tr><td>13</td><td> 90</td><td>11.4795918</td></tr>\n",
       "\t<tr><td>14</td><td> 71</td><td> 9.0561224</td></tr>\n",
       "\t<tr><td>15</td><td> 59</td><td> 7.5255102</td></tr>\n",
       "\t<tr><td>16</td><td> 39</td><td> 4.9744898</td></tr>\n",
       "\t<tr><td>17</td><td> 23</td><td> 2.9336735</td></tr>\n",
       "\t<tr><td>18</td><td> 22</td><td> 2.8061224</td></tr>\n",
       "\t<tr><td>19</td><td>  7</td><td> 0.8928571</td></tr>\n",
       "</tbody>\n",
       "</table>\n"
      ],
      "text/latex": [
       "A tibble: 17 × 3\n",
       "\\begin{tabular}{lll}\n",
       " G3 & n & percentage\\\\\n",
       " <int> & <int> & <dbl>\\\\\n",
       "\\hline\n",
       "\t  0 &  41 &  5.2295918\\\\\n",
       "\t  1 &   1 &  0.1275510\\\\\n",
       "\t  5 &   7 &  0.8928571\\\\\n",
       "\t  6 &  15 &  1.9132653\\\\\n",
       "\t  7 &  15 &  1.9132653\\\\\n",
       "\t  8 &  50 &  6.3775510\\\\\n",
       "\t  9 &  46 &  5.8673469\\\\\n",
       "\t 10 & 119 & 15.1785714\\\\\n",
       "\t 11 & 106 & 13.5204082\\\\\n",
       "\t 12 &  73 &  9.3112245\\\\\n",
       "\t 13 &  90 & 11.4795918\\\\\n",
       "\t 14 &  71 &  9.0561224\\\\\n",
       "\t 15 &  59 &  7.5255102\\\\\n",
       "\t 16 &  39 &  4.9744898\\\\\n",
       "\t 17 &  23 &  2.9336735\\\\\n",
       "\t 18 &  22 &  2.8061224\\\\\n",
       "\t 19 &   7 &  0.8928571\\\\\n",
       "\\end{tabular}\n"
      ],
      "text/markdown": [
       "\n",
       "A tibble: 17 × 3\n",
       "\n",
       "| G3 &lt;int&gt; | n &lt;int&gt; | percentage &lt;dbl&gt; |\n",
       "|---|---|---|\n",
       "|  0 |  41 |  5.2295918 |\n",
       "|  1 |   1 |  0.1275510 |\n",
       "|  5 |   7 |  0.8928571 |\n",
       "|  6 |  15 |  1.9132653 |\n",
       "|  7 |  15 |  1.9132653 |\n",
       "|  8 |  50 |  6.3775510 |\n",
       "|  9 |  46 |  5.8673469 |\n",
       "| 10 | 119 | 15.1785714 |\n",
       "| 11 | 106 | 13.5204082 |\n",
       "| 12 |  73 |  9.3112245 |\n",
       "| 13 |  90 | 11.4795918 |\n",
       "| 14 |  71 |  9.0561224 |\n",
       "| 15 |  59 |  7.5255102 |\n",
       "| 16 |  39 |  4.9744898 |\n",
       "| 17 |  23 |  2.9336735 |\n",
       "| 18 |  22 |  2.8061224 |\n",
       "| 19 |   7 |  0.8928571 |\n",
       "\n"
      ],
      "text/plain": [
       "   G3 n   percentage\n",
       "1   0  41  5.2295918\n",
       "2   1   1  0.1275510\n",
       "3   5   7  0.8928571\n",
       "4   6  15  1.9132653\n",
       "5   7  15  1.9132653\n",
       "6   8  50  6.3775510\n",
       "7   9  46  5.8673469\n",
       "8  10 119 15.1785714\n",
       "9  11 106 13.5204082\n",
       "10 12  73  9.3112245\n",
       "11 13  90 11.4795918\n",
       "12 14  71  9.0561224\n",
       "13 15  59  7.5255102\n",
       "14 16  39  4.9744898\n",
       "15 17  23  2.9336735\n",
       "16 18  22  2.8061224\n",
       "17 19   7  0.8928571"
      ]
     },
     "metadata": {},
     "output_type": "display_data"
    }
   ],
   "source": [
    "#first see if the number of observations for each class is similar, otherwise the model will not be properly trained. \n",
    "\n",
    "#Here, we need to split a new set of data. This time, using G3_class as the strata\n",
    "\n",
    "G3_class_split <- initial_split(data_with_lg, prop = 0.75, strata = G3_class)\n",
    "G3_class_data_train <- training(G3_class_split)   \n",
    "G3_class_data_test <- testing(G3_class_split)\n",
    "head(G3_class_data_train, 4)\n",
    "\n",
    "instances_for_classes <- G3_class_data_train %>%  \n",
    "    select(G3) %>%  \n",
    "    group_by(G3) %>%  \n",
    "    summarize(n = n(),\n",
    "            percentage = n() / nrow(G3_class_data_train) * 100)\n",
    "\n",
    "instances_for_classes"
   ]
  },
  {
   "cell_type": "markdown",
   "metadata": {},
   "source": [
    "Here, we can see from the summary table the number of observations for each class. Since there is a class imbalance, we would need to __balance__ the labels. "
   ]
  },
  {
   "cell_type": "markdown",
   "metadata": {},
   "source": [
    "### Data Preprocessing\n"
   ]
  },
  {
   "cell_type": "code",
   "execution_count": 101,
   "metadata": {},
   "outputs": [
    {
     "name": "stderr",
     "output_type": "stream",
     "text": [
      "`summarise()` ungrouping output (override with `.groups` argument)\n",
      "\n"
     ]
    },
    {
     "data": {
      "text/html": [
       "<table>\n",
       "<caption>A tibble: 6 × 3</caption>\n",
       "<thead>\n",
       "\t<tr><th scope=col>G3_class</th><th scope=col>n</th><th scope=col>percentage</th></tr>\n",
       "\t<tr><th scope=col>&lt;fct&gt;</th><th scope=col>&lt;int&gt;</th><th scope=col>&lt;dbl&gt;</th></tr>\n",
       "</thead>\n",
       "<tbody>\n",
       "\t<tr><td>A </td><td> 62</td><td> 7.908163</td></tr>\n",
       "\t<tr><td>A+</td><td> 29</td><td> 3.698980</td></tr>\n",
       "\t<tr><td>B </td><td>130</td><td>16.581633</td></tr>\n",
       "\t<tr><td>C </td><td>388</td><td>49.489796</td></tr>\n",
       "\t<tr><td>D </td><td>111</td><td>14.158163</td></tr>\n",
       "\t<tr><td>F </td><td> 64</td><td> 8.163265</td></tr>\n",
       "</tbody>\n",
       "</table>\n"
      ],
      "text/latex": [
       "A tibble: 6 × 3\n",
       "\\begin{tabular}{lll}\n",
       " G3\\_class & n & percentage\\\\\n",
       " <fct> & <int> & <dbl>\\\\\n",
       "\\hline\n",
       "\t A  &  62 &  7.908163\\\\\n",
       "\t A+ &  29 &  3.698980\\\\\n",
       "\t B  & 130 & 16.581633\\\\\n",
       "\t C  & 388 & 49.489796\\\\\n",
       "\t D  & 111 & 14.158163\\\\\n",
       "\t F  &  64 &  8.163265\\\\\n",
       "\\end{tabular}\n"
      ],
      "text/markdown": [
       "\n",
       "A tibble: 6 × 3\n",
       "\n",
       "| G3_class &lt;fct&gt; | n &lt;int&gt; | percentage &lt;dbl&gt; |\n",
       "|---|---|---|\n",
       "| A  |  62 |  7.908163 |\n",
       "| A+ |  29 |  3.698980 |\n",
       "| B  | 130 | 16.581633 |\n",
       "| C  | 388 | 49.489796 |\n",
       "| D  | 111 | 14.158163 |\n",
       "| F  |  64 |  8.163265 |\n",
       "\n"
      ],
      "text/plain": [
       "  G3_class n   percentage\n",
       "1 A         62  7.908163 \n",
       "2 A+        29  3.698980 \n",
       "3 B        130 16.581633 \n",
       "4 C        388 49.489796 \n",
       "5 D        111 14.158163 \n",
       "6 F         64  8.163265 "
      ]
     },
     "metadata": {},
     "output_type": "display_data"
    }
   ],
   "source": [
    "#Add summary to check if class imbalance is present. \n",
    "class_imbalance_summary <- G3_class_data_train %>% \n",
    "    select(G3_class) %>% \n",
    "    group_by(G3_class) %>% \n",
    "    summarize(n = n(),\n",
    "              percentage = n() / nrow(G3_class_data_train) * 100)\n",
    "\n",
    "class_imbalance_summary"
   ]
  },
  {
   "cell_type": "markdown",
   "metadata": {},
   "source": [
    "Here, we can see from the summary table the number of observations for each class. Since there is a class imbalance, we would need to __balance__ the labels. We can do this using __step_upsample__ in the recipe. \n",
    "\n",
    "Next, we can check the range of our predictor values. If they are not on scales that are meaningfully different, we will need to scale them. "
   ]
  },
  {
   "cell_type": "code",
   "execution_count": 102,
   "metadata": {},
   "outputs": [
    {
     "data": {
      "text/html": [
       "<table>\n",
       "<caption>A tibble: 2 × 5</caption>\n",
       "<thead>\n",
       "\t<tr><th scope=col>goout</th><th scope=col>absences</th><th scope=col>Dalc</th><th scope=col>Walc</th><th scope=col>G3</th></tr>\n",
       "\t<tr><th scope=col>&lt;int&gt;</th><th scope=col>&lt;int&gt;</th><th scope=col>&lt;int&gt;</th><th scope=col>&lt;int&gt;</th><th scope=col>&lt;int&gt;</th></tr>\n",
       "</thead>\n",
       "<tbody>\n",
       "\t<tr><td>1</td><td> 0</td><td>1</td><td>1</td><td> 0</td></tr>\n",
       "\t<tr><td>5</td><td>75</td><td>5</td><td>5</td><td>19</td></tr>\n",
       "</tbody>\n",
       "</table>\n"
      ],
      "text/latex": [
       "A tibble: 2 × 5\n",
       "\\begin{tabular}{lllll}\n",
       " goout & absences & Dalc & Walc & G3\\\\\n",
       " <int> & <int> & <int> & <int> & <int>\\\\\n",
       "\\hline\n",
       "\t 1 &  0 & 1 & 1 &  0\\\\\n",
       "\t 5 & 75 & 5 & 5 & 19\\\\\n",
       "\\end{tabular}\n"
      ],
      "text/markdown": [
       "\n",
       "A tibble: 2 × 5\n",
       "\n",
       "| goout &lt;int&gt; | absences &lt;int&gt; | Dalc &lt;int&gt; | Walc &lt;int&gt; | G3 &lt;int&gt; |\n",
       "|---|---|---|---|---|\n",
       "| 1 |  0 | 1 | 1 |  0 |\n",
       "| 5 | 75 | 5 | 5 | 19 |\n",
       "\n"
      ],
      "text/plain": [
       "  goout absences Dalc Walc G3\n",
       "1 1      0       1    1     0\n",
       "2 5     75       5    5    19"
      ]
     },
     "metadata": {},
     "output_type": "display_data"
    }
   ],
   "source": [
    "#Check scales of the predictor variables \n",
    "\n",
    "predictor_scales <- G3_class_data_train %>%  \n",
    "    select(-G3_class) %>% \n",
    "    map_df(range) #using map_df to iterate over columns. \n",
    "\n",
    "predictor_scales"
   ]
  },
  {
   "cell_type": "markdown",
   "metadata": {},
   "source": [
    "From this analysis, we can see that goout, Dalc, Walc are on on the same scale. Thus, scaling is not explicitly needed here. For completeness, however, we will scale as practice. "
   ]
  },
  {
   "cell_type": "code",
   "execution_count": 104,
   "metadata": {},
   "outputs": [
    {
     "data": {
      "text/html": [
       "784"
      ],
      "text/latex": [
       "784"
      ],
      "text/markdown": [
       "784"
      ],
      "text/plain": [
       "[1] 784"
      ]
     },
     "metadata": {},
     "output_type": "display_data"
    },
    {
     "data": {
      "text/html": [
       "<table>\n",
       "<caption>A tibble: 6 × 7</caption>\n",
       "<thead>\n",
       "\t<tr><th scope=col>neighbors</th><th scope=col>.metric</th><th scope=col>.estimator</th><th scope=col>mean</th><th scope=col>n</th><th scope=col>std_err</th><th scope=col>.config</th></tr>\n",
       "\t<tr><th scope=col>&lt;int&gt;</th><th scope=col>&lt;chr&gt;</th><th scope=col>&lt;chr&gt;</th><th scope=col>&lt;dbl&gt;</th><th scope=col>&lt;int&gt;</th><th scope=col>&lt;dbl&gt;</th><th scope=col>&lt;chr&gt;</th></tr>\n",
       "</thead>\n",
       "<tbody>\n",
       "\t<tr><td>1</td><td>accuracy</td><td>multiclass</td><td>0.2092152</td><td>10</td><td>0.01683007</td><td>Model01</td></tr>\n",
       "\t<tr><td>2</td><td>accuracy</td><td>multiclass</td><td>0.2016024</td><td>10</td><td>0.01640725</td><td>Model02</td></tr>\n",
       "\t<tr><td>3</td><td>accuracy</td><td>multiclass</td><td>0.2195049</td><td>10</td><td>0.01110608</td><td>Model03</td></tr>\n",
       "\t<tr><td>4</td><td>accuracy</td><td>multiclass</td><td>0.2413160</td><td>10</td><td>0.01680377</td><td>Model04</td></tr>\n",
       "\t<tr><td>5</td><td>accuracy</td><td>multiclass</td><td>0.2311075</td><td>10</td><td>0.01985898</td><td>Model05</td></tr>\n",
       "\t<tr><td>6</td><td>accuracy</td><td>multiclass</td><td>0.2667644</td><td>10</td><td>0.01276594</td><td>Model06</td></tr>\n",
       "</tbody>\n",
       "</table>\n"
      ],
      "text/latex": [
       "A tibble: 6 × 7\n",
       "\\begin{tabular}{lllllll}\n",
       " neighbors & .metric & .estimator & mean & n & std\\_err & .config\\\\\n",
       " <int> & <chr> & <chr> & <dbl> & <int> & <dbl> & <chr>\\\\\n",
       "\\hline\n",
       "\t 1 & accuracy & multiclass & 0.2092152 & 10 & 0.01683007 & Model01\\\\\n",
       "\t 2 & accuracy & multiclass & 0.2016024 & 10 & 0.01640725 & Model02\\\\\n",
       "\t 3 & accuracy & multiclass & 0.2195049 & 10 & 0.01110608 & Model03\\\\\n",
       "\t 4 & accuracy & multiclass & 0.2413160 & 10 & 0.01680377 & Model04\\\\\n",
       "\t 5 & accuracy & multiclass & 0.2311075 & 10 & 0.01985898 & Model05\\\\\n",
       "\t 6 & accuracy & multiclass & 0.2667644 & 10 & 0.01276594 & Model06\\\\\n",
       "\\end{tabular}\n"
      ],
      "text/markdown": [
       "\n",
       "A tibble: 6 × 7\n",
       "\n",
       "| neighbors &lt;int&gt; | .metric &lt;chr&gt; | .estimator &lt;chr&gt; | mean &lt;dbl&gt; | n &lt;int&gt; | std_err &lt;dbl&gt; | .config &lt;chr&gt; |\n",
       "|---|---|---|---|---|---|---|\n",
       "| 1 | accuracy | multiclass | 0.2092152 | 10 | 0.01683007 | Model01 |\n",
       "| 2 | accuracy | multiclass | 0.2016024 | 10 | 0.01640725 | Model02 |\n",
       "| 3 | accuracy | multiclass | 0.2195049 | 10 | 0.01110608 | Model03 |\n",
       "| 4 | accuracy | multiclass | 0.2413160 | 10 | 0.01680377 | Model04 |\n",
       "| 5 | accuracy | multiclass | 0.2311075 | 10 | 0.01985898 | Model05 |\n",
       "| 6 | accuracy | multiclass | 0.2667644 | 10 | 0.01276594 | Model06 |\n",
       "\n"
      ],
      "text/plain": [
       "  neighbors .metric  .estimator mean      n  std_err    .config\n",
       "1 1         accuracy multiclass 0.2092152 10 0.01683007 Model01\n",
       "2 2         accuracy multiclass 0.2016024 10 0.01640725 Model02\n",
       "3 3         accuracy multiclass 0.2195049 10 0.01110608 Model03\n",
       "4 4         accuracy multiclass 0.2413160 10 0.01680377 Model04\n",
       "5 5         accuracy multiclass 0.2311075 10 0.01985898 Model05\n",
       "6 6         accuracy multiclass 0.2667644 10 0.01276594 Model06"
      ]
     },
     "metadata": {},
     "output_type": "display_data"
    },
    {
     "data": {
      "text/html": [
       "<table>\n",
       "<caption>A tibble: 6 × 7</caption>\n",
       "<thead>\n",
       "\t<tr><th scope=col>neighbors</th><th scope=col>.metric</th><th scope=col>.estimator</th><th scope=col>mean</th><th scope=col>n</th><th scope=col>std_err</th><th scope=col>.config</th></tr>\n",
       "\t<tr><th scope=col>&lt;int&gt;</th><th scope=col>&lt;chr&gt;</th><th scope=col>&lt;chr&gt;</th><th scope=col>&lt;dbl&gt;</th><th scope=col>&lt;int&gt;</th><th scope=col>&lt;dbl&gt;</th><th scope=col>&lt;chr&gt;</th></tr>\n",
       "</thead>\n",
       "<tbody>\n",
       "\t<tr><td>35</td><td>accuracy</td><td>multiclass</td><td>0.4948699</td><td>10</td><td>0.007111572</td><td>Model35</td></tr>\n",
       "\t<tr><td>36</td><td>accuracy</td><td>multiclass</td><td>0.4948699</td><td>10</td><td>0.007111572</td><td>Model36</td></tr>\n",
       "\t<tr><td>37</td><td>accuracy</td><td>multiclass</td><td>0.4948699</td><td>10</td><td>0.007111572</td><td>Model37</td></tr>\n",
       "\t<tr><td>38</td><td>accuracy</td><td>multiclass</td><td>0.4948699</td><td>10</td><td>0.007111572</td><td>Model38</td></tr>\n",
       "\t<tr><td>39</td><td>accuracy</td><td>multiclass</td><td>0.4948699</td><td>10</td><td>0.007111572</td><td>Model39</td></tr>\n",
       "\t<tr><td>40</td><td>accuracy</td><td>multiclass</td><td>0.4948699</td><td>10</td><td>0.007111572</td><td>Model40</td></tr>\n",
       "</tbody>\n",
       "</table>\n"
      ],
      "text/latex": [
       "A tibble: 6 × 7\n",
       "\\begin{tabular}{lllllll}\n",
       " neighbors & .metric & .estimator & mean & n & std\\_err & .config\\\\\n",
       " <int> & <chr> & <chr> & <dbl> & <int> & <dbl> & <chr>\\\\\n",
       "\\hline\n",
       "\t 35 & accuracy & multiclass & 0.4948699 & 10 & 0.007111572 & Model35\\\\\n",
       "\t 36 & accuracy & multiclass & 0.4948699 & 10 & 0.007111572 & Model36\\\\\n",
       "\t 37 & accuracy & multiclass & 0.4948699 & 10 & 0.007111572 & Model37\\\\\n",
       "\t 38 & accuracy & multiclass & 0.4948699 & 10 & 0.007111572 & Model38\\\\\n",
       "\t 39 & accuracy & multiclass & 0.4948699 & 10 & 0.007111572 & Model39\\\\\n",
       "\t 40 & accuracy & multiclass & 0.4948699 & 10 & 0.007111572 & Model40\\\\\n",
       "\\end{tabular}\n"
      ],
      "text/markdown": [
       "\n",
       "A tibble: 6 × 7\n",
       "\n",
       "| neighbors &lt;int&gt; | .metric &lt;chr&gt; | .estimator &lt;chr&gt; | mean &lt;dbl&gt; | n &lt;int&gt; | std_err &lt;dbl&gt; | .config &lt;chr&gt; |\n",
       "|---|---|---|---|---|---|---|\n",
       "| 35 | accuracy | multiclass | 0.4948699 | 10 | 0.007111572 | Model35 |\n",
       "| 36 | accuracy | multiclass | 0.4948699 | 10 | 0.007111572 | Model36 |\n",
       "| 37 | accuracy | multiclass | 0.4948699 | 10 | 0.007111572 | Model37 |\n",
       "| 38 | accuracy | multiclass | 0.4948699 | 10 | 0.007111572 | Model38 |\n",
       "| 39 | accuracy | multiclass | 0.4948699 | 10 | 0.007111572 | Model39 |\n",
       "| 40 | accuracy | multiclass | 0.4948699 | 10 | 0.007111572 | Model40 |\n",
       "\n"
      ],
      "text/plain": [
       "  neighbors .metric  .estimator mean      n  std_err     .config\n",
       "1 35        accuracy multiclass 0.4948699 10 0.007111572 Model35\n",
       "2 36        accuracy multiclass 0.4948699 10 0.007111572 Model36\n",
       "3 37        accuracy multiclass 0.4948699 10 0.007111572 Model37\n",
       "4 38        accuracy multiclass 0.4948699 10 0.007111572 Model38\n",
       "5 39        accuracy multiclass 0.4948699 10 0.007111572 Model39\n",
       "6 40        accuracy multiclass 0.4948699 10 0.007111572 Model40"
      ]
     },
     "metadata": {},
     "output_type": "display_data"
    }
   ],
   "source": [
    "set.seed(1000)\n",
    "\n",
    "#Create recipe \n",
    "#lg = letter grade\n",
    "\n",
    "data_train_no_grade <- G3_class_data_train %>%  \n",
    "    select(-G3)\n",
    "\n",
    "nrow(data_train_no_grade)\n",
    "\n",
    "#To work around an error induced by step_upsample, we will first upsample the data_train_new_classifier dataframe. \n",
    "upsample_recipe <- recipe(G3_class ~ Walc + Dalc, \n",
    "                          data = data_train_no_grade) %>% \n",
    "    step_upsample(G3_class, over_ratio = 1, skip = FALSE) %>% \n",
    "    prep()\n",
    "\n",
    "#Here, we upscale the dataframe by applying the recipe to unedited dataframe\n",
    "upsampled_data_train_no_grade <- bake(upsample_recipe, \n",
    "                                      data_train_no_grade)\n",
    "\n",
    "#Here, we create another recipe to be used in the workflow. We use the upsampled dataframe.\n",
    "lg_classifier_recipe <- recipe(G3_class ~ Walc + Dalc, \n",
    "                              data = upsampled_data_train_no_grade) %>% \n",
    "    step_scale(all_predictors()) %>%  \n",
    "    step_center(all_predictors()) \n",
    "\n",
    "\n",
    "#Further split data for CROSS-VALIDATION to select a suitable K\n",
    "#data_train_new_classifier has 785 observations. For completeness, we can try using v = 10 for 10 fold cross-validation\n",
    "lg_data_cv <- data_train_no_grade %>% \n",
    "    vfold_cv(v = 10, strata = G3_class)\n",
    "\n",
    "#                 QUESTION! DO WE USE THE UPSAMPLED DATA HERE? OR ORIGINAL TRAINING DATA\n",
    "#when i use the upsampled one, all K's give roughly the same accuracy (0.25)\n",
    "\n",
    "\n",
    "#Create model specification \n",
    "lg_classifier_knn_spec_tune <- nearest_neighbor(weight_func = \"rectangular\", \n",
    "                                          neighbors = tune()) %>%  \n",
    "    set_engine(\"kknn\") %>% \n",
    "    set_mode(\"classification\") \n",
    "\n",
    "gridvals <- tibble(neighbors = seq(1:40))\n",
    "\n",
    "#Create workflow for cross validation \n",
    "cv_workflow <- workflow() %>% \n",
    "    add_recipe(lg_classifier_recipe) %>%  \n",
    "    add_model(lg_classifier_knn_spec_tune) %>%  \n",
    "    tune_grid(resamples = lg_data_cv, \n",
    "              grid = gridvals)\n",
    "\n",
    "cv_metrics <- cv_workflow %>%  \n",
    "    collect_metrics() %>% \n",
    "    filter(.metric == \"accuracy\")\n",
    "\n",
    "head(cv_metrics)\n",
    "tail(cv_metrics)"
   ]
  },
  {
   "cell_type": "markdown",
   "metadata": {},
   "source": [
    "Table X. As can be seen, the accuracy estimates are very low. This may indicate that our predictors may not be the most suitable for our classifier. "
   ]
  },
  {
   "cell_type": "code",
   "execution_count": 107,
   "metadata": {},
   "outputs": [
    {
     "data": {
      "image/png": "[encoded data removed]",
      "text/plain": [
       "plot without title"
      ]
     },
     "metadata": {
      "image/png": {
       "height": 420,
       "width": 420
      }
     },
     "output_type": "display_data"
    }
   ],
   "source": [
    "#Visualize the K\n",
    "k_plot <- cv_metrics %>% \n",
    "    select(neighbors, mean) %>% \n",
    "    ggplot(aes(x = neighbors, \n",
    "              y = mean)) + \n",
    "    geom_point() + \n",
    "    geom_line() +\n",
    "    labs(x = \"K\", \n",
    "         y = \"Accuracy Estimate\") + \n",
    "    scale_x_continuous(n.breaks = 20) + \n",
    "    scale_y_continuous(n.breaks = 10)\n",
    "\n",
    "k_plot"
   ]
  },
  {
   "cell_type": "markdown",
   "metadata": {},
   "source": [
    "Figure X. Plotting K versus Accuracy shows that the optimal K value would be 21. However, it is important to note that the accuarcy estimate is very low (~0.5), which indicates that our predictors may not be very accurate. "
   ]
  },
  {
   "cell_type": "code",
   "execution_count": 88,
   "metadata": {},
   "outputs": [
    {
     "data": {
      "text/html": [
       "<table>\n",
       "<caption>A tibble: 6 × 7</caption>\n",
       "<thead>\n",
       "\t<tr><th scope=col>.pred_class</th><th scope=col>goout</th><th scope=col>absences</th><th scope=col>Dalc</th><th scope=col>Walc</th><th scope=col>G3</th><th scope=col>G3_class</th></tr>\n",
       "\t<tr><th scope=col>&lt;fct&gt;</th><th scope=col>&lt;int&gt;</th><th scope=col>&lt;int&gt;</th><th scope=col>&lt;int&gt;</th><th scope=col>&lt;int&gt;</th><th scope=col>&lt;int&gt;</th><th scope=col>&lt;fct&gt;</th></tr>\n",
       "</thead>\n",
       "<tbody>\n",
       "\t<tr><td>C</td><td>2</td><td> 2</td><td>1</td><td>1</td><td> 8</td><td>D</td></tr>\n",
       "\t<tr><td>C</td><td>2</td><td>14</td><td>1</td><td>3</td><td> 8</td><td>D</td></tr>\n",
       "\t<tr><td>C</td><td>1</td><td> 0</td><td>1</td><td>1</td><td>17</td><td>A</td></tr>\n",
       "\t<tr><td>C</td><td>2</td><td> 2</td><td>1</td><td>1</td><td>11</td><td>C</td></tr>\n",
       "\t<tr><td>C</td><td>1</td><td> 8</td><td>1</td><td>1</td><td>13</td><td>C</td></tr>\n",
       "\t<tr><td>B</td><td>3</td><td>25</td><td>1</td><td>2</td><td>11</td><td>C</td></tr>\n",
       "</tbody>\n",
       "</table>\n"
      ],
      "text/latex": [
       "A tibble: 6 × 7\n",
       "\\begin{tabular}{lllllll}\n",
       " .pred\\_class & goout & absences & Dalc & Walc & G3 & G3\\_class\\\\\n",
       " <fct> & <int> & <int> & <int> & <int> & <int> & <fct>\\\\\n",
       "\\hline\n",
       "\t C & 2 &  2 & 1 & 1 &  8 & D\\\\\n",
       "\t C & 2 & 14 & 1 & 3 &  8 & D\\\\\n",
       "\t C & 1 &  0 & 1 & 1 & 17 & A\\\\\n",
       "\t C & 2 &  2 & 1 & 1 & 11 & C\\\\\n",
       "\t C & 1 &  8 & 1 & 1 & 13 & C\\\\\n",
       "\t B & 3 & 25 & 1 & 2 & 11 & C\\\\\n",
       "\\end{tabular}\n"
      ],
      "text/markdown": [
       "\n",
       "A tibble: 6 × 7\n",
       "\n",
       "| .pred_class &lt;fct&gt; | goout &lt;int&gt; | absences &lt;int&gt; | Dalc &lt;int&gt; | Walc &lt;int&gt; | G3 &lt;int&gt; | G3_class &lt;fct&gt; |\n",
       "|---|---|---|---|---|---|---|\n",
       "| C | 2 |  2 | 1 | 1 |  8 | D |\n",
       "| C | 2 | 14 | 1 | 3 |  8 | D |\n",
       "| C | 1 |  0 | 1 | 1 | 17 | A |\n",
       "| C | 2 |  2 | 1 | 1 | 11 | C |\n",
       "| C | 1 |  8 | 1 | 1 | 13 | C |\n",
       "| B | 3 | 25 | 1 | 2 | 11 | C |\n",
       "\n"
      ],
      "text/plain": [
       "  .pred_class goout absences Dalc Walc G3 G3_class\n",
       "1 C           2      2       1    1     8 D       \n",
       "2 C           2     14       1    3     8 D       \n",
       "3 C           1      0       1    1    17 A       \n",
       "4 C           2      2       1    1    11 C       \n",
       "5 C           1      8       1    1    13 C       \n",
       "6 B           3     25       1    2    11 C       "
      ]
     },
     "metadata": {},
     "output_type": "display_data"
    },
    {
     "data": {
      "text/html": [
       "0.428571428571429"
      ],
      "text/latex": [
       "0.428571428571429"
      ],
      "text/markdown": [
       "0.428571428571429"
      ],
      "text/plain": [
       "[1] 0.4285714"
      ]
     },
     "metadata": {},
     "output_type": "display_data"
    }
   ],
   "source": [
    "#Complete and create a KNN-Classifier \n",
    "\n",
    "#Specify a new KNN Classification Model, this time with the selected K value = 16 \n",
    "lg_classifier_knn_spec_tuned <- nearest_neighbor(weight_func = \"rectangular\", \n",
    "                                                neighbors = 21) %>% \n",
    "    set_engine(\"kknn\") %>% \n",
    "    set_mode(\"classification\") \n",
    "\n",
    "#Create a fit\n",
    "#we can reuse the recipe from the cross-validation \n",
    "lg_classifier_knn_fit <- workflow() %>% \n",
    "    add_recipe(lg_classifier_recipe) %>%  \n",
    "    add_model(lg_classifier_knn_spec_tuned) %>% \n",
    "    fit(data = data_train_no_grade)\n",
    "\n",
    "#                 QUESTION! DO WE USE THE UPSAMPLED DATA HERE? OR ORIGINAL TRAINING DATA\n",
    "\n",
    "#using the workflow, make predictions \n",
    "lg_predictions <- lg_classifier_knn_fit %>% \n",
    "    predict(G3_class_data_test) %>% \n",
    "    bind_cols(G3_class_data_test)\n",
    "\n",
    "head(lg_predictions)\n",
    "\n",
    "lg_prediction_metrics <- lg_predictions %>% \n",
    "    metrics(truth = G3_class, \n",
    "           estimate = .pred_class) \n",
    "\n",
    "#extract numerical value of accuracy\n",
    "lg_predictor_accuracy <- lg_prediction_metrics %>% \n",
    "    filter(.metric == \"accuracy\") %>% \n",
    "    select(.estimate) %>% \n",
    "    pull()\n",
    "\n",
    "lg_predictor_accuracy"
   ]
  },
  {
   "cell_type": "markdown",
   "metadata": {},
   "source": [
    "Here, we can see that the accuracy of our predictor, based on the predictors: walc, and dalc, is quite poor, sitting at ~50% accurate. In the real world, this predictor would not be very useful for teachers to use as a way of predicting final student grades. \n",
    "\n",
    "To see if we can come up with an accurate predictor, perhaps we can try to use KNN regression. This can be used for using quantitative variables to predict quantitative, which is the type of data we have. "
   ]
  },
  {
   "cell_type": "markdown",
   "metadata": {},
   "source": [
    "# K Nearest Neighbours __Regression__"
   ]
  },
  {
   "cell_type": "code",
   "execution_count": 91,
   "metadata": {},
   "outputs": [
    {
     "data": {
      "text/html": [
       "785"
      ],
      "text/latex": [
       "785"
      ],
      "text/markdown": [
       "785"
      ],
      "text/plain": [
       "[1] 785"
      ]
     },
     "metadata": {},
     "output_type": "display_data"
    },
    {
     "data": {
      "text/html": [
       "<table>\n",
       "<caption>A tibble: 6 × 7</caption>\n",
       "<thead>\n",
       "\t<tr><th scope=col>neighbors</th><th scope=col>.metric</th><th scope=col>.estimator</th><th scope=col>mean</th><th scope=col>n</th><th scope=col>std_err</th><th scope=col>.config</th></tr>\n",
       "\t<tr><th scope=col>&lt;int&gt;</th><th scope=col>&lt;chr&gt;</th><th scope=col>&lt;chr&gt;</th><th scope=col>&lt;dbl&gt;</th><th scope=col>&lt;int&gt;</th><th scope=col>&lt;dbl&gt;</th><th scope=col>&lt;chr&gt;</th></tr>\n",
       "</thead>\n",
       "<tbody>\n",
       "\t<tr><td>1</td><td>rmse</td><td>standard</td><td>5.818462295</td><td>10</td><td>0.238509849</td><td>Model01</td></tr>\n",
       "\t<tr><td>1</td><td>rsq </td><td>standard</td><td>0.007610057</td><td>10</td><td>0.003586720</td><td>Model01</td></tr>\n",
       "\t<tr><td>2</td><td>rmse</td><td>standard</td><td>4.904009651</td><td>10</td><td>0.218278626</td><td>Model02</td></tr>\n",
       "\t<tr><td>2</td><td>rsq </td><td>standard</td><td>0.006306403</td><td>10</td><td>0.002702726</td><td>Model02</td></tr>\n",
       "\t<tr><td>3</td><td>rmse</td><td>standard</td><td>4.510313634</td><td>10</td><td>0.172153014</td><td>Model03</td></tr>\n",
       "\t<tr><td>3</td><td>rsq </td><td>standard</td><td>0.006878517</td><td>10</td><td>0.003166324</td><td>Model03</td></tr>\n",
       "</tbody>\n",
       "</table>\n"
      ],
      "text/latex": [
       "A tibble: 6 × 7\n",
       "\\begin{tabular}{lllllll}\n",
       " neighbors & .metric & .estimator & mean & n & std\\_err & .config\\\\\n",
       " <int> & <chr> & <chr> & <dbl> & <int> & <dbl> & <chr>\\\\\n",
       "\\hline\n",
       "\t 1 & rmse & standard & 5.818462295 & 10 & 0.238509849 & Model01\\\\\n",
       "\t 1 & rsq  & standard & 0.007610057 & 10 & 0.003586720 & Model01\\\\\n",
       "\t 2 & rmse & standard & 4.904009651 & 10 & 0.218278626 & Model02\\\\\n",
       "\t 2 & rsq  & standard & 0.006306403 & 10 & 0.002702726 & Model02\\\\\n",
       "\t 3 & rmse & standard & 4.510313634 & 10 & 0.172153014 & Model03\\\\\n",
       "\t 3 & rsq  & standard & 0.006878517 & 10 & 0.003166324 & Model03\\\\\n",
       "\\end{tabular}\n"
      ],
      "text/markdown": [
       "\n",
       "A tibble: 6 × 7\n",
       "\n",
       "| neighbors &lt;int&gt; | .metric &lt;chr&gt; | .estimator &lt;chr&gt; | mean &lt;dbl&gt; | n &lt;int&gt; | std_err &lt;dbl&gt; | .config &lt;chr&gt; |\n",
       "|---|---|---|---|---|---|---|\n",
       "| 1 | rmse | standard | 5.818462295 | 10 | 0.238509849 | Model01 |\n",
       "| 1 | rsq  | standard | 0.007610057 | 10 | 0.003586720 | Model01 |\n",
       "| 2 | rmse | standard | 4.904009651 | 10 | 0.218278626 | Model02 |\n",
       "| 2 | rsq  | standard | 0.006306403 | 10 | 0.002702726 | Model02 |\n",
       "| 3 | rmse | standard | 4.510313634 | 10 | 0.172153014 | Model03 |\n",
       "| 3 | rsq  | standard | 0.006878517 | 10 | 0.003166324 | Model03 |\n",
       "\n"
      ],
      "text/plain": [
       "  neighbors .metric .estimator mean        n  std_err     .config\n",
       "1 1         rmse    standard   5.818462295 10 0.238509849 Model01\n",
       "2 1         rsq     standard   0.007610057 10 0.003586720 Model01\n",
       "3 2         rmse    standard   4.904009651 10 0.218278626 Model02\n",
       "4 2         rsq     standard   0.006306403 10 0.002702726 Model02\n",
       "5 3         rmse    standard   4.510313634 10 0.172153014 Model03\n",
       "6 3         rsq     standard   0.006878517 10 0.003166324 Model03"
      ]
     },
     "metadata": {},
     "output_type": "display_data"
    },
    {
     "data": {
      "text/html": [
       "<table>\n",
       "<caption>A tibble: 6 × 7</caption>\n",
       "<thead>\n",
       "\t<tr><th scope=col>neighbors</th><th scope=col>.metric</th><th scope=col>.estimator</th><th scope=col>mean</th><th scope=col>n</th><th scope=col>std_err</th><th scope=col>.config</th></tr>\n",
       "\t<tr><th scope=col>&lt;int&gt;</th><th scope=col>&lt;chr&gt;</th><th scope=col>&lt;chr&gt;</th><th scope=col>&lt;dbl&gt;</th><th scope=col>&lt;int&gt;</th><th scope=col>&lt;dbl&gt;</th><th scope=col>&lt;chr&gt;</th></tr>\n",
       "</thead>\n",
       "<tbody>\n",
       "\t<tr><td>38</td><td>rmse</td><td>standard</td><td>3.94730667</td><td>10</td><td>0.12455524</td><td>Model38</td></tr>\n",
       "\t<tr><td>38</td><td>rsq </td><td>standard</td><td>0.01800404</td><td>10</td><td>0.01163073</td><td>Model38</td></tr>\n",
       "\t<tr><td>39</td><td>rmse</td><td>standard</td><td>3.95208502</td><td>10</td><td>0.12314219</td><td>Model39</td></tr>\n",
       "\t<tr><td>39</td><td>rsq </td><td>standard</td><td>0.01874497</td><td>10</td><td>0.01200866</td><td>Model39</td></tr>\n",
       "\t<tr><td>40</td><td>rmse</td><td>standard</td><td>4.00581797</td><td>10</td><td>0.12181169</td><td>Model40</td></tr>\n",
       "\t<tr><td>40</td><td>rsq </td><td>standard</td><td>0.01840318</td><td>10</td><td>0.01202821</td><td>Model40</td></tr>\n",
       "</tbody>\n",
       "</table>\n"
      ],
      "text/latex": [
       "A tibble: 6 × 7\n",
       "\\begin{tabular}{lllllll}\n",
       " neighbors & .metric & .estimator & mean & n & std\\_err & .config\\\\\n",
       " <int> & <chr> & <chr> & <dbl> & <int> & <dbl> & <chr>\\\\\n",
       "\\hline\n",
       "\t 38 & rmse & standard & 3.94730667 & 10 & 0.12455524 & Model38\\\\\n",
       "\t 38 & rsq  & standard & 0.01800404 & 10 & 0.01163073 & Model38\\\\\n",
       "\t 39 & rmse & standard & 3.95208502 & 10 & 0.12314219 & Model39\\\\\n",
       "\t 39 & rsq  & standard & 0.01874497 & 10 & 0.01200866 & Model39\\\\\n",
       "\t 40 & rmse & standard & 4.00581797 & 10 & 0.12181169 & Model40\\\\\n",
       "\t 40 & rsq  & standard & 0.01840318 & 10 & 0.01202821 & Model40\\\\\n",
       "\\end{tabular}\n"
      ],
      "text/markdown": [
       "\n",
       "A tibble: 6 × 7\n",
       "\n",
       "| neighbors &lt;int&gt; | .metric &lt;chr&gt; | .estimator &lt;chr&gt; | mean &lt;dbl&gt; | n &lt;int&gt; | std_err &lt;dbl&gt; | .config &lt;chr&gt; |\n",
       "|---|---|---|---|---|---|---|\n",
       "| 38 | rmse | standard | 3.94730667 | 10 | 0.12455524 | Model38 |\n",
       "| 38 | rsq  | standard | 0.01800404 | 10 | 0.01163073 | Model38 |\n",
       "| 39 | rmse | standard | 3.95208502 | 10 | 0.12314219 | Model39 |\n",
       "| 39 | rsq  | standard | 0.01874497 | 10 | 0.01200866 | Model39 |\n",
       "| 40 | rmse | standard | 4.00581797 | 10 | 0.12181169 | Model40 |\n",
       "| 40 | rsq  | standard | 0.01840318 | 10 | 0.01202821 | Model40 |\n",
       "\n"
      ],
      "text/plain": [
       "  neighbors .metric .estimator mean       n  std_err    .config\n",
       "1 38        rmse    standard   3.94730667 10 0.12455524 Model38\n",
       "2 38        rsq     standard   0.01800404 10 0.01163073 Model38\n",
       "3 39        rmse    standard   3.95208502 10 0.12314219 Model39\n",
       "4 39        rsq     standard   0.01874497 10 0.01200866 Model39\n",
       "5 40        rmse    standard   4.00581797 10 0.12181169 Model40\n",
       "6 40        rsq     standard   0.01840318 10 0.01202821 Model40"
      ]
     },
     "metadata": {},
     "output_type": "display_data"
    },
    {
     "data": {
      "text/html": [
       "<table>\n",
       "<caption>A tibble: 1 × 7</caption>\n",
       "<thead>\n",
       "\t<tr><th scope=col>neighbors</th><th scope=col>.metric</th><th scope=col>.estimator</th><th scope=col>mean</th><th scope=col>n</th><th scope=col>std_err</th><th scope=col>.config</th></tr>\n",
       "\t<tr><th scope=col>&lt;int&gt;</th><th scope=col>&lt;chr&gt;</th><th scope=col>&lt;chr&gt;</th><th scope=col>&lt;dbl&gt;</th><th scope=col>&lt;int&gt;</th><th scope=col>&lt;dbl&gt;</th><th scope=col>&lt;chr&gt;</th></tr>\n",
       "</thead>\n",
       "<tbody>\n",
       "\t<tr><td>23</td><td>rmse</td><td>standard</td><td>3.851721</td><td>10</td><td>0.1456087</td><td>Model23</td></tr>\n",
       "</tbody>\n",
       "</table>\n"
      ],
      "text/latex": [
       "A tibble: 1 × 7\n",
       "\\begin{tabular}{lllllll}\n",
       " neighbors & .metric & .estimator & mean & n & std\\_err & .config\\\\\n",
       " <int> & <chr> & <chr> & <dbl> & <int> & <dbl> & <chr>\\\\\n",
       "\\hline\n",
       "\t 23 & rmse & standard & 3.851721 & 10 & 0.1456087 & Model23\\\\\n",
       "\\end{tabular}\n"
      ],
      "text/markdown": [
       "\n",
       "A tibble: 1 × 7\n",
       "\n",
       "| neighbors &lt;int&gt; | .metric &lt;chr&gt; | .estimator &lt;chr&gt; | mean &lt;dbl&gt; | n &lt;int&gt; | std_err &lt;dbl&gt; | .config &lt;chr&gt; |\n",
       "|---|---|---|---|---|---|---|\n",
       "| 23 | rmse | standard | 3.851721 | 10 | 0.1456087 | Model23 |\n",
       "\n"
      ],
      "text/plain": [
       "  neighbors .metric .estimator mean     n  std_err   .config\n",
       "1 23        rmse    standard   3.851721 10 0.1456087 Model23"
      ]
     },
     "metadata": {},
     "output_type": "display_data"
    },
    {
     "data": {
      "text/html": [
       "<table>\n",
       "<caption>A tibble: 3 × 3</caption>\n",
       "<thead>\n",
       "\t<tr><th scope=col>.metric</th><th scope=col>.estimator</th><th scope=col>.estimate</th></tr>\n",
       "\t<tr><th scope=col>&lt;chr&gt;</th><th scope=col>&lt;chr&gt;</th><th scope=col>&lt;dbl&gt;</th></tr>\n",
       "</thead>\n",
       "<tbody>\n",
       "\t<tr><td>rmse</td><td>standard</td><td>3.864528215</td></tr>\n",
       "\t<tr><td>rsq </td><td>standard</td><td>0.008267995</td></tr>\n",
       "\t<tr><td>mae </td><td>standard</td><td>2.828536329</td></tr>\n",
       "</tbody>\n",
       "</table>\n"
      ],
      "text/latex": [
       "A tibble: 3 × 3\n",
       "\\begin{tabular}{lll}\n",
       " .metric & .estimator & .estimate\\\\\n",
       " <chr> & <chr> & <dbl>\\\\\n",
       "\\hline\n",
       "\t rmse & standard & 3.864528215\\\\\n",
       "\t rsq  & standard & 0.008267995\\\\\n",
       "\t mae  & standard & 2.828536329\\\\\n",
       "\\end{tabular}\n"
      ],
      "text/markdown": [
       "\n",
       "A tibble: 3 × 3\n",
       "\n",
       "| .metric &lt;chr&gt; | .estimator &lt;chr&gt; | .estimate &lt;dbl&gt; |\n",
       "|---|---|---|\n",
       "| rmse | standard | 3.864528215 |\n",
       "| rsq  | standard | 0.008267995 |\n",
       "| mae  | standard | 2.828536329 |\n",
       "\n"
      ],
      "text/plain": [
       "  .metric .estimator .estimate  \n",
       "1 rmse    standard   3.864528215\n",
       "2 rsq     standard   0.008267995\n",
       "3 mae     standard   2.828536329"
      ]
     },
     "metadata": {},
     "output_type": "display_data"
    }
   ],
   "source": [
    "#Here, we will be predicting G3, a quantitative final grade. \n",
    "#For simplicity, we will try to predict with one variable: Absences \n",
    "data_train_no_class <- data_train %>%  \n",
    "    select(-G3_class)\n",
    "\n",
    "nrow(data_train_no_class)\n",
    "\n",
    "#   QUESTION: do you need to upscale for KNN regression?\n",
    "\n",
    "# upsample_train_regression_recipe <- recipe(G3 ~ Walc + Dalc, \n",
    "#                                      data = data_train_no_class) %>% \n",
    "#     step_upsample(G3, over_ratio = 1, skip = FALSE) %>% \n",
    "#     prep()\n",
    "\n",
    "# upsample_train_regression_data <- bake(upsample_train_regression_recipe, \n",
    "#                                        data_train_no_class)\n",
    "\n",
    "\n",
    "#Here, we create another recipe to be used in the workflow. We use the upsampled dataframe as the same with the Classifier. \n",
    "lg_regression_recipe <- recipe(G3 ~ absences, \n",
    "                              data = data_train_no_class) %>% \n",
    "    step_scale(all_predictors()) %>%  \n",
    "    step_center(all_predictors()) \n",
    "\n",
    "#Specify the model specification with tuning \n",
    "lg_knn_regression_spec <- nearest_neighbor(weight_func = \"rectangular\", \n",
    "                                        neighbors = tune()) %>%  \n",
    "    set_engine(\"kknn\") %>%  \n",
    "    set_mode(\"regression\") \n",
    "\n",
    "#Cross validate to find best K \n",
    "lg_knn_regression_cv <- vfold_cv(data_train_no_class, v = 10, strata = G3)\n",
    "\n",
    "knn_metrics_regression <- workflow() %>%  \n",
    "  add_recipe(lg_regression_recipe) %>%  \n",
    "  add_model(lg_knn_regression_spec) %>%  \n",
    "  tune_grid(resamples = lg_knn_regression_cv, \n",
    "            grid = gridvals) %>%  \n",
    "  collect_metrics() \n",
    "\n",
    "head(knn_metrics_regression) \n",
    "tail(knn_metrics_regression)\n",
    "\n",
    "least_rmse <- knn_metrics_regression %>%  \n",
    "    filter(.metric == \"rmse\") %>%  \n",
    "    filter(mean == min(mean)) \n",
    "\n",
    "#Give K = 28\n",
    "least_rmse\n",
    "\n",
    "knn_reg_spec_final <- nearest_neighbor(weight_func = \"rectangular\", \n",
    "                                        neighbors = 22) %>%  \n",
    "    set_engine(\"kknn\") %>%  \n",
    "    set_mode(\"regression\") \n",
    "\n",
    "#Assemble a new workflow \n",
    "knn_reg_fit <- workflow() %>%  \n",
    "    add_recipe(lg_regression_recipe) %>%  \n",
    "    add_model(knn_reg_spec_final) %>%  \n",
    "    fit(data = data_train_no_class) \n",
    "\n",
    "predictions <- knn_reg_fit %>%  \n",
    "    predict(data_test) %>%  \n",
    "    bind_cols(data_test) \n",
    "\n",
    "metrics <- predictions %>%\n",
    "  metrics(truth = G3, \n",
    "          estimate = .pred) \n",
    "\n",
    "metrics\n"
   ]
  },
  {
   "cell_type": "code",
   "execution_count": 93,
   "metadata": {},
   "outputs": [
    {
     "data": {
      "image/png": "[encoded data removed]",
      "text/plain": [
       "plot without title"
      ]
     },
     "metadata": {
      "image/png": {
       "height": 420,
       "width": 420
      }
     },
     "output_type": "display_data"
    }
   ],
   "source": [
    "#Plot the KNN regression\n",
    "plot_final <- predictions %>%  \n",
    "    ggplot(aes(x = absences, \n",
    "               y = G3)) + \n",
    "    geom_point() + \n",
    "    labs(x = \"Absences\", \n",
    "         y = \"Final Grade (1-20)\") + \n",
    "    geom_line(data = predictions, \n",
    "              aes(x = absences, \n",
    "                  y = .pred), \n",
    "              colour = \"blue\")\n",
    "\n",
    "plot_final\n"
   ]
  },
  {
   "cell_type": "markdown",
   "metadata": {},
   "source": [
    "From this, it is clear that there is no linear relationship between final grade and Weekend Alcohol Consumption"
   ]
  },
  {
   "cell_type": "markdown",
   "metadata": {},
   "source": [
    "# K Means Clustering "
   ]
  },
  {
   "cell_type": "code",
   "execution_count": null,
   "metadata": {},
   "outputs": [],
   "source": [
    "clustering_data <- data_with_lg %>%  \n",
    "    select(Dalc, Walc, G3)"
   ]
  },
  {
   "cell_type": "code",
   "execution_count": null,
   "metadata": {},
   "outputs": [],
   "source": []
  },
  {
   "cell_type": "code",
   "execution_count": null,
   "metadata": {},
   "outputs": [],
   "source": []
  },
  {
   "cell_type": "code",
   "execution_count": null,
   "metadata": {},
   "outputs": [],
   "source": []
  },
  {
   "cell_type": "code",
   "execution_count": null,
   "metadata": {},
   "outputs": [],
   "source": []
  }
 ],
 "metadata": {
  "kernelspec": {
   "display_name": "R",
   "language": "R",
   "name": "ir"
  },
  "language_info": {
   "codemirror_mode": "r",
   "file_extension": ".r",
   "mimetype": "text/x-r-source",
   "name": "R",
   "pygments_lexer": "r",
   "version": "4.0.0"
  }
 },
 "nbformat": 4,
 "nbformat_minor": 4
}
