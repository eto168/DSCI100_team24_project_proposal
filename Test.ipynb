{
 "cells": [
  {
   "cell_type": "markdown",
   "metadata": {},
   "source": [
    "# Group Project Proposal\n"
   ]
  },
  {
   "cell_type": "markdown",
   "metadata": {},
   "source": [
    "## Introduction:\n",
    "\n",
    "As students, balancing our life outside of school can be challenging. With the many distractions around us, it can be hard to determine how much time we should spend in our leisure, versus time spent on school. In this project, we will be attempting to discover the relationship between time spent on various distractions and the grades received in school.\n",
    "\n",
    "The dataset we will be using for this analysis details student performance from two Portugeuse secondary schools. Each row represents an observation of a single student, with the grades they received from each period (G1, G2, G3) along with various details of their life, such as  how much free time they have, whether they are in a romantic relationship etc. "
   ]
  },
  {
   "cell_type": "markdown",
   "metadata": {},
   "source": [
    "# Load Relevant Libraries"
   ]
  },
  {
   "cell_type": "code",
   "execution_count": 2,
   "metadata": {},
   "outputs": [
    {
     "name": "stderr",
     "output_type": "stream",
     "text": [
      "── \u001b[1mAttaching packages\u001b[22m ─────────────────────────────────────── tidyverse 1.3.0 ──\n",
      "\n",
      "\u001b[32m✔\u001b[39m \u001b[34mggplot2\u001b[39m 3.3.2     \u001b[32m✔\u001b[39m \u001b[34mpurrr  \u001b[39m 0.3.4\n",
      "\u001b[32m✔\u001b[39m \u001b[34mtibble \u001b[39m 3.0.3     \u001b[32m✔\u001b[39m \u001b[34mdplyr  \u001b[39m 1.0.2\n",
      "\u001b[32m✔\u001b[39m \u001b[34mtidyr  \u001b[39m 1.1.2     \u001b[32m✔\u001b[39m \u001b[34mstringr\u001b[39m 1.4.0\n",
      "\u001b[32m✔\u001b[39m \u001b[34mreadr  \u001b[39m 1.3.1     \u001b[32m✔\u001b[39m \u001b[34mforcats\u001b[39m 0.5.0\n",
      "\n",
      "Warning message:\n",
      "“package ‘ggplot2’ was built under R version 4.0.1”\n",
      "Warning message:\n",
      "“package ‘tibble’ was built under R version 4.0.2”\n",
      "Warning message:\n",
      "“package ‘tidyr’ was built under R version 4.0.2”\n",
      "Warning message:\n",
      "“package ‘dplyr’ was built under R version 4.0.2”\n",
      "── \u001b[1mConflicts\u001b[22m ────────────────────────────────────────── tidyverse_conflicts() ──\n",
      "\u001b[31m✖\u001b[39m \u001b[34mdplyr\u001b[39m::\u001b[32mfilter()\u001b[39m masks \u001b[34mstats\u001b[39m::filter()\n",
      "\u001b[31m✖\u001b[39m \u001b[34mdplyr\u001b[39m::\u001b[32mlag()\u001b[39m    masks \u001b[34mstats\u001b[39m::lag()\n",
      "\n",
      "Warning message:\n",
      "“package ‘tidymodels’ was built under R version 4.0.2”\n",
      "── \u001b[1mAttaching packages\u001b[22m ────────────────────────────────────── tidymodels 0.1.1 ──\n",
      "\n",
      "\u001b[32m✔\u001b[39m \u001b[34mbroom    \u001b[39m 0.7.0      \u001b[32m✔\u001b[39m \u001b[34mrecipes  \u001b[39m 0.1.13\n",
      "\u001b[32m✔\u001b[39m \u001b[34mdials    \u001b[39m 0.0.9      \u001b[32m✔\u001b[39m \u001b[34mrsample  \u001b[39m 0.0.7 \n",
      "\u001b[32m✔\u001b[39m \u001b[34minfer    \u001b[39m 0.5.4      \u001b[32m✔\u001b[39m \u001b[34mtune     \u001b[39m 0.1.1 \n",
      "\u001b[32m✔\u001b[39m \u001b[34mmodeldata\u001b[39m 0.0.2      \u001b[32m✔\u001b[39m \u001b[34mworkflows\u001b[39m 0.2.0 \n",
      "\u001b[32m✔\u001b[39m \u001b[34mparsnip  \u001b[39m 0.1.3      \u001b[32m✔\u001b[39m \u001b[34myardstick\u001b[39m 0.0.7 \n",
      "\n",
      "Warning message:\n",
      "“package ‘broom’ was built under R version 4.0.2”\n",
      "Warning message:\n",
      "“package ‘dials’ was built under R version 4.0.2”\n",
      "Warning message:\n",
      "“package ‘infer’ was built under R version 4.0.3”\n",
      "Warning message:\n",
      "“package ‘modeldata’ was built under R version 4.0.1”\n",
      "Warning message:\n",
      "“package ‘parsnip’ was built under R version 4.0.2”\n",
      "Warning message:\n",
      "“package ‘recipes’ was built under R version 4.0.1”\n",
      "Warning message:\n",
      "“package ‘tune’ was built under R version 4.0.2”\n",
      "Warning message:\n",
      "“package ‘workflows’ was built under R version 4.0.2”\n",
      "Warning message:\n",
      "“package ‘yardstick’ was built under R version 4.0.2”\n",
      "── \u001b[1mConflicts\u001b[22m ───────────────────────────────────────── tidymodels_conflicts() ──\n",
      "\u001b[31m✖\u001b[39m \u001b[34mscales\u001b[39m::\u001b[32mdiscard()\u001b[39m masks \u001b[34mpurrr\u001b[39m::discard()\n",
      "\u001b[31m✖\u001b[39m \u001b[34mdplyr\u001b[39m::\u001b[32mfilter()\u001b[39m   masks \u001b[34mstats\u001b[39m::filter()\n",
      "\u001b[31m✖\u001b[39m \u001b[34mrecipes\u001b[39m::\u001b[32mfixed()\u001b[39m  masks \u001b[34mstringr\u001b[39m::fixed()\n",
      "\u001b[31m✖\u001b[39m \u001b[34mdplyr\u001b[39m::\u001b[32mlag()\u001b[39m      masks \u001b[34mstats\u001b[39m::lag()\n",
      "\u001b[31m✖\u001b[39m \u001b[34myardstick\u001b[39m::\u001b[32mspec()\u001b[39m masks \u001b[34mreadr\u001b[39m::spec()\n",
      "\u001b[31m✖\u001b[39m \u001b[34mrecipes\u001b[39m::\u001b[32mstep()\u001b[39m   masks \u001b[34mstats\u001b[39m::step()\n",
      "\n"
     ]
    }
   ],
   "source": [
    "library(tidyverse)\n",
    "library(tidymodels)\n",
    "library(repr)\n",
    "set.seed(1000)"
   ]
  },
  {
   "cell_type": "markdown",
   "metadata": {},
   "source": [
    "# Dataset Description by the Authors \n",
    "\n",
    "# Attributes for both student-mat.csv (Math course) and student-por.csv (Portuguese language course) datasets:\n",
    "1 school - student's school (binary: \"GP\" - Gabriel Pereira or \"MS\" - Mousinho da Silveira)\n",
    "2 sex - student's sex (binary: \"F\" - female or \"M\" - male)\n",
    "3 age - student's age (numeric: from 15 to 22)\n",
    "4 address - student's home address type (binary: \"U\" - urban or \"R\" - rural)\n",
    "5 famsize - family size (binary: \"LE3\" - less or equal to 3 or \"GT3\" - greater than 3)\n",
    "6 Pstatus - parent's cohabitation status (binary: \"T\" - living together or \"A\" - apart)\n",
    "7 Medu - mother's education (numeric: 0 - none,  1 - primary education (4th grade), 2 – 5th to 9th grade, 3 – secondary education or 4 – higher education)\n",
    "8 Fedu - father's education (numeric: 0 - none,  1 - primary education (4th grade), 2 – 5th to 9th grade, 3 – secondary education or 4 – higher education)\n",
    "9 Mjob - mother's job (nominal: \"teacher\", \"health\" care related, civil \"services\" (e.g. administrative or police), \"at_home\" or \"other\")\n",
    "10 Fjob - father's job (nominal: \"teacher\", \"health\" care related, civil \"services\" (e.g. administrative or police), \"at_home\" or \"other\")\n",
    "11 reason - reason to choose this school (nominal: close to \"home\", school \"reputation\", \"course\" preference or \"other\")\n",
    "12 guardian - student's guardian (nominal: \"mother\", \"father\" or \"other\")\n",
    "13 traveltime - home to school travel time (numeric: 1 - <15 min., 2 - 15 to 30 min., 3 - 30 min. to 1 hour, or 4 - >1 hour)\n",
    "14 studytime - weekly study time (numeric: 1 - <2 hours, 2 - 2 to 5 hours, 3 - 5 to 10 hours, or 4 - >10 hours)\n",
    "15 failures - number of past class failures (numeric: n if 1<=n<3, else 4)\n",
    "16 schoolsup - extra educational support (binary: yes or no)\n",
    "17 famsup - family educational support (binary: yes or no)\n",
    "18 paid - extra paid classes within the course subject (Math or Portuguese) (binary: yes or no)\n",
    "19 activities - extra-curricular activities (binary: yes or no)\n",
    "20 nursery - attended nursery school (binary: yes or no)\n",
    "21 higher - wants to take higher education (binary: yes or no)\n",
    "22 internet - Internet access at home (binary: yes or no)\n",
    "23 romantic - with a romantic relationship (binary: yes or no)\n",
    "24 famrel - quality of family relationships (numeric: from 1 - very bad to 5 - excellent)\n",
    "25 freetime - free time after school (numeric: from 1 - very low to 5 - very high)\n",
    "26 goout - going out with friends (numeric: from 1 - very low to 5 - very high)\n",
    "27 Dalc - workday alcohol consumption (numeric: from 1 - very low to 5 - very high)\n",
    "28 Walc - weekend alcohol consumption (numeric: from 1 - very low to 5 - very high)\n",
    "29 health - current health status (numeric: from 1 - very bad to 5 - very good)\n",
    "30 absences - number of school absences (numeric: from 0 to 93)\n",
    "\n",
    "# these grades are related with the course subject, Math or Portuguese:\n",
    "31 G1 - first period grade (numeric: from 0 to 20)\n",
    "31 G2 - second period grade (numeric: from 0 to 20)\n",
    "32 G3 - final grade (numeric: from 0 to 20, output target)\n",
    "\n",
    "Additional note: there are several (382) students that belong to both datasets . \n",
    "These students can be identified by searching for identical attributes\n",
    "that characterize each student, as shown in the annexed R file.\n",
    "\n"
   ]
  },
  {
   "cell_type": "markdown",
   "metadata": {},
   "source": [
    "# Data Collection\n",
    "\n",
    "idea from: https://stackoverflow.com/questions/3053833/using-r-to-download-zipped-data-file-extract-and-import-data\n",
    "data from: https://archive.ics.uci.edu/ml/machine-learning-databases/00320/\n"
   ]
  },
  {
   "cell_type": "code",
   "execution_count": 3,
   "metadata": {},
   "outputs": [],
   "source": [
    "#make a temporary file \n",
    "tempfile <- tempfile()\n",
    "\n",
    "#download file into temp \n",
    "download.file(\"https://archive.ics.uci.edu/ml/machine-learning-databases/00320/student.zip\", \n",
    "              tempfile) \n",
    "\n",
    "#extract relevant files \n",
    "student_mat <- read.table(unz(tempfile, \"student-mat.csv\"), \n",
    "                          header = TRUE, \n",
    "                          sep = \";\")\n",
    "student_por <- read.table(unz(tempfile, \"student-por.csv\"), \n",
    "                          header = TRUE, \n",
    "                          sep = \";\")\n",
    "unlink(tempfile)\n",
    "\n",
    "#read files to see\n",
    "\n"
   ]
  },
  {
   "cell_type": "code",
   "execution_count": 8,
   "metadata": {},
   "outputs": [],
   "source": [
    "#Combining the data done by the authors\n",
    "\n",
    "# combined <- merge(student_mat,\n",
    "#                   student_por,\n",
    "#                   by = c(\"school\",\n",
    "#                         \"sex\",\n",
    "#                         \"age\",\n",
    "#                         \"address\",\n",
    "#                         \"famsize\",\n",
    "#                         \"Pstatus\",\n",
    "#                         \"Medu\",\n",
    "#                         \"Fedu\",\n",
    "#                         \"Mjob\",\n",
    "#                         \"Fjob\",\n",
    "#                         \"reason\",\n",
    "#                         \"nursery\",\n",
    "#                         \"internet\"))\n",
    "\n",
    "# print(nrow(combined)) # 382 students\n",
    "# print(ncol(combined))\n",
    "\n",
    "# combined"
   ]
  },
  {
   "cell_type": "markdown",
   "metadata": {},
   "source": [
    "## Tidying the data/Splitting into training and testing sets\n",
    "To tidy the data we will need to merge both datasets into one combined set, we do this in the following cell. \n",
    "We also filter to just have the columns that we are interested in for our analysis.\n",
    "\n",
    "Finally we split our dataset into a training and testing set.\n",
    "\n",
    "For the remaining code in this notebooks, we will be working on the __training data__ only"
   ]
  },
  {
   "cell_type": "code",
   "execution_count": 24,
   "metadata": {},
   "outputs": [
    {
     "data": {
      "text/html": [
       "<table>\n",
       "<caption>A data.frame: 4 × 4</caption>\n",
       "<thead>\n",
       "\t<tr><th></th><th scope=col>goout</th><th scope=col>Dalc</th><th scope=col>Walc</th><th scope=col>G3</th></tr>\n",
       "\t<tr><th></th><th scope=col>&lt;int&gt;</th><th scope=col>&lt;int&gt;</th><th scope=col>&lt;int&gt;</th><th scope=col>&lt;int&gt;</th></tr>\n",
       "</thead>\n",
       "<tbody>\n",
       "\t<tr><th scope=row>1</th><td>4</td><td>1</td><td>1</td><td> 6</td></tr>\n",
       "\t<tr><th scope=row>3</th><td>2</td><td>2</td><td>3</td><td>10</td></tr>\n",
       "\t<tr><th scope=row>4</th><td>2</td><td>1</td><td>1</td><td>15</td></tr>\n",
       "\t<tr><th scope=row>5</th><td>2</td><td>1</td><td>2</td><td>10</td></tr>\n",
       "</tbody>\n",
       "</table>\n"
      ],
      "text/latex": [
       "A data.frame: 4 × 4\n",
       "\\begin{tabular}{r|llll}\n",
       "  & goout & Dalc & Walc & G3\\\\\n",
       "  & <int> & <int> & <int> & <int>\\\\\n",
       "\\hline\n",
       "\t1 & 4 & 1 & 1 &  6\\\\\n",
       "\t3 & 2 & 2 & 3 & 10\\\\\n",
       "\t4 & 2 & 1 & 1 & 15\\\\\n",
       "\t5 & 2 & 1 & 2 & 10\\\\\n",
       "\\end{tabular}\n"
      ],
      "text/markdown": [
       "\n",
       "A data.frame: 4 × 4\n",
       "\n",
       "| <!--/--> | goout &lt;int&gt; | Dalc &lt;int&gt; | Walc &lt;int&gt; | G3 &lt;int&gt; |\n",
       "|---|---|---|---|---|\n",
       "| 1 | 4 | 1 | 1 |  6 |\n",
       "| 3 | 2 | 2 | 3 | 10 |\n",
       "| 4 | 2 | 1 | 1 | 15 |\n",
       "| 5 | 2 | 1 | 2 | 10 |\n",
       "\n"
      ],
      "text/plain": [
       "  goout Dalc Walc G3\n",
       "1 4     1    1     6\n",
       "3 2     2    3    10\n",
       "4 2     1    1    15\n",
       "5 2     1    2    10"
      ]
     },
     "metadata": {},
     "output_type": "display_data"
    }
   ],
   "source": [
    "total_set <- rbind(student_mat, student_por) \n",
    "\n",
    "filtered_set <- total_set %>% \n",
    "                select(goout, Dalc, Walc, G3)\n",
    "\n",
    "data_split <- initial_split(filtered_set, prop = 0.75, strata = G3)  #where G3 = final grade\n",
    "data_train <- training(data_split)   \n",
    "data_test <- testing(data_split)\n",
    "head(data_train, 4)"
   ]
  },
  {
   "cell_type": "markdown",
   "metadata": {},
   "source": [
    "## Summarizing data in a table\n",
    "\n",
    "In the following cell we find the mean of our predictor variables goout, Dalc, Walc"
   ]
  },
  {
   "cell_type": "code",
   "execution_count": 25,
   "metadata": {},
   "outputs": [
    {
     "data": {
      "text/html": [
       "<table>\n",
       "<caption>A tibble: 1 × 3</caption>\n",
       "<thead>\n",
       "\t<tr><th scope=col>goout</th><th scope=col>Dalc</th><th scope=col>Walc</th></tr>\n",
       "\t<tr><th scope=col>&lt;dbl&gt;</th><th scope=col>&lt;dbl&gt;</th><th scope=col>&lt;dbl&gt;</th></tr>\n",
       "</thead>\n",
       "<tbody>\n",
       "\t<tr><td>3.142675</td><td>1.490446</td><td>2.271338</td></tr>\n",
       "</tbody>\n",
       "</table>\n"
      ],
      "text/latex": [
       "A tibble: 1 × 3\n",
       "\\begin{tabular}{lll}\n",
       " goout & Dalc & Walc\\\\\n",
       " <dbl> & <dbl> & <dbl>\\\\\n",
       "\\hline\n",
       "\t 3.142675 & 1.490446 & 2.271338\\\\\n",
       "\\end{tabular}\n"
      ],
      "text/markdown": [
       "\n",
       "A tibble: 1 × 3\n",
       "\n",
       "| goout &lt;dbl&gt; | Dalc &lt;dbl&gt; | Walc &lt;dbl&gt; |\n",
       "|---|---|---|\n",
       "| 3.142675 | 1.490446 | 2.271338 |\n",
       "\n"
      ],
      "text/plain": [
       "  goout    Dalc     Walc    \n",
       "1 3.142675 1.490446 2.271338"
      ]
     },
     "metadata": {},
     "output_type": "display_data"
    }
   ],
   "source": [
    "predictor_means <- data_train %>%\n",
    "                   select(goout, Dalc, Walc) %>%\n",
    "                   map_df(mean)\n",
    "predictor_means"
   ]
  },
  {
   "cell_type": "markdown",
   "metadata": {},
   "source": [
    "We can see that on average more people go out with their friends versus drinking alcohol on the weekdays or weekends. It will be interesting to see if this variable has a greater effect on students' grades versus alcohol consumption."
   ]
  },
  {
   "cell_type": "markdown",
   "metadata": {},
   "source": [
    "## Summarize the number of observations for each class\n",
    "\n",
    "It is important to first see if the number of observations for each class is similar, otherwise the model will not be properly trained. "
   ]
  },
  {
   "cell_type": "code",
   "execution_count": 26,
   "metadata": {},
   "outputs": [
    {
     "name": "stderr",
     "output_type": "stream",
     "text": [
      "`summarise()` ungrouping output (override with `.groups` argument)\n",
      "\n"
     ]
    },
    {
     "data": {
      "text/html": [
       "<table>\n",
       "<caption>A tibble: 18 × 3</caption>\n",
       "<thead>\n",
       "\t<tr><th scope=col>G3</th><th scope=col>n</th><th scope=col>percentage</th></tr>\n",
       "\t<tr><th scope=col>&lt;int&gt;</th><th scope=col>&lt;int&gt;</th><th scope=col>&lt;dbl&gt;</th></tr>\n",
       "</thead>\n",
       "<tbody>\n",
       "\t<tr><td> 0</td><td> 40</td><td> 5.0955414</td></tr>\n",
       "\t<tr><td> 1</td><td>  1</td><td> 0.1273885</td></tr>\n",
       "\t<tr><td> 5</td><td>  6</td><td> 0.7643312</td></tr>\n",
       "\t<tr><td> 6</td><td> 13</td><td> 1.6560510</td></tr>\n",
       "\t<tr><td> 7</td><td> 15</td><td> 1.9108280</td></tr>\n",
       "\t<tr><td> 8</td><td> 53</td><td> 6.7515924</td></tr>\n",
       "\t<tr><td> 9</td><td> 51</td><td> 6.4968153</td></tr>\n",
       "\t<tr><td>10</td><td>109</td><td>13.8853503</td></tr>\n",
       "\t<tr><td>11</td><td>114</td><td>14.5222930</td></tr>\n",
       "\t<tr><td>12</td><td> 77</td><td> 9.8089172</td></tr>\n",
       "\t<tr><td>13</td><td> 82</td><td>10.4458599</td></tr>\n",
       "\t<tr><td>14</td><td> 71</td><td> 9.0445860</td></tr>\n",
       "\t<tr><td>15</td><td> 59</td><td> 7.5159236</td></tr>\n",
       "\t<tr><td>16</td><td> 37</td><td> 4.7133758</td></tr>\n",
       "\t<tr><td>17</td><td> 29</td><td> 3.6942675</td></tr>\n",
       "\t<tr><td>18</td><td> 20</td><td> 2.5477707</td></tr>\n",
       "\t<tr><td>19</td><td>  7</td><td> 0.8917197</td></tr>\n",
       "\t<tr><td>20</td><td>  1</td><td> 0.1273885</td></tr>\n",
       "</tbody>\n",
       "</table>\n"
      ],
      "text/latex": [
       "A tibble: 18 × 3\n",
       "\\begin{tabular}{lll}\n",
       " G3 & n & percentage\\\\\n",
       " <int> & <int> & <dbl>\\\\\n",
       "\\hline\n",
       "\t  0 &  40 &  5.0955414\\\\\n",
       "\t  1 &   1 &  0.1273885\\\\\n",
       "\t  5 &   6 &  0.7643312\\\\\n",
       "\t  6 &  13 &  1.6560510\\\\\n",
       "\t  7 &  15 &  1.9108280\\\\\n",
       "\t  8 &  53 &  6.7515924\\\\\n",
       "\t  9 &  51 &  6.4968153\\\\\n",
       "\t 10 & 109 & 13.8853503\\\\\n",
       "\t 11 & 114 & 14.5222930\\\\\n",
       "\t 12 &  77 &  9.8089172\\\\\n",
       "\t 13 &  82 & 10.4458599\\\\\n",
       "\t 14 &  71 &  9.0445860\\\\\n",
       "\t 15 &  59 &  7.5159236\\\\\n",
       "\t 16 &  37 &  4.7133758\\\\\n",
       "\t 17 &  29 &  3.6942675\\\\\n",
       "\t 18 &  20 &  2.5477707\\\\\n",
       "\t 19 &   7 &  0.8917197\\\\\n",
       "\t 20 &   1 &  0.1273885\\\\\n",
       "\\end{tabular}\n"
      ],
      "text/markdown": [
       "\n",
       "A tibble: 18 × 3\n",
       "\n",
       "| G3 &lt;int&gt; | n &lt;int&gt; | percentage &lt;dbl&gt; |\n",
       "|---|---|---|\n",
       "|  0 |  40 |  5.0955414 |\n",
       "|  1 |   1 |  0.1273885 |\n",
       "|  5 |   6 |  0.7643312 |\n",
       "|  6 |  13 |  1.6560510 |\n",
       "|  7 |  15 |  1.9108280 |\n",
       "|  8 |  53 |  6.7515924 |\n",
       "|  9 |  51 |  6.4968153 |\n",
       "| 10 | 109 | 13.8853503 |\n",
       "| 11 | 114 | 14.5222930 |\n",
       "| 12 |  77 |  9.8089172 |\n",
       "| 13 |  82 | 10.4458599 |\n",
       "| 14 |  71 |  9.0445860 |\n",
       "| 15 |  59 |  7.5159236 |\n",
       "| 16 |  37 |  4.7133758 |\n",
       "| 17 |  29 |  3.6942675 |\n",
       "| 18 |  20 |  2.5477707 |\n",
       "| 19 |   7 |  0.8917197 |\n",
       "| 20 |   1 |  0.1273885 |\n",
       "\n"
      ],
      "text/plain": [
       "   G3 n   percentage\n",
       "1   0  40  5.0955414\n",
       "2   1   1  0.1273885\n",
       "3   5   6  0.7643312\n",
       "4   6  13  1.6560510\n",
       "5   7  15  1.9108280\n",
       "6   8  53  6.7515924\n",
       "7   9  51  6.4968153\n",
       "8  10 109 13.8853503\n",
       "9  11 114 14.5222930\n",
       "10 12  77  9.8089172\n",
       "11 13  82 10.4458599\n",
       "12 14  71  9.0445860\n",
       "13 15  59  7.5159236\n",
       "14 16  37  4.7133758\n",
       "15 17  29  3.6942675\n",
       "16 18  20  2.5477707\n",
       "17 19   7  0.8917197\n",
       "18 20   1  0.1273885"
      ]
     },
     "metadata": {},
     "output_type": "display_data"
    }
   ],
   "source": [
    "instances_for_classes <- data_train %>%  \n",
    "    select(G3) %>%  \n",
    "    group_by(G3) %>%  \n",
    "    summarize(n = n(),\n",
    "            percentage = n() / nrow(data_train) * 100)\n",
    "\n",
    "instances_for_classes"
   ]
  },
  {
   "cell_type": "markdown",
   "metadata": {},
   "source": [
    "# Modify initial dataset: Add Classification for G3 \n",
    " \n",
    "To balance out the number of observations"
   ]
  },
  {
   "cell_type": "code",
   "execution_count": 32,
   "metadata": {},
   "outputs": [
    {
     "data": {
      "text/html": [
       "<table>\n",
       "<caption>A data.frame: 10 × 5</caption>\n",
       "<thead>\n",
       "\t<tr><th></th><th scope=col>goout</th><th scope=col>Dalc</th><th scope=col>Walc</th><th scope=col>G3</th><th scope=col>G3_class</th></tr>\n",
       "\t<tr><th></th><th scope=col>&lt;int&gt;</th><th scope=col>&lt;int&gt;</th><th scope=col>&lt;int&gt;</th><th scope=col>&lt;int&gt;</th><th scope=col>&lt;chr&gt;</th></tr>\n",
       "</thead>\n",
       "<tbody>\n",
       "\t<tr><th scope=row>1</th><td>4</td><td>1</td><td>1</td><td> 6</td><td>poor   </td></tr>\n",
       "\t<tr><th scope=row>2</th><td>2</td><td>2</td><td>3</td><td>10</td><td>poor   </td></tr>\n",
       "\t<tr><th scope=row>3</th><td>2</td><td>1</td><td>1</td><td>15</td><td>average</td></tr>\n",
       "\t<tr><th scope=row>4</th><td>2</td><td>1</td><td>2</td><td>10</td><td>poor   </td></tr>\n",
       "\t<tr><th scope=row>5</th><td>2</td><td>1</td><td>2</td><td>15</td><td>average</td></tr>\n",
       "\t<tr><th scope=row>6</th><td>4</td><td>1</td><td>1</td><td> 6</td><td>poor   </td></tr>\n",
       "\t<tr><th scope=row>7</th><td>2</td><td>1</td><td>1</td><td>19</td><td>good   </td></tr>\n",
       "\t<tr><th scope=row>8</th><td>1</td><td>1</td><td>1</td><td>15</td><td>average</td></tr>\n",
       "\t<tr><th scope=row>9</th><td>3</td><td>1</td><td>2</td><td> 9</td><td>poor   </td></tr>\n",
       "\t<tr><th scope=row>10</th><td>2</td><td>1</td><td>1</td><td>12</td><td>average</td></tr>\n",
       "</tbody>\n",
       "</table>\n"
      ],
      "text/latex": [
       "A data.frame: 10 × 5\n",
       "\\begin{tabular}{r|lllll}\n",
       "  & goout & Dalc & Walc & G3 & G3\\_class\\\\\n",
       "  & <int> & <int> & <int> & <int> & <chr>\\\\\n",
       "\\hline\n",
       "\t1 & 4 & 1 & 1 &  6 & poor   \\\\\n",
       "\t2 & 2 & 2 & 3 & 10 & poor   \\\\\n",
       "\t3 & 2 & 1 & 1 & 15 & average\\\\\n",
       "\t4 & 2 & 1 & 2 & 10 & poor   \\\\\n",
       "\t5 & 2 & 1 & 2 & 15 & average\\\\\n",
       "\t6 & 4 & 1 & 1 &  6 & poor   \\\\\n",
       "\t7 & 2 & 1 & 1 & 19 & good   \\\\\n",
       "\t8 & 1 & 1 & 1 & 15 & average\\\\\n",
       "\t9 & 3 & 1 & 2 &  9 & poor   \\\\\n",
       "\t10 & 2 & 1 & 1 & 12 & average\\\\\n",
       "\\end{tabular}\n"
      ],
      "text/markdown": [
       "\n",
       "A data.frame: 10 × 5\n",
       "\n",
       "| <!--/--> | goout &lt;int&gt; | Dalc &lt;int&gt; | Walc &lt;int&gt; | G3 &lt;int&gt; | G3_class &lt;chr&gt; |\n",
       "|---|---|---|---|---|---|\n",
       "| 1 | 4 | 1 | 1 |  6 | poor    |\n",
       "| 2 | 2 | 2 | 3 | 10 | poor    |\n",
       "| 3 | 2 | 1 | 1 | 15 | average |\n",
       "| 4 | 2 | 1 | 2 | 10 | poor    |\n",
       "| 5 | 2 | 1 | 2 | 15 | average |\n",
       "| 6 | 4 | 1 | 1 |  6 | poor    |\n",
       "| 7 | 2 | 1 | 1 | 19 | good    |\n",
       "| 8 | 1 | 1 | 1 | 15 | average |\n",
       "| 9 | 3 | 1 | 2 |  9 | poor    |\n",
       "| 10 | 2 | 1 | 1 | 12 | average |\n",
       "\n"
      ],
      "text/plain": [
       "   goout Dalc Walc G3 G3_class\n",
       "1  4     1    1     6 poor    \n",
       "2  2     2    3    10 poor    \n",
       "3  2     1    1    15 average \n",
       "4  2     1    2    10 poor    \n",
       "5  2     1    2    15 average \n",
       "6  4     1    1     6 poor    \n",
       "7  2     1    1    19 good    \n",
       "8  1     1    1    15 average \n",
       "9  3     1    2     9 poor    \n",
       "10 2     1    1    12 average "
      ]
     },
     "metadata": {},
     "output_type": "display_data"
    },
    {
     "data": {
      "text/html": [
       "<style>\n",
       ".list-inline {list-style: none; margin:0; padding: 0}\n",
       ".list-inline>li {display: inline-block}\n",
       ".list-inline>li:not(:last-child)::after {content: \"\\00b7\"; padding: 0 .5ex}\n",
       "</style>\n",
       "<ol class=list-inline><li>'poor'</li><li>'average'</li><li>'good'</li><li>'very poor'</li></ol>\n"
      ],
      "text/latex": [
       "\\begin{enumerate*}\n",
       "\\item 'poor'\n",
       "\\item 'average'\n",
       "\\item 'good'\n",
       "\\item 'very poor'\n",
       "\\end{enumerate*}\n"
      ],
      "text/markdown": [
       "1. 'poor'\n",
       "2. 'average'\n",
       "3. 'good'\n",
       "4. 'very poor'\n",
       "\n",
       "\n"
      ],
      "text/plain": [
       "[1] \"poor\"      \"average\"   \"good\"      \"very poor\""
      ]
     },
     "metadata": {},
     "output_type": "display_data"
    }
   ],
   "source": [
    "data_train_new_classifier <- data_train %>% \n",
    "    mutate(G3_class = case_when((G3 >= 0 & G3 <= 5) ~ \"very poor\", \n",
    "                                (G3 >= 6 & G3 <= 10) ~ \"poor\",\n",
    "                                (G3 >= 11 & G3 <= 15) ~ \"average\", \n",
    "                                (G3 >= 16 & G3 <= 20) ~ \"good\"))\n",
    "\n",
    "head(data_train_new_classifier, 10)\n",
    "unique(data_train_new_classifier$G3_class)"
   ]
  },
  {
   "cell_type": "markdown",
   "metadata": {},
   "source": [
    "## Visualization: \n",
    "In the following cells we provide plots that display the count of how many people got good grades (G3 >= 16) for each predictor variable"
   ]
  },
  {
   "cell_type": "code",
   "execution_count": 9,
   "metadata": {},
   "outputs": [
    {
     "data": {
      "image/png": "[encoded data removed]",
      "text/plain": [
       "plot without title"
      ]
     },
     "metadata": {
      "image/png": {
       "height": 420,
       "width": 420
      }
     },
     "output_type": "display_data"
    },
    {
     "data": {
      "image/png": "[encoded data removed]",
      "text/plain": [
       "plot without title"
      ]
     },
     "metadata": {
      "image/png": {
       "height": 420,
       "width": 420
      }
     },
     "output_type": "display_data"
    },
    {
     "data": {
      "image/png": "[encoded data removed]",
      "text/plain": [
       "plot without title"
      ]
     },
     "metadata": {
      "image/png": {
       "height": 420,
       "width": 420
      }
     },
     "output_type": "display_data"
    }
   ],
   "source": [
    "goout_viz <- data_train %>%\n",
    "             filter(G3 >= 16) %>%\n",
    "             ggplot(aes(x = goout)) +\n",
    "             geom_bar() +\n",
    "             xlab(\"Going Out With Friends (1-5)\") +\n",
    "             ylab(\"Count of grades >= 16\")\n",
    "dalc_viz <- data_train %>%\n",
    "            filter(G3 >= 16) %>%\n",
    "             ggplot(aes(x = Dalc)) +\n",
    "             geom_bar() +\n",
    "             xlab(\"Daytime Alcohol Consumption\") +\n",
    "             ylab(\"Count of grades >= 16\")\n",
    "walc_viz <- data_train %>%\n",
    "            filter(G3 >= 16) %>%\n",
    "             ggplot(aes(x = Walc)) +\n",
    "             geom_bar() +\n",
    "             xlab(\"Weekend Alcohol Consumption\") +\n",
    "             ylab(\"Count of grades >= 16\")\n",
    "goout_viz\n",
    "dalc_viz\n",
    "walc_viz"
   ]
  },
  {
   "cell_type": "markdown",
   "metadata": {},
   "source": [
    "We can see that there is a clear trend with alcohol consumption - students who drink more alcohol tend to not get good grades. However, the trend is not as clear with the \"going out with friends\" variable. "
   ]
  },
  {
   "cell_type": "markdown",
   "metadata": {},
   "source": [
    "## Methods:\n",
    "As we are interested in finding the relationship between outside distractions and school performance, we will be using the columns \"goout\" (time spent going out with friends), \"Dalc\" (workday alcohol consumption), and \"Walc\" (weekend alcohol consumption) as our predictors in order to make a model that predicts students' grades. The other columns in the dataset are not relevant since they are not considered distractions so we exclude them. With these variables we will create a k-nn model in order to predict the grade a student will receive given values for \"goout\", \"Dalc\", and \"Walc\"."
   ]
  },
  {
   "cell_type": "code",
   "execution_count": null,
   "metadata": {},
   "outputs": [],
   "source": []
  }
 ],
 "metadata": {
  "kernelspec": {
   "display_name": "R",
   "language": "R",
   "name": "ir"
  },
  "language_info": {
   "codemirror_mode": "r",
   "file_extension": ".r",
   "mimetype": "text/x-r-source",
   "name": "R",
   "pygments_lexer": "r",
   "version": "4.0.0"
  }
 },
 "nbformat": 4,
 "nbformat_minor": 4
}
