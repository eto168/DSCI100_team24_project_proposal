{
 "cells": [
  {
   "cell_type": "markdown",
   "metadata": {},
   "source": [
    "# Group Project Proposal\n"
   ]
  },
  {
   "cell_type": "markdown",
   "metadata": {},
   "source": [
    "## Introduction:\n",
    "\n",
    "As students, balancing our life outside of school can be challenging. With the many distractions around us, it can be hard to determine how much time we should spend in our leisure, versus time spent on school. \n",
    "\n",
    "The dataset we will be using for this analysis was collected by Paulo Cortez from the University of Minho, GuimarÃ£es, Portugal. This dataset details the performance of students aged 15-22 from two Portugeuse secondary schools. Each row represents an observation of a single student, with the grades they received from each period (G1, G2, G3) along with various details of their life, such as how much free time they have, whether they are in a romantic relationship etc.\n",
    "\n",
    "In this project, we propose using a K nearest neighbors (KNN)-model to explore the relationship between time spent on several distractions and the grades received in school.\n"
   ]
  },
  {
   "cell_type": "markdown",
   "metadata": {},
   "source": [
    "# Load Relevant Libraries"
   ]
  },
  {
   "cell_type": "code",
   "execution_count": 36,
   "metadata": {},
   "outputs": [],
   "source": [
    "library(tidyverse)\n",
    "library(tidymodels)\n",
    "library(repr)\n",
    "set.seed(1000)"
   ]
  },
  {
   "cell_type": "markdown",
   "metadata": {},
   "source": [
    "# Data Collection\n",
    "\n",
    "idea from: https://stackoverflow.com/questions/3053833/using-r-to-download-zipped-data-file-extract-and-import-data\n",
    "data from: https://archive.ics.uci.edu/ml/machine-learning-databases/00320/\n"
   ]
  },
  {
   "cell_type": "code",
   "execution_count": 37,
   "metadata": {},
   "outputs": [
    {
     "data": {
      "text/html": [
       "<table>\n",
       "<caption>A data.frame: 5 × 33</caption>\n",
       "<thead>\n",
       "\t<tr><th></th><th scope=col>school</th><th scope=col>sex</th><th scope=col>age</th><th scope=col>address</th><th scope=col>famsize</th><th scope=col>Pstatus</th><th scope=col>Medu</th><th scope=col>Fedu</th><th scope=col>Mjob</th><th scope=col>Fjob</th><th scope=col>⋯</th><th scope=col>famrel</th><th scope=col>freetime</th><th scope=col>goout</th><th scope=col>Dalc</th><th scope=col>Walc</th><th scope=col>health</th><th scope=col>absences</th><th scope=col>G1</th><th scope=col>G2</th><th scope=col>G3</th></tr>\n",
       "\t<tr><th></th><th scope=col>&lt;chr&gt;</th><th scope=col>&lt;chr&gt;</th><th scope=col>&lt;int&gt;</th><th scope=col>&lt;chr&gt;</th><th scope=col>&lt;chr&gt;</th><th scope=col>&lt;chr&gt;</th><th scope=col>&lt;int&gt;</th><th scope=col>&lt;int&gt;</th><th scope=col>&lt;chr&gt;</th><th scope=col>&lt;chr&gt;</th><th scope=col>⋯</th><th scope=col>&lt;int&gt;</th><th scope=col>&lt;int&gt;</th><th scope=col>&lt;int&gt;</th><th scope=col>&lt;int&gt;</th><th scope=col>&lt;int&gt;</th><th scope=col>&lt;int&gt;</th><th scope=col>&lt;int&gt;</th><th scope=col>&lt;int&gt;</th><th scope=col>&lt;int&gt;</th><th scope=col>&lt;int&gt;</th></tr>\n",
       "</thead>\n",
       "<tbody>\n",
       "\t<tr><th scope=row>1</th><td>GP</td><td>F</td><td>18</td><td>U</td><td>GT3</td><td>A</td><td>4</td><td>4</td><td>at_home</td><td>teacher </td><td>⋯</td><td>4</td><td>3</td><td>4</td><td>1</td><td>1</td><td>3</td><td> 6</td><td> 5</td><td> 6</td><td> 6</td></tr>\n",
       "\t<tr><th scope=row>2</th><td>GP</td><td>F</td><td>17</td><td>U</td><td>GT3</td><td>T</td><td>1</td><td>1</td><td>at_home</td><td>other   </td><td>⋯</td><td>5</td><td>3</td><td>3</td><td>1</td><td>1</td><td>3</td><td> 4</td><td> 5</td><td> 5</td><td> 6</td></tr>\n",
       "\t<tr><th scope=row>3</th><td>GP</td><td>F</td><td>15</td><td>U</td><td>LE3</td><td>T</td><td>1</td><td>1</td><td>at_home</td><td>other   </td><td>⋯</td><td>4</td><td>3</td><td>2</td><td>2</td><td>3</td><td>3</td><td>10</td><td> 7</td><td> 8</td><td>10</td></tr>\n",
       "\t<tr><th scope=row>4</th><td>GP</td><td>F</td><td>15</td><td>U</td><td>GT3</td><td>T</td><td>4</td><td>2</td><td>health </td><td>services</td><td>⋯</td><td>3</td><td>2</td><td>2</td><td>1</td><td>1</td><td>5</td><td> 2</td><td>15</td><td>14</td><td>15</td></tr>\n",
       "\t<tr><th scope=row>5</th><td>GP</td><td>F</td><td>16</td><td>U</td><td>GT3</td><td>T</td><td>3</td><td>3</td><td>other  </td><td>other   </td><td>⋯</td><td>4</td><td>3</td><td>2</td><td>1</td><td>2</td><td>5</td><td> 4</td><td> 6</td><td>10</td><td>10</td></tr>\n",
       "</tbody>\n",
       "</table>\n"
      ],
      "text/latex": [
       "A data.frame: 5 × 33\n",
       "\\begin{tabular}{r|lllllllllllllllllllll}\n",
       "  & school & sex & age & address & famsize & Pstatus & Medu & Fedu & Mjob & Fjob & ⋯ & famrel & freetime & goout & Dalc & Walc & health & absences & G1 & G2 & G3\\\\\n",
       "  & <chr> & <chr> & <int> & <chr> & <chr> & <chr> & <int> & <int> & <chr> & <chr> & ⋯ & <int> & <int> & <int> & <int> & <int> & <int> & <int> & <int> & <int> & <int>\\\\\n",
       "\\hline\n",
       "\t1 & GP & F & 18 & U & GT3 & A & 4 & 4 & at\\_home & teacher  & ⋯ & 4 & 3 & 4 & 1 & 1 & 3 &  6 &  5 &  6 &  6\\\\\n",
       "\t2 & GP & F & 17 & U & GT3 & T & 1 & 1 & at\\_home & other    & ⋯ & 5 & 3 & 3 & 1 & 1 & 3 &  4 &  5 &  5 &  6\\\\\n",
       "\t3 & GP & F & 15 & U & LE3 & T & 1 & 1 & at\\_home & other    & ⋯ & 4 & 3 & 2 & 2 & 3 & 3 & 10 &  7 &  8 & 10\\\\\n",
       "\t4 & GP & F & 15 & U & GT3 & T & 4 & 2 & health  & services & ⋯ & 3 & 2 & 2 & 1 & 1 & 5 &  2 & 15 & 14 & 15\\\\\n",
       "\t5 & GP & F & 16 & U & GT3 & T & 3 & 3 & other   & other    & ⋯ & 4 & 3 & 2 & 1 & 2 & 5 &  4 &  6 & 10 & 10\\\\\n",
       "\\end{tabular}\n"
      ],
      "text/markdown": [
       "\n",
       "A data.frame: 5 × 33\n",
       "\n",
       "| <!--/--> | school &lt;chr&gt; | sex &lt;chr&gt; | age &lt;int&gt; | address &lt;chr&gt; | famsize &lt;chr&gt; | Pstatus &lt;chr&gt; | Medu &lt;int&gt; | Fedu &lt;int&gt; | Mjob &lt;chr&gt; | Fjob &lt;chr&gt; | ⋯ ⋯ | famrel &lt;int&gt; | freetime &lt;int&gt; | goout &lt;int&gt; | Dalc &lt;int&gt; | Walc &lt;int&gt; | health &lt;int&gt; | absences &lt;int&gt; | G1 &lt;int&gt; | G2 &lt;int&gt; | G3 &lt;int&gt; |\n",
       "|---|---|---|---|---|---|---|---|---|---|---|---|---|---|---|---|---|---|---|---|---|---|\n",
       "| 1 | GP | F | 18 | U | GT3 | A | 4 | 4 | at_home | teacher  | ⋯ | 4 | 3 | 4 | 1 | 1 | 3 |  6 |  5 |  6 |  6 |\n",
       "| 2 | GP | F | 17 | U | GT3 | T | 1 | 1 | at_home | other    | ⋯ | 5 | 3 | 3 | 1 | 1 | 3 |  4 |  5 |  5 |  6 |\n",
       "| 3 | GP | F | 15 | U | LE3 | T | 1 | 1 | at_home | other    | ⋯ | 4 | 3 | 2 | 2 | 3 | 3 | 10 |  7 |  8 | 10 |\n",
       "| 4 | GP | F | 15 | U | GT3 | T | 4 | 2 | health  | services | ⋯ | 3 | 2 | 2 | 1 | 1 | 5 |  2 | 15 | 14 | 15 |\n",
       "| 5 | GP | F | 16 | U | GT3 | T | 3 | 3 | other   | other    | ⋯ | 4 | 3 | 2 | 1 | 2 | 5 |  4 |  6 | 10 | 10 |\n",
       "\n"
      ],
      "text/plain": [
       "  school sex age address famsize Pstatus Medu Fedu Mjob    Fjob     ⋯ famrel\n",
       "1 GP     F   18  U       GT3     A       4    4    at_home teacher  ⋯ 4     \n",
       "2 GP     F   17  U       GT3     T       1    1    at_home other    ⋯ 5     \n",
       "3 GP     F   15  U       LE3     T       1    1    at_home other    ⋯ 4     \n",
       "4 GP     F   15  U       GT3     T       4    2    health  services ⋯ 3     \n",
       "5 GP     F   16  U       GT3     T       3    3    other   other    ⋯ 4     \n",
       "  freetime goout Dalc Walc health absences G1 G2 G3\n",
       "1 3        4     1    1    3       6        5  6  6\n",
       "2 3        3     1    1    3       4        5  5  6\n",
       "3 3        2     2    3    3      10        7  8 10\n",
       "4 2        2     1    1    5       2       15 14 15\n",
       "5 3        2     1    2    5       4        6 10 10"
      ]
     },
     "metadata": {},
     "output_type": "display_data"
    },
    {
     "data": {
      "text/html": [
       "<table>\n",
       "<caption>A data.frame: 5 × 33</caption>\n",
       "<thead>\n",
       "\t<tr><th></th><th scope=col>school</th><th scope=col>sex</th><th scope=col>age</th><th scope=col>address</th><th scope=col>famsize</th><th scope=col>Pstatus</th><th scope=col>Medu</th><th scope=col>Fedu</th><th scope=col>Mjob</th><th scope=col>Fjob</th><th scope=col>⋯</th><th scope=col>famrel</th><th scope=col>freetime</th><th scope=col>goout</th><th scope=col>Dalc</th><th scope=col>Walc</th><th scope=col>health</th><th scope=col>absences</th><th scope=col>G1</th><th scope=col>G2</th><th scope=col>G3</th></tr>\n",
       "\t<tr><th></th><th scope=col>&lt;chr&gt;</th><th scope=col>&lt;chr&gt;</th><th scope=col>&lt;int&gt;</th><th scope=col>&lt;chr&gt;</th><th scope=col>&lt;chr&gt;</th><th scope=col>&lt;chr&gt;</th><th scope=col>&lt;int&gt;</th><th scope=col>&lt;int&gt;</th><th scope=col>&lt;chr&gt;</th><th scope=col>&lt;chr&gt;</th><th scope=col>⋯</th><th scope=col>&lt;int&gt;</th><th scope=col>&lt;int&gt;</th><th scope=col>&lt;int&gt;</th><th scope=col>&lt;int&gt;</th><th scope=col>&lt;int&gt;</th><th scope=col>&lt;int&gt;</th><th scope=col>&lt;int&gt;</th><th scope=col>&lt;int&gt;</th><th scope=col>&lt;int&gt;</th><th scope=col>&lt;int&gt;</th></tr>\n",
       "</thead>\n",
       "<tbody>\n",
       "\t<tr><th scope=row>1</th><td>GP</td><td>F</td><td>18</td><td>U</td><td>GT3</td><td>A</td><td>4</td><td>4</td><td>at_home</td><td>teacher </td><td>⋯</td><td>4</td><td>3</td><td>4</td><td>1</td><td>1</td><td>3</td><td>4</td><td> 0</td><td>11</td><td>11</td></tr>\n",
       "\t<tr><th scope=row>2</th><td>GP</td><td>F</td><td>17</td><td>U</td><td>GT3</td><td>T</td><td>1</td><td>1</td><td>at_home</td><td>other   </td><td>⋯</td><td>5</td><td>3</td><td>3</td><td>1</td><td>1</td><td>3</td><td>2</td><td> 9</td><td>11</td><td>11</td></tr>\n",
       "\t<tr><th scope=row>3</th><td>GP</td><td>F</td><td>15</td><td>U</td><td>LE3</td><td>T</td><td>1</td><td>1</td><td>at_home</td><td>other   </td><td>⋯</td><td>4</td><td>3</td><td>2</td><td>2</td><td>3</td><td>3</td><td>6</td><td>12</td><td>13</td><td>12</td></tr>\n",
       "\t<tr><th scope=row>4</th><td>GP</td><td>F</td><td>15</td><td>U</td><td>GT3</td><td>T</td><td>4</td><td>2</td><td>health </td><td>services</td><td>⋯</td><td>3</td><td>2</td><td>2</td><td>1</td><td>1</td><td>5</td><td>0</td><td>14</td><td>14</td><td>14</td></tr>\n",
       "\t<tr><th scope=row>5</th><td>GP</td><td>F</td><td>16</td><td>U</td><td>GT3</td><td>T</td><td>3</td><td>3</td><td>other  </td><td>other   </td><td>⋯</td><td>4</td><td>3</td><td>2</td><td>1</td><td>2</td><td>5</td><td>0</td><td>11</td><td>13</td><td>13</td></tr>\n",
       "</tbody>\n",
       "</table>\n"
      ],
      "text/latex": [
       "A data.frame: 5 × 33\n",
       "\\begin{tabular}{r|lllllllllllllllllllll}\n",
       "  & school & sex & age & address & famsize & Pstatus & Medu & Fedu & Mjob & Fjob & ⋯ & famrel & freetime & goout & Dalc & Walc & health & absences & G1 & G2 & G3\\\\\n",
       "  & <chr> & <chr> & <int> & <chr> & <chr> & <chr> & <int> & <int> & <chr> & <chr> & ⋯ & <int> & <int> & <int> & <int> & <int> & <int> & <int> & <int> & <int> & <int>\\\\\n",
       "\\hline\n",
       "\t1 & GP & F & 18 & U & GT3 & A & 4 & 4 & at\\_home & teacher  & ⋯ & 4 & 3 & 4 & 1 & 1 & 3 & 4 &  0 & 11 & 11\\\\\n",
       "\t2 & GP & F & 17 & U & GT3 & T & 1 & 1 & at\\_home & other    & ⋯ & 5 & 3 & 3 & 1 & 1 & 3 & 2 &  9 & 11 & 11\\\\\n",
       "\t3 & GP & F & 15 & U & LE3 & T & 1 & 1 & at\\_home & other    & ⋯ & 4 & 3 & 2 & 2 & 3 & 3 & 6 & 12 & 13 & 12\\\\\n",
       "\t4 & GP & F & 15 & U & GT3 & T & 4 & 2 & health  & services & ⋯ & 3 & 2 & 2 & 1 & 1 & 5 & 0 & 14 & 14 & 14\\\\\n",
       "\t5 & GP & F & 16 & U & GT3 & T & 3 & 3 & other   & other    & ⋯ & 4 & 3 & 2 & 1 & 2 & 5 & 0 & 11 & 13 & 13\\\\\n",
       "\\end{tabular}\n"
      ],
      "text/markdown": [
       "\n",
       "A data.frame: 5 × 33\n",
       "\n",
       "| <!--/--> | school &lt;chr&gt; | sex &lt;chr&gt; | age &lt;int&gt; | address &lt;chr&gt; | famsize &lt;chr&gt; | Pstatus &lt;chr&gt; | Medu &lt;int&gt; | Fedu &lt;int&gt; | Mjob &lt;chr&gt; | Fjob &lt;chr&gt; | ⋯ ⋯ | famrel &lt;int&gt; | freetime &lt;int&gt; | goout &lt;int&gt; | Dalc &lt;int&gt; | Walc &lt;int&gt; | health &lt;int&gt; | absences &lt;int&gt; | G1 &lt;int&gt; | G2 &lt;int&gt; | G3 &lt;int&gt; |\n",
       "|---|---|---|---|---|---|---|---|---|---|---|---|---|---|---|---|---|---|---|---|---|---|\n",
       "| 1 | GP | F | 18 | U | GT3 | A | 4 | 4 | at_home | teacher  | ⋯ | 4 | 3 | 4 | 1 | 1 | 3 | 4 |  0 | 11 | 11 |\n",
       "| 2 | GP | F | 17 | U | GT3 | T | 1 | 1 | at_home | other    | ⋯ | 5 | 3 | 3 | 1 | 1 | 3 | 2 |  9 | 11 | 11 |\n",
       "| 3 | GP | F | 15 | U | LE3 | T | 1 | 1 | at_home | other    | ⋯ | 4 | 3 | 2 | 2 | 3 | 3 | 6 | 12 | 13 | 12 |\n",
       "| 4 | GP | F | 15 | U | GT3 | T | 4 | 2 | health  | services | ⋯ | 3 | 2 | 2 | 1 | 1 | 5 | 0 | 14 | 14 | 14 |\n",
       "| 5 | GP | F | 16 | U | GT3 | T | 3 | 3 | other   | other    | ⋯ | 4 | 3 | 2 | 1 | 2 | 5 | 0 | 11 | 13 | 13 |\n",
       "\n"
      ],
      "text/plain": [
       "  school sex age address famsize Pstatus Medu Fedu Mjob    Fjob     ⋯ famrel\n",
       "1 GP     F   18  U       GT3     A       4    4    at_home teacher  ⋯ 4     \n",
       "2 GP     F   17  U       GT3     T       1    1    at_home other    ⋯ 5     \n",
       "3 GP     F   15  U       LE3     T       1    1    at_home other    ⋯ 4     \n",
       "4 GP     F   15  U       GT3     T       4    2    health  services ⋯ 3     \n",
       "5 GP     F   16  U       GT3     T       3    3    other   other    ⋯ 4     \n",
       "  freetime goout Dalc Walc health absences G1 G2 G3\n",
       "1 3        4     1    1    3      4         0 11 11\n",
       "2 3        3     1    1    3      2         9 11 11\n",
       "3 3        2     2    3    3      6        12 13 12\n",
       "4 2        2     1    1    5      0        14 14 14\n",
       "5 3        2     1    2    5      0        11 13 13"
      ]
     },
     "metadata": {},
     "output_type": "display_data"
    }
   ],
   "source": [
    "#make a temporary file \n",
    "tempfile <- tempfile()\n",
    "\n",
    "#download file into temp \n",
    "download.file(\"https://archive.ics.uci.edu/ml/machine-learning-databases/00320/student.zip\", \n",
    "              tempfile) \n",
    "\n",
    "#extract relevant files \n",
    "student_mat <- read.table(unz(tempfile, \"student-mat.csv\"), \n",
    "                          header = TRUE, \n",
    "                          sep = \";\")\n",
    "student_por <- read.table(unz(tempfile, \"student-por.csv\"), \n",
    "                          header = TRUE, \n",
    "                          sep = \";\")\n",
    "unlink(tempfile)\n",
    "\n",
    "#read files to see\n",
    "head(student_mat, 5)\n",
    "head(student_por, 5)\n"
   ]
  },
  {
   "cell_type": "markdown",
   "metadata": {},
   "source": [
    "## Tidying the data/Splitting into training and testing sets\n",
    "To tidy the data we will need to merge both datasets into one combined set, we do this in the following cell. \n",
    "We also filter to just have the columns that we are interested in for our analysis.\n",
    "\n",
    "Finally we split our dataset into a training and testing set.\n",
    "\n",
    "For the remaining code in this notebooks, we will be working on the __training data__ only"
   ]
  },
  {
   "cell_type": "code",
   "execution_count": 24,
   "metadata": {},
   "outputs": [
    {
     "data": {
      "text/html": [
       "<table>\n",
       "<caption>A data.frame: 4 × 4</caption>\n",
       "<thead>\n",
       "\t<tr><th></th><th scope=col>goout</th><th scope=col>Dalc</th><th scope=col>Walc</th><th scope=col>G3</th></tr>\n",
       "\t<tr><th></th><th scope=col>&lt;int&gt;</th><th scope=col>&lt;int&gt;</th><th scope=col>&lt;int&gt;</th><th scope=col>&lt;int&gt;</th></tr>\n",
       "</thead>\n",
       "<tbody>\n",
       "\t<tr><th scope=row>1</th><td>4</td><td>1</td><td>1</td><td> 6</td></tr>\n",
       "\t<tr><th scope=row>3</th><td>2</td><td>2</td><td>3</td><td>10</td></tr>\n",
       "\t<tr><th scope=row>4</th><td>2</td><td>1</td><td>1</td><td>15</td></tr>\n",
       "\t<tr><th scope=row>5</th><td>2</td><td>1</td><td>2</td><td>10</td></tr>\n",
       "</tbody>\n",
       "</table>\n"
      ],
      "text/latex": [
       "A data.frame: 4 × 4\n",
       "\\begin{tabular}{r|llll}\n",
       "  & goout & Dalc & Walc & G3\\\\\n",
       "  & <int> & <int> & <int> & <int>\\\\\n",
       "\\hline\n",
       "\t1 & 4 & 1 & 1 &  6\\\\\n",
       "\t3 & 2 & 2 & 3 & 10\\\\\n",
       "\t4 & 2 & 1 & 1 & 15\\\\\n",
       "\t5 & 2 & 1 & 2 & 10\\\\\n",
       "\\end{tabular}\n"
      ],
      "text/markdown": [
       "\n",
       "A data.frame: 4 × 4\n",
       "\n",
       "| <!--/--> | goout &lt;int&gt; | Dalc &lt;int&gt; | Walc &lt;int&gt; | G3 &lt;int&gt; |\n",
       "|---|---|---|---|---|\n",
       "| 1 | 4 | 1 | 1 |  6 |\n",
       "| 3 | 2 | 2 | 3 | 10 |\n",
       "| 4 | 2 | 1 | 1 | 15 |\n",
       "| 5 | 2 | 1 | 2 | 10 |\n",
       "\n"
      ],
      "text/plain": [
       "  goout Dalc Walc G3\n",
       "1 4     1    1     6\n",
       "3 2     2    3    10\n",
       "4 2     1    1    15\n",
       "5 2     1    2    10"
      ]
     },
     "metadata": {},
     "output_type": "display_data"
    }
   ],
   "source": [
    "total_set <- rbind(student_mat, student_por) \n",
    "\n",
    "filtered_set <- total_set %>% \n",
    "                select(goout, Dalc, Walc, G3)\n",
    "\n",
    "data_split <- initial_split(filtered_set, prop = 0.75, strata = G3)  #where G3 = final grade\n",
    "data_train <- training(data_split)   \n",
    "data_test <- testing(data_split)\n",
    "head(data_train, 4)"
   ]
  },
  {
   "cell_type": "markdown",
   "metadata": {},
   "source": [
    "## Summarizing data in a table\n",
    "\n",
    "In the following cell we find the mean of our predictor variables goout, Dalc, Walc"
   ]
  },
  {
   "cell_type": "code",
   "execution_count": 25,
   "metadata": {},
   "outputs": [
    {
     "data": {
      "text/html": [
       "<table>\n",
       "<caption>A tibble: 1 × 3</caption>\n",
       "<thead>\n",
       "\t<tr><th scope=col>goout</th><th scope=col>Dalc</th><th scope=col>Walc</th></tr>\n",
       "\t<tr><th scope=col>&lt;dbl&gt;</th><th scope=col>&lt;dbl&gt;</th><th scope=col>&lt;dbl&gt;</th></tr>\n",
       "</thead>\n",
       "<tbody>\n",
       "\t<tr><td>3.142675</td><td>1.490446</td><td>2.271338</td></tr>\n",
       "</tbody>\n",
       "</table>\n"
      ],
      "text/latex": [
       "A tibble: 1 × 3\n",
       "\\begin{tabular}{lll}\n",
       " goout & Dalc & Walc\\\\\n",
       " <dbl> & <dbl> & <dbl>\\\\\n",
       "\\hline\n",
       "\t 3.142675 & 1.490446 & 2.271338\\\\\n",
       "\\end{tabular}\n"
      ],
      "text/markdown": [
       "\n",
       "A tibble: 1 × 3\n",
       "\n",
       "| goout &lt;dbl&gt; | Dalc &lt;dbl&gt; | Walc &lt;dbl&gt; |\n",
       "|---|---|---|\n",
       "| 3.142675 | 1.490446 | 2.271338 |\n",
       "\n"
      ],
      "text/plain": [
       "  goout    Dalc     Walc    \n",
       "1 3.142675 1.490446 2.271338"
      ]
     },
     "metadata": {},
     "output_type": "display_data"
    }
   ],
   "source": [
    "predictor_means <- data_train %>%\n",
    "                   select(goout, Dalc, Walc) %>%\n",
    "                   map_df(mean)\n",
    "predictor_means"
   ]
  },
  {
   "cell_type": "markdown",
   "metadata": {},
   "source": [
    "We can see that on average more people go out with their friends versus drinking alcohol on the weekdays or weekends. It will be interesting to see if this variable has a greater effect on students' grades versus alcohol consumption."
   ]
  },
  {
   "cell_type": "markdown",
   "metadata": {},
   "source": [
    "## Summarize the number of observations for each class\n",
    "\n",
    "It is important to first see if the number of observations for each class is similar, otherwise the model will not be properly trained. "
   ]
  },
  {
   "cell_type": "code",
   "execution_count": 38,
   "metadata": {},
   "outputs": [
    {
     "name": "stderr",
     "output_type": "stream",
     "text": [
      "`summarise()` ungrouping output (override with `.groups` argument)\n",
      "\n"
     ]
    },
    {
     "data": {
      "text/html": [
       "<table>\n",
       "<caption>A tibble: 18 × 3</caption>\n",
       "<thead>\n",
       "\t<tr><th scope=col>G3</th><th scope=col>n</th><th scope=col>percentage</th></tr>\n",
       "\t<tr><th scope=col>&lt;int&gt;</th><th scope=col>&lt;int&gt;</th><th scope=col>&lt;dbl&gt;</th></tr>\n",
       "</thead>\n",
       "<tbody>\n",
       "\t<tr><td> 0</td><td> 40</td><td> 5.0955414</td></tr>\n",
       "\t<tr><td> 1</td><td>  1</td><td> 0.1273885</td></tr>\n",
       "\t<tr><td> 5</td><td>  6</td><td> 0.7643312</td></tr>\n",
       "\t<tr><td> 6</td><td> 13</td><td> 1.6560510</td></tr>\n",
       "\t<tr><td> 7</td><td> 15</td><td> 1.9108280</td></tr>\n",
       "\t<tr><td> 8</td><td> 53</td><td> 6.7515924</td></tr>\n",
       "\t<tr><td> 9</td><td> 51</td><td> 6.4968153</td></tr>\n",
       "\t<tr><td>10</td><td>109</td><td>13.8853503</td></tr>\n",
       "\t<tr><td>11</td><td>114</td><td>14.5222930</td></tr>\n",
       "\t<tr><td>12</td><td> 77</td><td> 9.8089172</td></tr>\n",
       "\t<tr><td>13</td><td> 82</td><td>10.4458599</td></tr>\n",
       "\t<tr><td>14</td><td> 71</td><td> 9.0445860</td></tr>\n",
       "\t<tr><td>15</td><td> 59</td><td> 7.5159236</td></tr>\n",
       "\t<tr><td>16</td><td> 37</td><td> 4.7133758</td></tr>\n",
       "\t<tr><td>17</td><td> 29</td><td> 3.6942675</td></tr>\n",
       "\t<tr><td>18</td><td> 20</td><td> 2.5477707</td></tr>\n",
       "\t<tr><td>19</td><td>  7</td><td> 0.8917197</td></tr>\n",
       "\t<tr><td>20</td><td>  1</td><td> 0.1273885</td></tr>\n",
       "</tbody>\n",
       "</table>\n"
      ],
      "text/latex": [
       "A tibble: 18 × 3\n",
       "\\begin{tabular}{lll}\n",
       " G3 & n & percentage\\\\\n",
       " <int> & <int> & <dbl>\\\\\n",
       "\\hline\n",
       "\t  0 &  40 &  5.0955414\\\\\n",
       "\t  1 &   1 &  0.1273885\\\\\n",
       "\t  5 &   6 &  0.7643312\\\\\n",
       "\t  6 &  13 &  1.6560510\\\\\n",
       "\t  7 &  15 &  1.9108280\\\\\n",
       "\t  8 &  53 &  6.7515924\\\\\n",
       "\t  9 &  51 &  6.4968153\\\\\n",
       "\t 10 & 109 & 13.8853503\\\\\n",
       "\t 11 & 114 & 14.5222930\\\\\n",
       "\t 12 &  77 &  9.8089172\\\\\n",
       "\t 13 &  82 & 10.4458599\\\\\n",
       "\t 14 &  71 &  9.0445860\\\\\n",
       "\t 15 &  59 &  7.5159236\\\\\n",
       "\t 16 &  37 &  4.7133758\\\\\n",
       "\t 17 &  29 &  3.6942675\\\\\n",
       "\t 18 &  20 &  2.5477707\\\\\n",
       "\t 19 &   7 &  0.8917197\\\\\n",
       "\t 20 &   1 &  0.1273885\\\\\n",
       "\\end{tabular}\n"
      ],
      "text/markdown": [
       "\n",
       "A tibble: 18 × 3\n",
       "\n",
       "| G3 &lt;int&gt; | n &lt;int&gt; | percentage &lt;dbl&gt; |\n",
       "|---|---|---|\n",
       "|  0 |  40 |  5.0955414 |\n",
       "|  1 |   1 |  0.1273885 |\n",
       "|  5 |   6 |  0.7643312 |\n",
       "|  6 |  13 |  1.6560510 |\n",
       "|  7 |  15 |  1.9108280 |\n",
       "|  8 |  53 |  6.7515924 |\n",
       "|  9 |  51 |  6.4968153 |\n",
       "| 10 | 109 | 13.8853503 |\n",
       "| 11 | 114 | 14.5222930 |\n",
       "| 12 |  77 |  9.8089172 |\n",
       "| 13 |  82 | 10.4458599 |\n",
       "| 14 |  71 |  9.0445860 |\n",
       "| 15 |  59 |  7.5159236 |\n",
       "| 16 |  37 |  4.7133758 |\n",
       "| 17 |  29 |  3.6942675 |\n",
       "| 18 |  20 |  2.5477707 |\n",
       "| 19 |   7 |  0.8917197 |\n",
       "| 20 |   1 |  0.1273885 |\n",
       "\n"
      ],
      "text/plain": [
       "   G3 n   percentage\n",
       "1   0  40  5.0955414\n",
       "2   1   1  0.1273885\n",
       "3   5   6  0.7643312\n",
       "4   6  13  1.6560510\n",
       "5   7  15  1.9108280\n",
       "6   8  53  6.7515924\n",
       "7   9  51  6.4968153\n",
       "8  10 109 13.8853503\n",
       "9  11 114 14.5222930\n",
       "10 12  77  9.8089172\n",
       "11 13  82 10.4458599\n",
       "12 14  71  9.0445860\n",
       "13 15  59  7.5159236\n",
       "14 16  37  4.7133758\n",
       "15 17  29  3.6942675\n",
       "16 18  20  2.5477707\n",
       "17 19   7  0.8917197\n",
       "18 20   1  0.1273885"
      ]
     },
     "metadata": {},
     "output_type": "display_data"
    }
   ],
   "source": [
    "instances_for_classes <- data_train %>%  \n",
    "    select(G3) %>%  \n",
    "    group_by(G3) %>%  \n",
    "    summarize(n = n(),\n",
    "            percentage = n() / nrow(data_train) * 100)\n",
    "\n",
    "instances_for_classes"
   ]
  },
  {
   "cell_type": "markdown",
   "metadata": {},
   "source": [
    "## Modify initial dataset: Add Classification for G3 \n",
    " \n",
    "To balance out the number of observations"
   ]
  },
  {
   "cell_type": "code",
   "execution_count": 32,
   "metadata": {},
   "outputs": [
    {
     "data": {
      "text/html": [
       "<table>\n",
       "<caption>A data.frame: 10 × 5</caption>\n",
       "<thead>\n",
       "\t<tr><th></th><th scope=col>goout</th><th scope=col>Dalc</th><th scope=col>Walc</th><th scope=col>G3</th><th scope=col>G3_class</th></tr>\n",
       "\t<tr><th></th><th scope=col>&lt;int&gt;</th><th scope=col>&lt;int&gt;</th><th scope=col>&lt;int&gt;</th><th scope=col>&lt;int&gt;</th><th scope=col>&lt;chr&gt;</th></tr>\n",
       "</thead>\n",
       "<tbody>\n",
       "\t<tr><th scope=row>1</th><td>4</td><td>1</td><td>1</td><td> 6</td><td>poor   </td></tr>\n",
       "\t<tr><th scope=row>2</th><td>2</td><td>2</td><td>3</td><td>10</td><td>poor   </td></tr>\n",
       "\t<tr><th scope=row>3</th><td>2</td><td>1</td><td>1</td><td>15</td><td>average</td></tr>\n",
       "\t<tr><th scope=row>4</th><td>2</td><td>1</td><td>2</td><td>10</td><td>poor   </td></tr>\n",
       "\t<tr><th scope=row>5</th><td>2</td><td>1</td><td>2</td><td>15</td><td>average</td></tr>\n",
       "\t<tr><th scope=row>6</th><td>4</td><td>1</td><td>1</td><td> 6</td><td>poor   </td></tr>\n",
       "\t<tr><th scope=row>7</th><td>2</td><td>1</td><td>1</td><td>19</td><td>good   </td></tr>\n",
       "\t<tr><th scope=row>8</th><td>1</td><td>1</td><td>1</td><td>15</td><td>average</td></tr>\n",
       "\t<tr><th scope=row>9</th><td>3</td><td>1</td><td>2</td><td> 9</td><td>poor   </td></tr>\n",
       "\t<tr><th scope=row>10</th><td>2</td><td>1</td><td>1</td><td>12</td><td>average</td></tr>\n",
       "</tbody>\n",
       "</table>\n"
      ],
      "text/latex": [
       "A data.frame: 10 × 5\n",
       "\\begin{tabular}{r|lllll}\n",
       "  & goout & Dalc & Walc & G3 & G3\\_class\\\\\n",
       "  & <int> & <int> & <int> & <int> & <chr>\\\\\n",
       "\\hline\n",
       "\t1 & 4 & 1 & 1 &  6 & poor   \\\\\n",
       "\t2 & 2 & 2 & 3 & 10 & poor   \\\\\n",
       "\t3 & 2 & 1 & 1 & 15 & average\\\\\n",
       "\t4 & 2 & 1 & 2 & 10 & poor   \\\\\n",
       "\t5 & 2 & 1 & 2 & 15 & average\\\\\n",
       "\t6 & 4 & 1 & 1 &  6 & poor   \\\\\n",
       "\t7 & 2 & 1 & 1 & 19 & good   \\\\\n",
       "\t8 & 1 & 1 & 1 & 15 & average\\\\\n",
       "\t9 & 3 & 1 & 2 &  9 & poor   \\\\\n",
       "\t10 & 2 & 1 & 1 & 12 & average\\\\\n",
       "\\end{tabular}\n"
      ],
      "text/markdown": [
       "\n",
       "A data.frame: 10 × 5\n",
       "\n",
       "| <!--/--> | goout &lt;int&gt; | Dalc &lt;int&gt; | Walc &lt;int&gt; | G3 &lt;int&gt; | G3_class &lt;chr&gt; |\n",
       "|---|---|---|---|---|---|\n",
       "| 1 | 4 | 1 | 1 |  6 | poor    |\n",
       "| 2 | 2 | 2 | 3 | 10 | poor    |\n",
       "| 3 | 2 | 1 | 1 | 15 | average |\n",
       "| 4 | 2 | 1 | 2 | 10 | poor    |\n",
       "| 5 | 2 | 1 | 2 | 15 | average |\n",
       "| 6 | 4 | 1 | 1 |  6 | poor    |\n",
       "| 7 | 2 | 1 | 1 | 19 | good    |\n",
       "| 8 | 1 | 1 | 1 | 15 | average |\n",
       "| 9 | 3 | 1 | 2 |  9 | poor    |\n",
       "| 10 | 2 | 1 | 1 | 12 | average |\n",
       "\n"
      ],
      "text/plain": [
       "   goout Dalc Walc G3 G3_class\n",
       "1  4     1    1     6 poor    \n",
       "2  2     2    3    10 poor    \n",
       "3  2     1    1    15 average \n",
       "4  2     1    2    10 poor    \n",
       "5  2     1    2    15 average \n",
       "6  4     1    1     6 poor    \n",
       "7  2     1    1    19 good    \n",
       "8  1     1    1    15 average \n",
       "9  3     1    2     9 poor    \n",
       "10 2     1    1    12 average "
      ]
     },
     "metadata": {},
     "output_type": "display_data"
    },
    {
     "data": {
      "text/html": [
       "<style>\n",
       ".list-inline {list-style: none; margin:0; padding: 0}\n",
       ".list-inline>li {display: inline-block}\n",
       ".list-inline>li:not(:last-child)::after {content: \"\\00b7\"; padding: 0 .5ex}\n",
       "</style>\n",
       "<ol class=list-inline><li>'poor'</li><li>'average'</li><li>'good'</li><li>'very poor'</li></ol>\n"
      ],
      "text/latex": [
       "\\begin{enumerate*}\n",
       "\\item 'poor'\n",
       "\\item 'average'\n",
       "\\item 'good'\n",
       "\\item 'very poor'\n",
       "\\end{enumerate*}\n"
      ],
      "text/markdown": [
       "1. 'poor'\n",
       "2. 'average'\n",
       "3. 'good'\n",
       "4. 'very poor'\n",
       "\n",
       "\n"
      ],
      "text/plain": [
       "[1] \"poor\"      \"average\"   \"good\"      \"very poor\""
      ]
     },
     "metadata": {},
     "output_type": "display_data"
    }
   ],
   "source": [
    "data_train_new_classifier <- data_train %>% \n",
    "    mutate(G3_class = case_when((G3 >= 0 & G3 <= 5) ~ \"very poor\", \n",
    "                                (G3 >= 6 & G3 <= 10) ~ \"poor\",\n",
    "                                (G3 >= 11 & G3 <= 15) ~ \"average\", \n",
    "                                (G3 >= 16 & G3 <= 20) ~ \"good\"))\n",
    "\n",
    "head(data_train_new_classifier, 10)\n",
    "unique(data_train_new_classifier$G3_class)"
   ]
  },
  {
   "cell_type": "code",
   "execution_count": 33,
   "metadata": {},
   "outputs": [
    {
     "name": "stderr",
     "output_type": "stream",
     "text": [
      "`summarise()` ungrouping output (override with `.groups` argument)\n",
      "\n"
     ]
    },
    {
     "data": {
      "text/html": [
       "<table>\n",
       "<caption>A tibble: 4 × 3</caption>\n",
       "<thead>\n",
       "\t<tr><th scope=col>G3_class</th><th scope=col>n</th><th scope=col>percentage</th></tr>\n",
       "\t<tr><th scope=col>&lt;chr&gt;</th><th scope=col>&lt;int&gt;</th><th scope=col>&lt;dbl&gt;</th></tr>\n",
       "</thead>\n",
       "<tbody>\n",
       "\t<tr><td>average  </td><td>403</td><td>51.337580</td></tr>\n",
       "\t<tr><td>good     </td><td> 94</td><td>11.974522</td></tr>\n",
       "\t<tr><td>poor     </td><td>241</td><td>30.700637</td></tr>\n",
       "\t<tr><td>very poor</td><td> 47</td><td> 5.987261</td></tr>\n",
       "</tbody>\n",
       "</table>\n"
      ],
      "text/latex": [
       "A tibble: 4 × 3\n",
       "\\begin{tabular}{lll}\n",
       " G3\\_class & n & percentage\\\\\n",
       " <chr> & <int> & <dbl>\\\\\n",
       "\\hline\n",
       "\t average   & 403 & 51.337580\\\\\n",
       "\t good      &  94 & 11.974522\\\\\n",
       "\t poor      & 241 & 30.700637\\\\\n",
       "\t very poor &  47 &  5.987261\\\\\n",
       "\\end{tabular}\n"
      ],
      "text/markdown": [
       "\n",
       "A tibble: 4 × 3\n",
       "\n",
       "| G3_class &lt;chr&gt; | n &lt;int&gt; | percentage &lt;dbl&gt; |\n",
       "|---|---|---|\n",
       "| average   | 403 | 51.337580 |\n",
       "| good      |  94 | 11.974522 |\n",
       "| poor      | 241 | 30.700637 |\n",
       "| very poor |  47 |  5.987261 |\n",
       "\n"
      ],
      "text/plain": [
       "  G3_class  n   percentage\n",
       "1 average   403 51.337580 \n",
       "2 good       94 11.974522 \n",
       "3 poor      241 30.700637 \n",
       "4 very poor  47  5.987261 "
      ]
     },
     "metadata": {},
     "output_type": "display_data"
    }
   ],
   "source": [
    "#Add summary \n",
    "\n",
    "summary <- data_train_new_classifier %>% \n",
    "    select(G3_class) %>% \n",
    "    group_by(G3_class) %>% \n",
    "    summarize(n = n(),\n",
    "              percentage = n() / nrow(data_train) * 100)\n",
    "\n",
    "summary\n",
    "    "
   ]
  },
  {
   "cell_type": "markdown",
   "metadata": {},
   "source": [
    "## Visualization: \n",
    "In the following cells we provide plots that display the count of how many people got good grades (G3 >= 15) for each predictor variable"
   ]
  },
  {
   "cell_type": "code",
   "execution_count": 7,
   "metadata": {},
   "outputs": [
    {
     "data": {
      "image/png": "[encoded data removed]",
      "text/plain": [
       "plot without title"
      ]
     },
     "metadata": {
      "image/png": {
       "height": 420,
       "width": 420
      }
     },
     "output_type": "display_data"
    },
    {
     "data": {
      "image/png": "[encoded data removed]",
      "text/plain": [
       "plot without title"
      ]
     },
     "metadata": {
      "image/png": {
       "height": 420,
       "width": 420
      }
     },
     "output_type": "display_data"
    },
    {
     "data": {
      "image/png": "[encoded data removed]",
      "text/plain": [
       "plot without title"
      ]
     },
     "metadata": {
      "image/png": {
       "height": 420,
       "width": 420
      }
     },
     "output_type": "display_data"
    }
   ],
   "source": [
    "goout_viz <- data_train %>%\n",
    "             filter(G3 >= 15) %>%\n",
    "             ggplot(aes(x = goout)) +\n",
    "             geom_bar() +\n",
    "             xlab(\"Going Out With Friends (1-5)\") +\n",
    "             ylab(\"Count of grades >= 15\")\n",
    "dalc_viz <- data_train %>%\n",
    "            filter(G3 >= 15) %>%\n",
    "             ggplot(aes(x = Dalc)) +\n",
    "             geom_bar() +\n",
    "             xlab(\"Daytime Alcohol Consumption\") +\n",
    "             ylab(\"Count of grades >= 15\")\n",
    "walc_viz <- data_train %>%\n",
    "            filter(G3 >= 15) %>%\n",
    "             ggplot(aes(x = Walc)) +\n",
    "             geom_bar() +\n",
    "             xlab(\"Weekend Alcohol Consumption\") +\n",
    "             ylab(\"Count of grades >= 15\")\n",
    "goout_viz\n",
    "dalc_viz\n",
    "walc_viz"
   ]
  },
  {
   "cell_type": "markdown",
   "metadata": {},
   "source": [
    "We can see that there is a clear trend with alcohol consumption - students who drink more alcohol tend to not get good grades. However, the trend is not as clear with the \"going out with friends\" variable. "
   ]
  },
  {
   "cell_type": "markdown",
   "metadata": {},
   "source": [
    "# Methods\n",
    "\n",
    "We are interested in finding the relationship between going out with friends, alcohol consumption, and school performance.\n",
    "\n",
    "We will be using the columns\n",
    "- \"goout\": time spent going out with friends,\n",
    "- \"Dalc\": workday alcohol consumption, and\n",
    "- \"Walc\": weekend alcohol consumption \n",
    "as our predictors in order to make a model that predicts students' (G3_class) final grade based on their level of engagement on these activities. \n",
    "\n",
    "The other columns in the dataset are not relevant since they are not considered distractions so we exclude them. With these variables we will create a k-nn model in order to predict the grade a student will receive given values for \"goout\", \"Dalc\", and \"Walc\".\n",
    "\n",
    "One way we wish to visualize our data would be to create a scatterplot with our model and divide the graph into areas that would predict good, average, poor, or very poor grades. One could then approximate a student's grade visually. "
   ]
  },
  {
   "cell_type": "markdown",
   "metadata": {},
   "source": [
    "# Expected Outcomes and Significance\n",
    "\n",
    "What do you expect to find?\n",
    "- We expect a negative correlation between grades and alcohol consumption (both workday and weekend) \n",
    "- We expect the relationship between going out with friends \n",
    "\n",
    "What impact could such findings have?\n",
    "- These results can highlight the effects of alcohol consumption on school grades for students aged 15-22\n",
    "- These results can show the positive and negative effects of going out with friends, and perhaps elucidate a “sweet spot” for this activity\n",
    "\n",
    "What future questions could this lead to?\n",
    "- What is the best strategy to balance distractions outside school while still achieving good performance? \n",
    "- Can we use this model to assist in early intervention for students who have poor predicted grades?\n"
   ]
  },
  {
   "cell_type": "code",
   "execution_count": null,
   "metadata": {},
   "outputs": [],
   "source": []
  }
 ],
 "metadata": {
  "kernelspec": {
   "display_name": "R",
   "language": "R",
   "name": "ir"
  },
  "language_info": {
   "codemirror_mode": "r",
   "file_extension": ".r",
   "mimetype": "text/x-r-source",
   "name": "R",
   "pygments_lexer": "r",
   "version": "4.0.0"
  }
 },
 "nbformat": 4,
 "nbformat_minor": 4
}
