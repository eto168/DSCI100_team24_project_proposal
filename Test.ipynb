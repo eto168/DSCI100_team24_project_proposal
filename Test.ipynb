{
 "cells": [
  {
   "cell_type": "markdown",
   "metadata": {},
   "source": [
    "# Group Project Proposal\n"
   ]
  },
  {
   "cell_type": "markdown",
   "metadata": {},
   "source": [
    "## Introduction:\n",
    "\n",
    "As students, balancing our life outside of school can be challenging. With the many distractions around us, it can be hard to determine how much time we should spend in our leisure, versus time spent on school. In this project, we will be attempting to discover the relationship between time spent on various distractions (in this case time spent with friends, and alcohol consumption on the weekdays and weekends) and the grades received in school.\n",
    "\n",
    "The dataset we will be using for this analysis details student performance from two Portugeuse secondary schools. Each row represents an observation of a single student, with the grades they received from each period (G1, G2, G3) along with various details of their life, such as  how much free time they have, whether they are in a romantic relationship etc. We will be using the columns \"goout\" (time spent going out with friends), \"Dalc\" (workday alcohol consumption), and \"Walc\" (weekend alcohol consumption) as our predictors in order to discover the relationship between these distractions outside of school and the grade the student received."
   ]
  },
  {
   "cell_type": "markdown",
   "metadata": {},
   "source": [
    "# Load Relevant Libraries"
   ]
  },
  {
   "cell_type": "code",
   "execution_count": 2,
   "metadata": {},
   "outputs": [
    {
     "name": "stderr",
     "output_type": "stream",
     "text": [
      "── \u001b[1mAttaching packages\u001b[22m ─────────────────────────────────────── tidyverse 1.3.0 ──\n",
      "\n",
      "\u001b[32m✔\u001b[39m \u001b[34mggplot2\u001b[39m 3.3.2     \u001b[32m✔\u001b[39m \u001b[34mpurrr  \u001b[39m 0.3.4\n",
      "\u001b[32m✔\u001b[39m \u001b[34mtibble \u001b[39m 3.0.3     \u001b[32m✔\u001b[39m \u001b[34mdplyr  \u001b[39m 1.0.2\n",
      "\u001b[32m✔\u001b[39m \u001b[34mtidyr  \u001b[39m 1.1.2     \u001b[32m✔\u001b[39m \u001b[34mstringr\u001b[39m 1.4.0\n",
      "\u001b[32m✔\u001b[39m \u001b[34mreadr  \u001b[39m 1.3.1     \u001b[32m✔\u001b[39m \u001b[34mforcats\u001b[39m 0.5.0\n",
      "\n",
      "Warning message:\n",
      "“package ‘ggplot2’ was built under R version 4.0.1”\n",
      "Warning message:\n",
      "“package ‘tibble’ was built under R version 4.0.2”\n",
      "Warning message:\n",
      "“package ‘tidyr’ was built under R version 4.0.2”\n",
      "Warning message:\n",
      "“package ‘dplyr’ was built under R version 4.0.2”\n",
      "── \u001b[1mConflicts\u001b[22m ────────────────────────────────────────── tidyverse_conflicts() ──\n",
      "\u001b[31m✖\u001b[39m \u001b[34mdplyr\u001b[39m::\u001b[32mfilter()\u001b[39m masks \u001b[34mstats\u001b[39m::filter()\n",
      "\u001b[31m✖\u001b[39m \u001b[34mdplyr\u001b[39m::\u001b[32mlag()\u001b[39m    masks \u001b[34mstats\u001b[39m::lag()\n",
      "\n",
      "Warning message:\n",
      "“package ‘tidymodels’ was built under R version 4.0.2”\n",
      "── \u001b[1mAttaching packages\u001b[22m ────────────────────────────────────── tidymodels 0.1.1 ──\n",
      "\n",
      "\u001b[32m✔\u001b[39m \u001b[34mbroom    \u001b[39m 0.7.0      \u001b[32m✔\u001b[39m \u001b[34mrecipes  \u001b[39m 0.1.13\n",
      "\u001b[32m✔\u001b[39m \u001b[34mdials    \u001b[39m 0.0.9      \u001b[32m✔\u001b[39m \u001b[34mrsample  \u001b[39m 0.0.7 \n",
      "\u001b[32m✔\u001b[39m \u001b[34minfer    \u001b[39m 0.5.4      \u001b[32m✔\u001b[39m \u001b[34mtune     \u001b[39m 0.1.1 \n",
      "\u001b[32m✔\u001b[39m \u001b[34mmodeldata\u001b[39m 0.0.2      \u001b[32m✔\u001b[39m \u001b[34mworkflows\u001b[39m 0.2.0 \n",
      "\u001b[32m✔\u001b[39m \u001b[34mparsnip  \u001b[39m 0.1.3      \u001b[32m✔\u001b[39m \u001b[34myardstick\u001b[39m 0.0.7 \n",
      "\n",
      "Warning message:\n",
      "“package ‘broom’ was built under R version 4.0.2”\n",
      "Warning message:\n",
      "“package ‘dials’ was built under R version 4.0.2”\n",
      "Warning message:\n",
      "“package ‘infer’ was built under R version 4.0.3”\n",
      "Warning message:\n",
      "“package ‘modeldata’ was built under R version 4.0.1”\n",
      "Warning message:\n",
      "“package ‘parsnip’ was built under R version 4.0.2”\n",
      "Warning message:\n",
      "“package ‘recipes’ was built under R version 4.0.1”\n",
      "Warning message:\n",
      "“package ‘tune’ was built under R version 4.0.2”\n",
      "Warning message:\n",
      "“package ‘workflows’ was built under R version 4.0.2”\n",
      "Warning message:\n",
      "“package ‘yardstick’ was built under R version 4.0.2”\n",
      "── \u001b[1mConflicts\u001b[22m ───────────────────────────────────────── tidymodels_conflicts() ──\n",
      "\u001b[31m✖\u001b[39m \u001b[34mscales\u001b[39m::\u001b[32mdiscard()\u001b[39m masks \u001b[34mpurrr\u001b[39m::discard()\n",
      "\u001b[31m✖\u001b[39m \u001b[34mdplyr\u001b[39m::\u001b[32mfilter()\u001b[39m   masks \u001b[34mstats\u001b[39m::filter()\n",
      "\u001b[31m✖\u001b[39m \u001b[34mrecipes\u001b[39m::\u001b[32mfixed()\u001b[39m  masks \u001b[34mstringr\u001b[39m::fixed()\n",
      "\u001b[31m✖\u001b[39m \u001b[34mdplyr\u001b[39m::\u001b[32mlag()\u001b[39m      masks \u001b[34mstats\u001b[39m::lag()\n",
      "\u001b[31m✖\u001b[39m \u001b[34myardstick\u001b[39m::\u001b[32mspec()\u001b[39m masks \u001b[34mreadr\u001b[39m::spec()\n",
      "\u001b[31m✖\u001b[39m \u001b[34mrecipes\u001b[39m::\u001b[32mstep()\u001b[39m   masks \u001b[34mstats\u001b[39m::step()\n",
      "\n"
     ]
    }
   ],
   "source": [
    "library(tidyverse)\n",
    "library(tidymodels)\n",
    "library(repr)\n",
    "set.seed(1000)"
   ]
  },
  {
   "cell_type": "markdown",
   "metadata": {},
   "source": [
    "# Dataset Description by the Authors \n",
    "\n",
    "# Attributes for both student-mat.csv (Math course) and student-por.csv (Portuguese language course) datasets:\n",
    "1 school - student's school (binary: \"GP\" - Gabriel Pereira or \"MS\" - Mousinho da Silveira)\n",
    "2 sex - student's sex (binary: \"F\" - female or \"M\" - male)\n",
    "3 age - student's age (numeric: from 15 to 22)\n",
    "4 address - student's home address type (binary: \"U\" - urban or \"R\" - rural)\n",
    "5 famsize - family size (binary: \"LE3\" - less or equal to 3 or \"GT3\" - greater than 3)\n",
    "6 Pstatus - parent's cohabitation status (binary: \"T\" - living together or \"A\" - apart)\n",
    "7 Medu - mother's education (numeric: 0 - none,  1 - primary education (4th grade), 2 – 5th to 9th grade, 3 – secondary education or 4 – higher education)\n",
    "8 Fedu - father's education (numeric: 0 - none,  1 - primary education (4th grade), 2 – 5th to 9th grade, 3 – secondary education or 4 – higher education)\n",
    "9 Mjob - mother's job (nominal: \"teacher\", \"health\" care related, civil \"services\" (e.g. administrative or police), \"at_home\" or \"other\")\n",
    "10 Fjob - father's job (nominal: \"teacher\", \"health\" care related, civil \"services\" (e.g. administrative or police), \"at_home\" or \"other\")\n",
    "11 reason - reason to choose this school (nominal: close to \"home\", school \"reputation\", \"course\" preference or \"other\")\n",
    "12 guardian - student's guardian (nominal: \"mother\", \"father\" or \"other\")\n",
    "13 traveltime - home to school travel time (numeric: 1 - <15 min., 2 - 15 to 30 min., 3 - 30 min. to 1 hour, or 4 - >1 hour)\n",
    "14 studytime - weekly study time (numeric: 1 - <2 hours, 2 - 2 to 5 hours, 3 - 5 to 10 hours, or 4 - >10 hours)\n",
    "15 failures - number of past class failures (numeric: n if 1<=n<3, else 4)\n",
    "16 schoolsup - extra educational support (binary: yes or no)\n",
    "17 famsup - family educational support (binary: yes or no)\n",
    "18 paid - extra paid classes within the course subject (Math or Portuguese) (binary: yes or no)\n",
    "19 activities - extra-curricular activities (binary: yes or no)\n",
    "20 nursery - attended nursery school (binary: yes or no)\n",
    "21 higher - wants to take higher education (binary: yes or no)\n",
    "22 internet - Internet access at home (binary: yes or no)\n",
    "23 romantic - with a romantic relationship (binary: yes or no)\n",
    "24 famrel - quality of family relationships (numeric: from 1 - very bad to 5 - excellent)\n",
    "25 freetime - free time after school (numeric: from 1 - very low to 5 - very high)\n",
    "26 goout - going out with friends (numeric: from 1 - very low to 5 - very high)\n",
    "27 Dalc - workday alcohol consumption (numeric: from 1 - very low to 5 - very high)\n",
    "28 Walc - weekend alcohol consumption (numeric: from 1 - very low to 5 - very high)\n",
    "29 health - current health status (numeric: from 1 - very bad to 5 - very good)\n",
    "30 absences - number of school absences (numeric: from 0 to 93)\n",
    "\n",
    "# these grades are related with the course subject, Math or Portuguese:\n",
    "31 G1 - first period grade (numeric: from 0 to 20)\n",
    "31 G2 - second period grade (numeric: from 0 to 20)\n",
    "32 G3 - final grade (numeric: from 0 to 20, output target)\n",
    "\n",
    "Additional note: there are several (382) students that belong to both datasets . \n",
    "These students can be identified by searching for identical attributes\n",
    "that characterize each student, as shown in the annexed R file.\n",
    "\n"
   ]
  },
  {
   "cell_type": "markdown",
   "metadata": {},
   "source": [
    "# Data Collection\n",
    "\n",
    "idea from: https://stackoverflow.com/questions/3053833/using-r-to-download-zipped-data-file-extract-and-import-data\n",
    "data from: https://archive.ics.uci.edu/ml/machine-learning-databases/00320/\n"
   ]
  },
  {
   "cell_type": "code",
   "execution_count": 3,
   "metadata": {},
   "outputs": [],
   "source": [
    "#make a temporary file \n",
    "tempfile <- tempfile()\n",
    "\n",
    "#download file into temp \n",
    "download.file(\"https://archive.ics.uci.edu/ml/machine-learning-databases/00320/student.zip\", \n",
    "              tempfile) \n",
    "\n",
    "#extract relevant files \n",
    "student_mat <- read.table(unz(tempfile, \"student-mat.csv\"), \n",
    "                          header = TRUE, \n",
    "                          sep = \";\")\n",
    "student_por <- read.table(unz(tempfile, \"student-por.csv\"), \n",
    "                          header = TRUE, \n",
    "                          sep = \";\")\n",
    "unlink(tempfile)\n",
    "\n",
    "#read files to see\n",
    "\n"
   ]
  },
  {
   "cell_type": "code",
   "execution_count": 4,
   "metadata": {},
   "outputs": [
    {
     "name": "stdout",
     "output_type": "stream",
     "text": [
      "[1] 382\n"
     ]
    }
   ],
   "source": [
    "#Combining the data done by the authors\n",
    "\n",
    "combined <- merge(student_mat,\n",
    "                  student_por,\n",
    "                  by = c(\"school\",\n",
    "                        \"sex\",\n",
    "                        \"age\",\n",
    "                        \"address\",\n",
    "                        \"famsize\",\n",
    "                        \"Pstatus\",\n",
    "                        \"Medu\",\n",
    "                        \"Fedu\",\n",
    "                        \"Mjob\",\n",
    "                        \"Fjob\",\n",
    "                        \"reason\",\n",
    "                        \"nursery\",\n",
    "                        \"internet\"))\n",
    "\n",
    "print(nrow(combined)) # 382 students"
   ]
  },
  {
   "cell_type": "markdown",
   "metadata": {},
   "source": [
    "## Tidying the data/Splitting into training and testing sets\n",
    "To tidy the data we will need to merge both datasets into one combined set, we do this in the following cell. \n",
    "We also filter to just have the columns that we are interested in for our analysis.\n",
    "\n",
    "Finally we split our dataset into a training and testing set."
   ]
  },
  {
   "cell_type": "code",
   "execution_count": 5,
   "metadata": {},
   "outputs": [
    {
     "data": {
      "text/html": [
       "<table>\n",
       "<caption>A data.frame: 785 × 4</caption>\n",
       "<thead>\n",
       "\t<tr><th></th><th scope=col>goout</th><th scope=col>Dalc</th><th scope=col>Walc</th><th scope=col>G3</th></tr>\n",
       "\t<tr><th></th><th scope=col>&lt;int&gt;</th><th scope=col>&lt;int&gt;</th><th scope=col>&lt;int&gt;</th><th scope=col>&lt;int&gt;</th></tr>\n",
       "</thead>\n",
       "<tbody>\n",
       "\t<tr><th scope=row>1</th><td>4</td><td>1</td><td>1</td><td> 6</td></tr>\n",
       "\t<tr><th scope=row>2</th><td>3</td><td>1</td><td>1</td><td> 6</td></tr>\n",
       "\t<tr><th scope=row>4</th><td>2</td><td>1</td><td>1</td><td>15</td></tr>\n",
       "\t<tr><th scope=row>5</th><td>2</td><td>1</td><td>2</td><td>10</td></tr>\n",
       "\t<tr><th scope=row>7</th><td>4</td><td>1</td><td>1</td><td>11</td></tr>\n",
       "\t<tr><th scope=row>8</th><td>4</td><td>1</td><td>1</td><td> 6</td></tr>\n",
       "\t<tr><th scope=row>11</th><td>3</td><td>1</td><td>2</td><td> 9</td></tr>\n",
       "\t<tr><th scope=row>12</th><td>2</td><td>1</td><td>1</td><td>12</td></tr>\n",
       "\t<tr><th scope=row>13</th><td>3</td><td>1</td><td>3</td><td>14</td></tr>\n",
       "\t<tr><th scope=row>16</th><td>4</td><td>1</td><td>2</td><td>14</td></tr>\n",
       "\t<tr><th scope=row>18</th><td>2</td><td>1</td><td>1</td><td>10</td></tr>\n",
       "\t<tr><th scope=row>19</th><td>5</td><td>2</td><td>4</td><td> 5</td></tr>\n",
       "\t<tr><th scope=row>20</th><td>3</td><td>1</td><td>3</td><td>10</td></tr>\n",
       "\t<tr><th scope=row>21</th><td>1</td><td>1</td><td>1</td><td>15</td></tr>\n",
       "\t<tr><th scope=row>22</th><td>2</td><td>1</td><td>1</td><td>15</td></tr>\n",
       "\t<tr><th scope=row>23</th><td>1</td><td>1</td><td>3</td><td>16</td></tr>\n",
       "\t<tr><th scope=row>24</th><td>4</td><td>2</td><td>4</td><td>12</td></tr>\n",
       "\t<tr><th scope=row>25</th><td>2</td><td>1</td><td>1</td><td> 8</td></tr>\n",
       "\t<tr><th scope=row>26</th><td>2</td><td>1</td><td>3</td><td> 8</td></tr>\n",
       "\t<tr><th scope=row>27</th><td>2</td><td>1</td><td>2</td><td>11</td></tr>\n",
       "\t<tr><th scope=row>29</th><td>3</td><td>1</td><td>1</td><td>11</td></tr>\n",
       "\t<tr><th scope=row>32</th><td>1</td><td>1</td><td>1</td><td>17</td></tr>\n",
       "\t<tr><th scope=row>33</th><td>2</td><td>1</td><td>1</td><td>16</td></tr>\n",
       "\t<tr><th scope=row>36</th><td>1</td><td>1</td><td>1</td><td> 6</td></tr>\n",
       "\t<tr><th scope=row>38</th><td>3</td><td>1</td><td>1</td><td>15</td></tr>\n",
       "\t<tr><th scope=row>39</th><td>2</td><td>1</td><td>1</td><td>11</td></tr>\n",
       "\t<tr><th scope=row>40</th><td>1</td><td>1</td><td>1</td><td>13</td></tr>\n",
       "\t<tr><th scope=row>41</th><td>3</td><td>1</td><td>2</td><td>11</td></tr>\n",
       "\t<tr><th scope=row>42</th><td>3</td><td>2</td><td>4</td><td>12</td></tr>\n",
       "\t<tr><th scope=row>44</th><td>1</td><td>1</td><td>1</td><td>11</td></tr>\n",
       "\t<tr><th scope=row>⋮</th><td>⋮</td><td>⋮</td><td>⋮</td><td>⋮</td></tr>\n",
       "\t<tr><th scope=row>1005</th><td>1</td><td>1</td><td>1</td><td>12</td></tr>\n",
       "\t<tr><th scope=row>1006</th><td>4</td><td>1</td><td>4</td><td> 0</td></tr>\n",
       "\t<tr><th scope=row>1007</th><td>1</td><td>1</td><td>1</td><td>15</td></tr>\n",
       "\t<tr><th scope=row>1008</th><td>5</td><td>1</td><td>3</td><td>11</td></tr>\n",
       "\t<tr><th scope=row>1009</th><td>4</td><td>1</td><td>1</td><td>10</td></tr>\n",
       "\t<tr><th scope=row>1010</th><td>3</td><td>1</td><td>2</td><td>12</td></tr>\n",
       "\t<tr><th scope=row>1011</th><td>3</td><td>1</td><td>2</td><td>15</td></tr>\n",
       "\t<tr><th scope=row>1012</th><td>2</td><td>1</td><td>2</td><td>14</td></tr>\n",
       "\t<tr><th scope=row>1015</th><td>2</td><td>1</td><td>3</td><td>13</td></tr>\n",
       "\t<tr><th scope=row>1016</th><td>4</td><td>1</td><td>1</td><td>15</td></tr>\n",
       "\t<tr><th scope=row>1017</th><td>2</td><td>1</td><td>2</td><td>13</td></tr>\n",
       "\t<tr><th scope=row>1018</th><td>4</td><td>2</td><td>4</td><td> 9</td></tr>\n",
       "\t<tr><th scope=row>1019</th><td>2</td><td>2</td><td>2</td><td>16</td></tr>\n",
       "\t<tr><th scope=row>1020</th><td>1</td><td>1</td><td>2</td><td> 9</td></tr>\n",
       "\t<tr><th scope=row>1021</th><td>3</td><td>1</td><td>2</td><td>10</td></tr>\n",
       "\t<tr><th scope=row>1022</th><td>2</td><td>4</td><td>2</td><td> 0</td></tr>\n",
       "\t<tr><th scope=row>1026</th><td>4</td><td>1</td><td>1</td><td>17</td></tr>\n",
       "\t<tr><th scope=row>1028</th><td>3</td><td>1</td><td>1</td><td> 9</td></tr>\n",
       "\t<tr><th scope=row>1029</th><td>3</td><td>3</td><td>4</td><td>14</td></tr>\n",
       "\t<tr><th scope=row>1030</th><td>3</td><td>1</td><td>2</td><td>16</td></tr>\n",
       "\t<tr><th scope=row>1032</th><td>4</td><td>1</td><td>4</td><td>19</td></tr>\n",
       "\t<tr><th scope=row>1033</th><td>3</td><td>1</td><td>3</td><td> 0</td></tr>\n",
       "\t<tr><th scope=row>1034</th><td>3</td><td>1</td><td>1</td><td>16</td></tr>\n",
       "\t<tr><th scope=row>1035</th><td>2</td><td>1</td><td>3</td><td> 0</td></tr>\n",
       "\t<tr><th scope=row>1037</th><td>3</td><td>1</td><td>3</td><td>15</td></tr>\n",
       "\t<tr><th scope=row>1039</th><td>3</td><td>2</td><td>2</td><td>10</td></tr>\n",
       "\t<tr><th scope=row>1041</th><td>4</td><td>1</td><td>1</td><td>16</td></tr>\n",
       "\t<tr><th scope=row>1042</th><td>1</td><td>1</td><td>1</td><td> 9</td></tr>\n",
       "\t<tr><th scope=row>1043</th><td>5</td><td>3</td><td>4</td><td>10</td></tr>\n",
       "\t<tr><th scope=row>1044</th><td>1</td><td>3</td><td>4</td><td>11</td></tr>\n",
       "</tbody>\n",
       "</table>\n"
      ],
      "text/latex": [
       "A data.frame: 785 × 4\n",
       "\\begin{tabular}{r|llll}\n",
       "  & goout & Dalc & Walc & G3\\\\\n",
       "  & <int> & <int> & <int> & <int>\\\\\n",
       "\\hline\n",
       "\t1 & 4 & 1 & 1 &  6\\\\\n",
       "\t2 & 3 & 1 & 1 &  6\\\\\n",
       "\t4 & 2 & 1 & 1 & 15\\\\\n",
       "\t5 & 2 & 1 & 2 & 10\\\\\n",
       "\t7 & 4 & 1 & 1 & 11\\\\\n",
       "\t8 & 4 & 1 & 1 &  6\\\\\n",
       "\t11 & 3 & 1 & 2 &  9\\\\\n",
       "\t12 & 2 & 1 & 1 & 12\\\\\n",
       "\t13 & 3 & 1 & 3 & 14\\\\\n",
       "\t16 & 4 & 1 & 2 & 14\\\\\n",
       "\t18 & 2 & 1 & 1 & 10\\\\\n",
       "\t19 & 5 & 2 & 4 &  5\\\\\n",
       "\t20 & 3 & 1 & 3 & 10\\\\\n",
       "\t21 & 1 & 1 & 1 & 15\\\\\n",
       "\t22 & 2 & 1 & 1 & 15\\\\\n",
       "\t23 & 1 & 1 & 3 & 16\\\\\n",
       "\t24 & 4 & 2 & 4 & 12\\\\\n",
       "\t25 & 2 & 1 & 1 &  8\\\\\n",
       "\t26 & 2 & 1 & 3 &  8\\\\\n",
       "\t27 & 2 & 1 & 2 & 11\\\\\n",
       "\t29 & 3 & 1 & 1 & 11\\\\\n",
       "\t32 & 1 & 1 & 1 & 17\\\\\n",
       "\t33 & 2 & 1 & 1 & 16\\\\\n",
       "\t36 & 1 & 1 & 1 &  6\\\\\n",
       "\t38 & 3 & 1 & 1 & 15\\\\\n",
       "\t39 & 2 & 1 & 1 & 11\\\\\n",
       "\t40 & 1 & 1 & 1 & 13\\\\\n",
       "\t41 & 3 & 1 & 2 & 11\\\\\n",
       "\t42 & 3 & 2 & 4 & 12\\\\\n",
       "\t44 & 1 & 1 & 1 & 11\\\\\n",
       "\t⋮ & ⋮ & ⋮ & ⋮ & ⋮\\\\\n",
       "\t1005 & 1 & 1 & 1 & 12\\\\\n",
       "\t1006 & 4 & 1 & 4 &  0\\\\\n",
       "\t1007 & 1 & 1 & 1 & 15\\\\\n",
       "\t1008 & 5 & 1 & 3 & 11\\\\\n",
       "\t1009 & 4 & 1 & 1 & 10\\\\\n",
       "\t1010 & 3 & 1 & 2 & 12\\\\\n",
       "\t1011 & 3 & 1 & 2 & 15\\\\\n",
       "\t1012 & 2 & 1 & 2 & 14\\\\\n",
       "\t1015 & 2 & 1 & 3 & 13\\\\\n",
       "\t1016 & 4 & 1 & 1 & 15\\\\\n",
       "\t1017 & 2 & 1 & 2 & 13\\\\\n",
       "\t1018 & 4 & 2 & 4 &  9\\\\\n",
       "\t1019 & 2 & 2 & 2 & 16\\\\\n",
       "\t1020 & 1 & 1 & 2 &  9\\\\\n",
       "\t1021 & 3 & 1 & 2 & 10\\\\\n",
       "\t1022 & 2 & 4 & 2 &  0\\\\\n",
       "\t1026 & 4 & 1 & 1 & 17\\\\\n",
       "\t1028 & 3 & 1 & 1 &  9\\\\\n",
       "\t1029 & 3 & 3 & 4 & 14\\\\\n",
       "\t1030 & 3 & 1 & 2 & 16\\\\\n",
       "\t1032 & 4 & 1 & 4 & 19\\\\\n",
       "\t1033 & 3 & 1 & 3 &  0\\\\\n",
       "\t1034 & 3 & 1 & 1 & 16\\\\\n",
       "\t1035 & 2 & 1 & 3 &  0\\\\\n",
       "\t1037 & 3 & 1 & 3 & 15\\\\\n",
       "\t1039 & 3 & 2 & 2 & 10\\\\\n",
       "\t1041 & 4 & 1 & 1 & 16\\\\\n",
       "\t1042 & 1 & 1 & 1 &  9\\\\\n",
       "\t1043 & 5 & 3 & 4 & 10\\\\\n",
       "\t1044 & 1 & 3 & 4 & 11\\\\\n",
       "\\end{tabular}\n"
      ],
      "text/markdown": [
       "\n",
       "A data.frame: 785 × 4\n",
       "\n",
       "| <!--/--> | goout &lt;int&gt; | Dalc &lt;int&gt; | Walc &lt;int&gt; | G3 &lt;int&gt; |\n",
       "|---|---|---|---|---|\n",
       "| 1 | 4 | 1 | 1 |  6 |\n",
       "| 2 | 3 | 1 | 1 |  6 |\n",
       "| 4 | 2 | 1 | 1 | 15 |\n",
       "| 5 | 2 | 1 | 2 | 10 |\n",
       "| 7 | 4 | 1 | 1 | 11 |\n",
       "| 8 | 4 | 1 | 1 |  6 |\n",
       "| 11 | 3 | 1 | 2 |  9 |\n",
       "| 12 | 2 | 1 | 1 | 12 |\n",
       "| 13 | 3 | 1 | 3 | 14 |\n",
       "| 16 | 4 | 1 | 2 | 14 |\n",
       "| 18 | 2 | 1 | 1 | 10 |\n",
       "| 19 | 5 | 2 | 4 |  5 |\n",
       "| 20 | 3 | 1 | 3 | 10 |\n",
       "| 21 | 1 | 1 | 1 | 15 |\n",
       "| 22 | 2 | 1 | 1 | 15 |\n",
       "| 23 | 1 | 1 | 3 | 16 |\n",
       "| 24 | 4 | 2 | 4 | 12 |\n",
       "| 25 | 2 | 1 | 1 |  8 |\n",
       "| 26 | 2 | 1 | 3 |  8 |\n",
       "| 27 | 2 | 1 | 2 | 11 |\n",
       "| 29 | 3 | 1 | 1 | 11 |\n",
       "| 32 | 1 | 1 | 1 | 17 |\n",
       "| 33 | 2 | 1 | 1 | 16 |\n",
       "| 36 | 1 | 1 | 1 |  6 |\n",
       "| 38 | 3 | 1 | 1 | 15 |\n",
       "| 39 | 2 | 1 | 1 | 11 |\n",
       "| 40 | 1 | 1 | 1 | 13 |\n",
       "| 41 | 3 | 1 | 2 | 11 |\n",
       "| 42 | 3 | 2 | 4 | 12 |\n",
       "| 44 | 1 | 1 | 1 | 11 |\n",
       "| ⋮ | ⋮ | ⋮ | ⋮ | ⋮ |\n",
       "| 1005 | 1 | 1 | 1 | 12 |\n",
       "| 1006 | 4 | 1 | 4 |  0 |\n",
       "| 1007 | 1 | 1 | 1 | 15 |\n",
       "| 1008 | 5 | 1 | 3 | 11 |\n",
       "| 1009 | 4 | 1 | 1 | 10 |\n",
       "| 1010 | 3 | 1 | 2 | 12 |\n",
       "| 1011 | 3 | 1 | 2 | 15 |\n",
       "| 1012 | 2 | 1 | 2 | 14 |\n",
       "| 1015 | 2 | 1 | 3 | 13 |\n",
       "| 1016 | 4 | 1 | 1 | 15 |\n",
       "| 1017 | 2 | 1 | 2 | 13 |\n",
       "| 1018 | 4 | 2 | 4 |  9 |\n",
       "| 1019 | 2 | 2 | 2 | 16 |\n",
       "| 1020 | 1 | 1 | 2 |  9 |\n",
       "| 1021 | 3 | 1 | 2 | 10 |\n",
       "| 1022 | 2 | 4 | 2 |  0 |\n",
       "| 1026 | 4 | 1 | 1 | 17 |\n",
       "| 1028 | 3 | 1 | 1 |  9 |\n",
       "| 1029 | 3 | 3 | 4 | 14 |\n",
       "| 1030 | 3 | 1 | 2 | 16 |\n",
       "| 1032 | 4 | 1 | 4 | 19 |\n",
       "| 1033 | 3 | 1 | 3 |  0 |\n",
       "| 1034 | 3 | 1 | 1 | 16 |\n",
       "| 1035 | 2 | 1 | 3 |  0 |\n",
       "| 1037 | 3 | 1 | 3 | 15 |\n",
       "| 1039 | 3 | 2 | 2 | 10 |\n",
       "| 1041 | 4 | 1 | 1 | 16 |\n",
       "| 1042 | 1 | 1 | 1 |  9 |\n",
       "| 1043 | 5 | 3 | 4 | 10 |\n",
       "| 1044 | 1 | 3 | 4 | 11 |\n",
       "\n"
      ],
      "text/plain": [
       "     goout Dalc Walc G3\n",
       "1    4     1    1     6\n",
       "2    3     1    1     6\n",
       "4    2     1    1    15\n",
       "5    2     1    2    10\n",
       "7    4     1    1    11\n",
       "8    4     1    1     6\n",
       "11   3     1    2     9\n",
       "12   2     1    1    12\n",
       "13   3     1    3    14\n",
       "16   4     1    2    14\n",
       "18   2     1    1    10\n",
       "19   5     2    4     5\n",
       "20   3     1    3    10\n",
       "21   1     1    1    15\n",
       "22   2     1    1    15\n",
       "23   1     1    3    16\n",
       "24   4     2    4    12\n",
       "25   2     1    1     8\n",
       "26   2     1    3     8\n",
       "27   2     1    2    11\n",
       "29   3     1    1    11\n",
       "32   1     1    1    17\n",
       "33   2     1    1    16\n",
       "36   1     1    1     6\n",
       "38   3     1    1    15\n",
       "39   2     1    1    11\n",
       "40   1     1    1    13\n",
       "41   3     1    2    11\n",
       "42   3     2    4    12\n",
       "44   1     1    1    11\n",
       "⋮    ⋮     ⋮    ⋮    ⋮ \n",
       "1005 1     1    1    12\n",
       "1006 4     1    4     0\n",
       "1007 1     1    1    15\n",
       "1008 5     1    3    11\n",
       "1009 4     1    1    10\n",
       "1010 3     1    2    12\n",
       "1011 3     1    2    15\n",
       "1012 2     1    2    14\n",
       "1015 2     1    3    13\n",
       "1016 4     1    1    15\n",
       "1017 2     1    2    13\n",
       "1018 4     2    4     9\n",
       "1019 2     2    2    16\n",
       "1020 1     1    2     9\n",
       "1021 3     1    2    10\n",
       "1022 2     4    2     0\n",
       "1026 4     1    1    17\n",
       "1028 3     1    1     9\n",
       "1029 3     3    4    14\n",
       "1030 3     1    2    16\n",
       "1032 4     1    4    19\n",
       "1033 3     1    3     0\n",
       "1034 3     1    1    16\n",
       "1035 2     1    3     0\n",
       "1037 3     1    3    15\n",
       "1039 3     2    2    10\n",
       "1041 4     1    1    16\n",
       "1042 1     1    1     9\n",
       "1043 5     3    4    10\n",
       "1044 1     3    4    11"
      ]
     },
     "metadata": {},
     "output_type": "display_data"
    }
   ],
   "source": [
    "total_set <- rbind(student_mat, student_por) \n",
    "filtered_set <- total_set %>% \n",
    "                select(goout, Dalc, Walc, G3)\n",
    "\n",
    "data_split <- initial_split(filtered_set, prop = 0.75, strata = G3)  \n",
    "data_train <- training(data_split)   \n",
    "data_test <- testing(data_split)\n",
    "data_train"
   ]
  },
  {
   "cell_type": "markdown",
   "metadata": {},
   "source": [
    "## Summarizing data in a table\n",
    "\n",
    "In the following cell we find the mean of our predictor variables goout, Dalc, Walc"
   ]
  },
  {
   "cell_type": "code",
   "execution_count": 6,
   "metadata": {},
   "outputs": [
    {
     "data": {
      "text/html": [
       "<table>\n",
       "<caption>A tibble: 1 × 3</caption>\n",
       "<thead>\n",
       "\t<tr><th scope=col>goout</th><th scope=col>Dalc</th><th scope=col>Walc</th></tr>\n",
       "\t<tr><th scope=col>&lt;dbl&gt;</th><th scope=col>&lt;dbl&gt;</th><th scope=col>&lt;dbl&gt;</th></tr>\n",
       "</thead>\n",
       "<tbody>\n",
       "\t<tr><td>3.173248</td><td>1.48535</td><td>2.28535</td></tr>\n",
       "</tbody>\n",
       "</table>\n"
      ],
      "text/latex": [
       "A tibble: 1 × 3\n",
       "\\begin{tabular}{lll}\n",
       " goout & Dalc & Walc\\\\\n",
       " <dbl> & <dbl> & <dbl>\\\\\n",
       "\\hline\n",
       "\t 3.173248 & 1.48535 & 2.28535\\\\\n",
       "\\end{tabular}\n"
      ],
      "text/markdown": [
       "\n",
       "A tibble: 1 × 3\n",
       "\n",
       "| goout &lt;dbl&gt; | Dalc &lt;dbl&gt; | Walc &lt;dbl&gt; |\n",
       "|---|---|---|\n",
       "| 3.173248 | 1.48535 | 2.28535 |\n",
       "\n"
      ],
      "text/plain": [
       "  goout    Dalc    Walc   \n",
       "1 3.173248 1.48535 2.28535"
      ]
     },
     "metadata": {},
     "output_type": "display_data"
    }
   ],
   "source": [
    "predictor_means <- data_train %>%\n",
    "                   select(goout, Dalc, Walc) %>%\n",
    "                   map_df(mean)\n",
    "predictor_means"
   ]
  },
  {
   "cell_type": "markdown",
   "metadata": {},
   "source": [
    "We can see that on average more people go out with their friends versus drinking alcohol on the weekdays or weekends. It will be interesting to see if this variable has a greater effect on students' grades versus alcohol consumption."
   ]
  },
  {
   "cell_type": "markdown",
   "metadata": {},
   "source": [
    "## Visualization: \n",
    "In the following cells we provide plots that display the count of how many people got good grades (G3 >= 15) for each predictor variable"
   ]
  },
  {
   "cell_type": "code",
   "execution_count": 46,
   "metadata": {},
   "outputs": [
    {
     "data": {
      "image/png": "[encoded data removed]",
      "text/plain": [
       "plot without title"
      ]
     },
     "metadata": {
      "image/png": {
       "height": 420,
       "width": 420
      }
     },
     "output_type": "display_data"
    },
    {
     "data": {
      "image/png": "[encoded data removed]",
      "text/plain": [
       "plot without title"
      ]
     },
     "metadata": {
      "image/png": {
       "height": 420,
       "width": 420
      }
     },
     "output_type": "display_data"
    },
    {
     "data": {
      "image/png": "[encoded data removed]",
      "text/plain": [
       "plot without title"
      ]
     },
     "metadata": {
      "image/png": {
       "height": 420,
       "width": 420
      }
     },
     "output_type": "display_data"
    }
   ],
   "source": [
    "goout_viz <- data_train %>%\n",
    "             filter(G3 >= 15) %>%\n",
    "             ggplot(aes(x = goout)) +\n",
    "             geom_bar() +\n",
    "             xlab(\"Going Out With Friends (1-5)\") +\n",
    "             ylab(\"Count of grades >= 15\")\n",
    "dalc_viz <- data_train %>%\n",
    "            filter(G3 >= 15) %>%\n",
    "             ggplot(aes(x = Dalc)) +\n",
    "             geom_bar() +\n",
    "             xlab(\"Daytime Alcohol Consumption\") +\n",
    "             ylab(\"Count of grades >= 15\")\n",
    "walc_viz <- data_train %>%\n",
    "            filter(G3 >= 15) %>%\n",
    "             ggplot(aes(x = Walc)) +\n",
    "             geom_bar() +\n",
    "             xlab(\"Weekend Alcohol Consumption\") +\n",
    "             ylab(\"Count of grades >= 15\")\n",
    "goout_viz\n",
    "dalc_viz\n",
    "walc_viz"
   ]
  },
  {
   "cell_type": "markdown",
   "metadata": {},
   "source": [
    "We can see that there is a clear trend with alcohol consumption - students who drink more alcohol tend to not get good grades. However, the trend is not as clear with the \"going out with friends\" variable. "
   ]
  },
  {
   "cell_type": "code",
   "execution_count": null,
   "metadata": {},
   "outputs": [],
   "source": []
  }
 ],
 "metadata": {
  "kernelspec": {
   "display_name": "R",
   "language": "R",
   "name": "ir"
  },
  "language_info": {
   "codemirror_mode": "r",
   "file_extension": ".r",
   "mimetype": "text/x-r-source",
   "name": "R",
   "pygments_lexer": "r",
   "version": "4.0.0"
  }
 },
 "nbformat": 4,
 "nbformat_minor": 4
}
