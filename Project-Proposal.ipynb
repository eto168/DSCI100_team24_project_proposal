{
 "cells": [
  {
   "cell_type": "markdown",
   "metadata": {},
   "source": [
    "# Team 24 Group Project Proposal\n",
    "\n",
    "Date: March 6th 2021\n",
    "\n",
    "Authors: Kian Da Costa, Jack He, Dani Fookes, Ethan Tse\n"
   ]
  },
  {
   "cell_type": "markdown",
   "metadata": {},
   "source": [
    "## Introduction:\n",
    "\n",
    "For students, balancing life and school can be challenging, and achieving a balance between leisure and studying is often critical to a good academic standing. \n",
    "\n",
    "Here, we propose using a K nearest neighbors (KNN)-model to explore the relationship between time spent on several common distractions and grades received in school.\n",
    "\n",
    "The dataset we will be using for this analysis was collected by Paulo Cortez from the University of Minho, GuimarÃ£es, Portugal. This dataset details the performance of students aged 15-22 from two Portugeuse secondary schools. Each row represents an observation of a single student, with the grades they received from each period (G1, G2, G3) along with various details of their life, such as how much free time they have, whether they are in a romantic relationship etc."
   ]
  },
  {
   "cell_type": "markdown",
   "metadata": {},
   "source": [
    "# Load Relevant Libraries"
   ]
  },
  {
   "cell_type": "code",
   "execution_count": 36,
   "metadata": {},
   "outputs": [],
   "source": [
    "library(tidyverse)\n",
    "library(tidymodels)\n",
    "library(repr)\n",
    "set.seed(1000)"
   ]
  },
  {
   "cell_type": "markdown",
   "metadata": {},
   "source": [
    "# Data Collection"
   ]
  },
  {
   "cell_type": "code",
   "execution_count": 40,
   "metadata": {},
   "outputs": [
    {
     "data": {
      "text/html": [
       "<table>\n",
       "<caption>A data.frame: 5 × 33</caption>\n",
       "<thead>\n",
       "\t<tr><th></th><th scope=col>school</th><th scope=col>sex</th><th scope=col>age</th><th scope=col>address</th><th scope=col>famsize</th><th scope=col>Pstatus</th><th scope=col>Medu</th><th scope=col>Fedu</th><th scope=col>Mjob</th><th scope=col>Fjob</th><th scope=col>⋯</th><th scope=col>famrel</th><th scope=col>freetime</th><th scope=col>goout</th><th scope=col>Dalc</th><th scope=col>Walc</th><th scope=col>health</th><th scope=col>absences</th><th scope=col>G1</th><th scope=col>G2</th><th scope=col>G3</th></tr>\n",
       "\t<tr><th></th><th scope=col>&lt;chr&gt;</th><th scope=col>&lt;chr&gt;</th><th scope=col>&lt;int&gt;</th><th scope=col>&lt;chr&gt;</th><th scope=col>&lt;chr&gt;</th><th scope=col>&lt;chr&gt;</th><th scope=col>&lt;int&gt;</th><th scope=col>&lt;int&gt;</th><th scope=col>&lt;chr&gt;</th><th scope=col>&lt;chr&gt;</th><th scope=col>⋯</th><th scope=col>&lt;int&gt;</th><th scope=col>&lt;int&gt;</th><th scope=col>&lt;int&gt;</th><th scope=col>&lt;int&gt;</th><th scope=col>&lt;int&gt;</th><th scope=col>&lt;int&gt;</th><th scope=col>&lt;int&gt;</th><th scope=col>&lt;int&gt;</th><th scope=col>&lt;int&gt;</th><th scope=col>&lt;int&gt;</th></tr>\n",
       "</thead>\n",
       "<tbody>\n",
       "\t<tr><th scope=row>1</th><td>GP</td><td>F</td><td>18</td><td>U</td><td>GT3</td><td>A</td><td>4</td><td>4</td><td>at_home</td><td>teacher </td><td>⋯</td><td>4</td><td>3</td><td>4</td><td>1</td><td>1</td><td>3</td><td> 6</td><td> 5</td><td> 6</td><td> 6</td></tr>\n",
       "\t<tr><th scope=row>2</th><td>GP</td><td>F</td><td>17</td><td>U</td><td>GT3</td><td>T</td><td>1</td><td>1</td><td>at_home</td><td>other   </td><td>⋯</td><td>5</td><td>3</td><td>3</td><td>1</td><td>1</td><td>3</td><td> 4</td><td> 5</td><td> 5</td><td> 6</td></tr>\n",
       "\t<tr><th scope=row>3</th><td>GP</td><td>F</td><td>15</td><td>U</td><td>LE3</td><td>T</td><td>1</td><td>1</td><td>at_home</td><td>other   </td><td>⋯</td><td>4</td><td>3</td><td>2</td><td>2</td><td>3</td><td>3</td><td>10</td><td> 7</td><td> 8</td><td>10</td></tr>\n",
       "\t<tr><th scope=row>4</th><td>GP</td><td>F</td><td>15</td><td>U</td><td>GT3</td><td>T</td><td>4</td><td>2</td><td>health </td><td>services</td><td>⋯</td><td>3</td><td>2</td><td>2</td><td>1</td><td>1</td><td>5</td><td> 2</td><td>15</td><td>14</td><td>15</td></tr>\n",
       "\t<tr><th scope=row>5</th><td>GP</td><td>F</td><td>16</td><td>U</td><td>GT3</td><td>T</td><td>3</td><td>3</td><td>other  </td><td>other   </td><td>⋯</td><td>4</td><td>3</td><td>2</td><td>1</td><td>2</td><td>5</td><td> 4</td><td> 6</td><td>10</td><td>10</td></tr>\n",
       "</tbody>\n",
       "</table>\n"
      ],
      "text/latex": [
       "A data.frame: 5 × 33\n",
       "\\begin{tabular}{r|lllllllllllllllllllll}\n",
       "  & school & sex & age & address & famsize & Pstatus & Medu & Fedu & Mjob & Fjob & ⋯ & famrel & freetime & goout & Dalc & Walc & health & absences & G1 & G2 & G3\\\\\n",
       "  & <chr> & <chr> & <int> & <chr> & <chr> & <chr> & <int> & <int> & <chr> & <chr> & ⋯ & <int> & <int> & <int> & <int> & <int> & <int> & <int> & <int> & <int> & <int>\\\\\n",
       "\\hline\n",
       "\t1 & GP & F & 18 & U & GT3 & A & 4 & 4 & at\\_home & teacher  & ⋯ & 4 & 3 & 4 & 1 & 1 & 3 &  6 &  5 &  6 &  6\\\\\n",
       "\t2 & GP & F & 17 & U & GT3 & T & 1 & 1 & at\\_home & other    & ⋯ & 5 & 3 & 3 & 1 & 1 & 3 &  4 &  5 &  5 &  6\\\\\n",
       "\t3 & GP & F & 15 & U & LE3 & T & 1 & 1 & at\\_home & other    & ⋯ & 4 & 3 & 2 & 2 & 3 & 3 & 10 &  7 &  8 & 10\\\\\n",
       "\t4 & GP & F & 15 & U & GT3 & T & 4 & 2 & health  & services & ⋯ & 3 & 2 & 2 & 1 & 1 & 5 &  2 & 15 & 14 & 15\\\\\n",
       "\t5 & GP & F & 16 & U & GT3 & T & 3 & 3 & other   & other    & ⋯ & 4 & 3 & 2 & 1 & 2 & 5 &  4 &  6 & 10 & 10\\\\\n",
       "\\end{tabular}\n"
      ],
      "text/markdown": [
       "\n",
       "A data.frame: 5 × 33\n",
       "\n",
       "| <!--/--> | school &lt;chr&gt; | sex &lt;chr&gt; | age &lt;int&gt; | address &lt;chr&gt; | famsize &lt;chr&gt; | Pstatus &lt;chr&gt; | Medu &lt;int&gt; | Fedu &lt;int&gt; | Mjob &lt;chr&gt; | Fjob &lt;chr&gt; | ⋯ ⋯ | famrel &lt;int&gt; | freetime &lt;int&gt; | goout &lt;int&gt; | Dalc &lt;int&gt; | Walc &lt;int&gt; | health &lt;int&gt; | absences &lt;int&gt; | G1 &lt;int&gt; | G2 &lt;int&gt; | G3 &lt;int&gt; |\n",
       "|---|---|---|---|---|---|---|---|---|---|---|---|---|---|---|---|---|---|---|---|---|---|\n",
       "| 1 | GP | F | 18 | U | GT3 | A | 4 | 4 | at_home | teacher  | ⋯ | 4 | 3 | 4 | 1 | 1 | 3 |  6 |  5 |  6 |  6 |\n",
       "| 2 | GP | F | 17 | U | GT3 | T | 1 | 1 | at_home | other    | ⋯ | 5 | 3 | 3 | 1 | 1 | 3 |  4 |  5 |  5 |  6 |\n",
       "| 3 | GP | F | 15 | U | LE3 | T | 1 | 1 | at_home | other    | ⋯ | 4 | 3 | 2 | 2 | 3 | 3 | 10 |  7 |  8 | 10 |\n",
       "| 4 | GP | F | 15 | U | GT3 | T | 4 | 2 | health  | services | ⋯ | 3 | 2 | 2 | 1 | 1 | 5 |  2 | 15 | 14 | 15 |\n",
       "| 5 | GP | F | 16 | U | GT3 | T | 3 | 3 | other   | other    | ⋯ | 4 | 3 | 2 | 1 | 2 | 5 |  4 |  6 | 10 | 10 |\n",
       "\n"
      ],
      "text/plain": [
       "  school sex age address famsize Pstatus Medu Fedu Mjob    Fjob     ⋯ famrel\n",
       "1 GP     F   18  U       GT3     A       4    4    at_home teacher  ⋯ 4     \n",
       "2 GP     F   17  U       GT3     T       1    1    at_home other    ⋯ 5     \n",
       "3 GP     F   15  U       LE3     T       1    1    at_home other    ⋯ 4     \n",
       "4 GP     F   15  U       GT3     T       4    2    health  services ⋯ 3     \n",
       "5 GP     F   16  U       GT3     T       3    3    other   other    ⋯ 4     \n",
       "  freetime goout Dalc Walc health absences G1 G2 G3\n",
       "1 3        4     1    1    3       6        5  6  6\n",
       "2 3        3     1    1    3       4        5  5  6\n",
       "3 3        2     2    3    3      10        7  8 10\n",
       "4 2        2     1    1    5       2       15 14 15\n",
       "5 3        2     1    2    5       4        6 10 10"
      ]
     },
     "metadata": {},
     "output_type": "display_data"
    },
    {
     "data": {
      "text/html": [
       "<table>\n",
       "<caption>A data.frame: 5 × 33</caption>\n",
       "<thead>\n",
       "\t<tr><th></th><th scope=col>school</th><th scope=col>sex</th><th scope=col>age</th><th scope=col>address</th><th scope=col>famsize</th><th scope=col>Pstatus</th><th scope=col>Medu</th><th scope=col>Fedu</th><th scope=col>Mjob</th><th scope=col>Fjob</th><th scope=col>⋯</th><th scope=col>famrel</th><th scope=col>freetime</th><th scope=col>goout</th><th scope=col>Dalc</th><th scope=col>Walc</th><th scope=col>health</th><th scope=col>absences</th><th scope=col>G1</th><th scope=col>G2</th><th scope=col>G3</th></tr>\n",
       "\t<tr><th></th><th scope=col>&lt;chr&gt;</th><th scope=col>&lt;chr&gt;</th><th scope=col>&lt;int&gt;</th><th scope=col>&lt;chr&gt;</th><th scope=col>&lt;chr&gt;</th><th scope=col>&lt;chr&gt;</th><th scope=col>&lt;int&gt;</th><th scope=col>&lt;int&gt;</th><th scope=col>&lt;chr&gt;</th><th scope=col>&lt;chr&gt;</th><th scope=col>⋯</th><th scope=col>&lt;int&gt;</th><th scope=col>&lt;int&gt;</th><th scope=col>&lt;int&gt;</th><th scope=col>&lt;int&gt;</th><th scope=col>&lt;int&gt;</th><th scope=col>&lt;int&gt;</th><th scope=col>&lt;int&gt;</th><th scope=col>&lt;int&gt;</th><th scope=col>&lt;int&gt;</th><th scope=col>&lt;int&gt;</th></tr>\n",
       "</thead>\n",
       "<tbody>\n",
       "\t<tr><th scope=row>1</th><td>GP</td><td>F</td><td>18</td><td>U</td><td>GT3</td><td>A</td><td>4</td><td>4</td><td>at_home</td><td>teacher </td><td>⋯</td><td>4</td><td>3</td><td>4</td><td>1</td><td>1</td><td>3</td><td>4</td><td> 0</td><td>11</td><td>11</td></tr>\n",
       "\t<tr><th scope=row>2</th><td>GP</td><td>F</td><td>17</td><td>U</td><td>GT3</td><td>T</td><td>1</td><td>1</td><td>at_home</td><td>other   </td><td>⋯</td><td>5</td><td>3</td><td>3</td><td>1</td><td>1</td><td>3</td><td>2</td><td> 9</td><td>11</td><td>11</td></tr>\n",
       "\t<tr><th scope=row>3</th><td>GP</td><td>F</td><td>15</td><td>U</td><td>LE3</td><td>T</td><td>1</td><td>1</td><td>at_home</td><td>other   </td><td>⋯</td><td>4</td><td>3</td><td>2</td><td>2</td><td>3</td><td>3</td><td>6</td><td>12</td><td>13</td><td>12</td></tr>\n",
       "\t<tr><th scope=row>4</th><td>GP</td><td>F</td><td>15</td><td>U</td><td>GT3</td><td>T</td><td>4</td><td>2</td><td>health </td><td>services</td><td>⋯</td><td>3</td><td>2</td><td>2</td><td>1</td><td>1</td><td>5</td><td>0</td><td>14</td><td>14</td><td>14</td></tr>\n",
       "\t<tr><th scope=row>5</th><td>GP</td><td>F</td><td>16</td><td>U</td><td>GT3</td><td>T</td><td>3</td><td>3</td><td>other  </td><td>other   </td><td>⋯</td><td>4</td><td>3</td><td>2</td><td>1</td><td>2</td><td>5</td><td>0</td><td>11</td><td>13</td><td>13</td></tr>\n",
       "</tbody>\n",
       "</table>\n"
      ],
      "text/latex": [
       "A data.frame: 5 × 33\n",
       "\\begin{tabular}{r|lllllllllllllllllllll}\n",
       "  & school & sex & age & address & famsize & Pstatus & Medu & Fedu & Mjob & Fjob & ⋯ & famrel & freetime & goout & Dalc & Walc & health & absences & G1 & G2 & G3\\\\\n",
       "  & <chr> & <chr> & <int> & <chr> & <chr> & <chr> & <int> & <int> & <chr> & <chr> & ⋯ & <int> & <int> & <int> & <int> & <int> & <int> & <int> & <int> & <int> & <int>\\\\\n",
       "\\hline\n",
       "\t1 & GP & F & 18 & U & GT3 & A & 4 & 4 & at\\_home & teacher  & ⋯ & 4 & 3 & 4 & 1 & 1 & 3 & 4 &  0 & 11 & 11\\\\\n",
       "\t2 & GP & F & 17 & U & GT3 & T & 1 & 1 & at\\_home & other    & ⋯ & 5 & 3 & 3 & 1 & 1 & 3 & 2 &  9 & 11 & 11\\\\\n",
       "\t3 & GP & F & 15 & U & LE3 & T & 1 & 1 & at\\_home & other    & ⋯ & 4 & 3 & 2 & 2 & 3 & 3 & 6 & 12 & 13 & 12\\\\\n",
       "\t4 & GP & F & 15 & U & GT3 & T & 4 & 2 & health  & services & ⋯ & 3 & 2 & 2 & 1 & 1 & 5 & 0 & 14 & 14 & 14\\\\\n",
       "\t5 & GP & F & 16 & U & GT3 & T & 3 & 3 & other   & other    & ⋯ & 4 & 3 & 2 & 1 & 2 & 5 & 0 & 11 & 13 & 13\\\\\n",
       "\\end{tabular}\n"
      ],
      "text/markdown": [
       "\n",
       "A data.frame: 5 × 33\n",
       "\n",
       "| <!--/--> | school &lt;chr&gt; | sex &lt;chr&gt; | age &lt;int&gt; | address &lt;chr&gt; | famsize &lt;chr&gt; | Pstatus &lt;chr&gt; | Medu &lt;int&gt; | Fedu &lt;int&gt; | Mjob &lt;chr&gt; | Fjob &lt;chr&gt; | ⋯ ⋯ | famrel &lt;int&gt; | freetime &lt;int&gt; | goout &lt;int&gt; | Dalc &lt;int&gt; | Walc &lt;int&gt; | health &lt;int&gt; | absences &lt;int&gt; | G1 &lt;int&gt; | G2 &lt;int&gt; | G3 &lt;int&gt; |\n",
       "|---|---|---|---|---|---|---|---|---|---|---|---|---|---|---|---|---|---|---|---|---|---|\n",
       "| 1 | GP | F | 18 | U | GT3 | A | 4 | 4 | at_home | teacher  | ⋯ | 4 | 3 | 4 | 1 | 1 | 3 | 4 |  0 | 11 | 11 |\n",
       "| 2 | GP | F | 17 | U | GT3 | T | 1 | 1 | at_home | other    | ⋯ | 5 | 3 | 3 | 1 | 1 | 3 | 2 |  9 | 11 | 11 |\n",
       "| 3 | GP | F | 15 | U | LE3 | T | 1 | 1 | at_home | other    | ⋯ | 4 | 3 | 2 | 2 | 3 | 3 | 6 | 12 | 13 | 12 |\n",
       "| 4 | GP | F | 15 | U | GT3 | T | 4 | 2 | health  | services | ⋯ | 3 | 2 | 2 | 1 | 1 | 5 | 0 | 14 | 14 | 14 |\n",
       "| 5 | GP | F | 16 | U | GT3 | T | 3 | 3 | other   | other    | ⋯ | 4 | 3 | 2 | 1 | 2 | 5 | 0 | 11 | 13 | 13 |\n",
       "\n"
      ],
      "text/plain": [
       "  school sex age address famsize Pstatus Medu Fedu Mjob    Fjob     ⋯ famrel\n",
       "1 GP     F   18  U       GT3     A       4    4    at_home teacher  ⋯ 4     \n",
       "2 GP     F   17  U       GT3     T       1    1    at_home other    ⋯ 5     \n",
       "3 GP     F   15  U       LE3     T       1    1    at_home other    ⋯ 4     \n",
       "4 GP     F   15  U       GT3     T       4    2    health  services ⋯ 3     \n",
       "5 GP     F   16  U       GT3     T       3    3    other   other    ⋯ 4     \n",
       "  freetime goout Dalc Walc health absences G1 G2 G3\n",
       "1 3        4     1    1    3      4         0 11 11\n",
       "2 3        3     1    1    3      2         9 11 11\n",
       "3 3        2     2    3    3      6        12 13 12\n",
       "4 2        2     1    1    5      0        14 14 14\n",
       "5 3        2     1    2    5      0        11 13 13"
      ]
     },
     "metadata": {},
     "output_type": "display_data"
    }
   ],
   "source": [
    "\n",
    "#Idea from: https://stackoverflow.com/questions/3053833/using-r-to-download-zipped-data-file-extract-and-import-data\n",
    "\n",
    "#Data from: https://archive.ics.uci.edu/ml/machine-learning-databases/00320/ \n",
    "#and https://archive.ics.uci.edu/ml/datasets/Student+Performance\n",
    "\n",
    "\n",
    "#make a temporary file \n",
    "tempfile <- tempfile()\n",
    "\n",
    "#download file into temp \n",
    "download.file(\"https://archive.ics.uci.edu/ml/machine-learning-databases/00320/student.zip\", \n",
    "              tempfile) \n",
    "\n",
    "#extract relevant files \n",
    "student_mat <- read.table(unz(tempfile, \"student-mat.csv\"), \n",
    "                          header = TRUE, \n",
    "                          sep = \";\")\n",
    "student_por <- read.table(unz(tempfile, \"student-por.csv\"), \n",
    "                          header = TRUE, \n",
    "                          sep = \";\")\n",
    "unlink(tempfile)\n",
    "\n",
    "#read files to see\n",
    "head(student_mat, 5)\n",
    "head(student_por, 5)\n"
   ]
  },
  {
   "cell_type": "markdown",
   "metadata": {},
   "source": [
    "## Tidying the data/Splitting into training and testing sets\n",
    "For the remaining code in this notebooks, we will be working on the __training data__ only"
   ]
  },
  {
   "cell_type": "code",
   "execution_count": 41,
   "metadata": {},
   "outputs": [
    {
     "data": {
      "text/html": [
       "<table>\n",
       "<caption>A data.frame: 4 × 4</caption>\n",
       "<thead>\n",
       "\t<tr><th></th><th scope=col>goout</th><th scope=col>Dalc</th><th scope=col>Walc</th><th scope=col>G3</th></tr>\n",
       "\t<tr><th></th><th scope=col>&lt;int&gt;</th><th scope=col>&lt;int&gt;</th><th scope=col>&lt;int&gt;</th><th scope=col>&lt;int&gt;</th></tr>\n",
       "</thead>\n",
       "<tbody>\n",
       "\t<tr><th scope=row>1</th><td>4</td><td>1</td><td>1</td><td> 6</td></tr>\n",
       "\t<tr><th scope=row>2</th><td>3</td><td>1</td><td>1</td><td> 6</td></tr>\n",
       "\t<tr><th scope=row>4</th><td>2</td><td>1</td><td>1</td><td>15</td></tr>\n",
       "\t<tr><th scope=row>5</th><td>2</td><td>1</td><td>2</td><td>10</td></tr>\n",
       "</tbody>\n",
       "</table>\n"
      ],
      "text/latex": [
       "A data.frame: 4 × 4\n",
       "\\begin{tabular}{r|llll}\n",
       "  & goout & Dalc & Walc & G3\\\\\n",
       "  & <int> & <int> & <int> & <int>\\\\\n",
       "\\hline\n",
       "\t1 & 4 & 1 & 1 &  6\\\\\n",
       "\t2 & 3 & 1 & 1 &  6\\\\\n",
       "\t4 & 2 & 1 & 1 & 15\\\\\n",
       "\t5 & 2 & 1 & 2 & 10\\\\\n",
       "\\end{tabular}\n"
      ],
      "text/markdown": [
       "\n",
       "A data.frame: 4 × 4\n",
       "\n",
       "| <!--/--> | goout &lt;int&gt; | Dalc &lt;int&gt; | Walc &lt;int&gt; | G3 &lt;int&gt; |\n",
       "|---|---|---|---|---|\n",
       "| 1 | 4 | 1 | 1 |  6 |\n",
       "| 2 | 3 | 1 | 1 |  6 |\n",
       "| 4 | 2 | 1 | 1 | 15 |\n",
       "| 5 | 2 | 1 | 2 | 10 |\n",
       "\n"
      ],
      "text/plain": [
       "  goout Dalc Walc G3\n",
       "1 4     1    1     6\n",
       "2 3     1    1     6\n",
       "4 2     1    1    15\n",
       "5 2     1    2    10"
      ]
     },
     "metadata": {},
     "output_type": "display_data"
    }
   ],
   "source": [
    "#Merge the datasets\n",
    "total_set <- rbind(student_mat, student_por) \n",
    "\n",
    "#filter for desired columns\n",
    "filtered_set <- total_set %>% \n",
    "                select(goout, Dalc, Walc, G3)\n",
    "\n",
    "#split our dataset into a training and testing set.\n",
    "data_split <- initial_split(filtered_set, prop = 0.75, strata = G3)  #where G3 = final grade\n",
    "data_train <- training(data_split)   \n",
    "data_test <- testing(data_split)\n",
    "head(data_train, 4)"
   ]
  },
  {
   "cell_type": "markdown",
   "metadata": {},
   "source": [
    "## Summarizing data in a table\n"
   ]
  },
  {
   "cell_type": "code",
   "execution_count": 25,
   "metadata": {},
   "outputs": [
    {
     "data": {
      "text/html": [
       "<table>\n",
       "<caption>A tibble: 1 × 3</caption>\n",
       "<thead>\n",
       "\t<tr><th scope=col>goout</th><th scope=col>Dalc</th><th scope=col>Walc</th></tr>\n",
       "\t<tr><th scope=col>&lt;dbl&gt;</th><th scope=col>&lt;dbl&gt;</th><th scope=col>&lt;dbl&gt;</th></tr>\n",
       "</thead>\n",
       "<tbody>\n",
       "\t<tr><td>3.142675</td><td>1.490446</td><td>2.271338</td></tr>\n",
       "</tbody>\n",
       "</table>\n"
      ],
      "text/latex": [
       "A tibble: 1 × 3\n",
       "\\begin{tabular}{lll}\n",
       " goout & Dalc & Walc\\\\\n",
       " <dbl> & <dbl> & <dbl>\\\\\n",
       "\\hline\n",
       "\t 3.142675 & 1.490446 & 2.271338\\\\\n",
       "\\end{tabular}\n"
      ],
      "text/markdown": [
       "\n",
       "A tibble: 1 × 3\n",
       "\n",
       "| goout &lt;dbl&gt; | Dalc &lt;dbl&gt; | Walc &lt;dbl&gt; |\n",
       "|---|---|---|\n",
       "| 3.142675 | 1.490446 | 2.271338 |\n",
       "\n"
      ],
      "text/plain": [
       "  goout    Dalc     Walc    \n",
       "1 3.142675 1.490446 2.271338"
      ]
     },
     "metadata": {},
     "output_type": "display_data"
    }
   ],
   "source": [
    "#Find the mean of our predictor variables goout, Dalc, Walc\n",
    "predictor_means <- data_train %>%\n",
    "                   select(goout, Dalc, Walc) %>%\n",
    "                   map_df(mean)\n",
    "predictor_means"
   ]
  },
  {
   "cell_type": "markdown",
   "metadata": {},
   "source": [
    "We can see that on average more people go out with their friends versus drinking alcohol on the weekdays or weekends. It will be interesting to see if this variable has a greater effect on students' grades versus alcohol consumption."
   ]
  },
  {
   "cell_type": "markdown",
   "metadata": {},
   "source": [
    "## Summarize the number of observations for each class\n"
   ]
  },
  {
   "cell_type": "code",
   "execution_count": 42,
   "metadata": {},
   "outputs": [
    {
     "name": "stderr",
     "output_type": "stream",
     "text": [
      "`summarise()` ungrouping output (override with `.groups` argument)\n",
      "\n"
     ]
    },
    {
     "data": {
      "text/html": [
       "<table>\n",
       "<caption>A tibble: 18 × 3</caption>\n",
       "<thead>\n",
       "\t<tr><th scope=col>G3</th><th scope=col>n</th><th scope=col>percentage</th></tr>\n",
       "\t<tr><th scope=col>&lt;int&gt;</th><th scope=col>&lt;int&gt;</th><th scope=col>&lt;dbl&gt;</th></tr>\n",
       "</thead>\n",
       "<tbody>\n",
       "\t<tr><td> 0</td><td> 42</td><td> 5.3503185</td></tr>\n",
       "\t<tr><td> 4</td><td>  1</td><td> 0.1273885</td></tr>\n",
       "\t<tr><td> 5</td><td>  6</td><td> 0.7643312</td></tr>\n",
       "\t<tr><td> 6</td><td> 13</td><td> 1.6560510</td></tr>\n",
       "\t<tr><td> 7</td><td> 14</td><td> 1.7834395</td></tr>\n",
       "\t<tr><td> 8</td><td> 52</td><td> 6.6242038</td></tr>\n",
       "\t<tr><td> 9</td><td> 45</td><td> 5.7324841</td></tr>\n",
       "\t<tr><td>10</td><td>115</td><td>14.6496815</td></tr>\n",
       "\t<tr><td>11</td><td>114</td><td>14.5222930</td></tr>\n",
       "\t<tr><td>12</td><td> 75</td><td> 9.5541401</td></tr>\n",
       "\t<tr><td>13</td><td> 88</td><td>11.2101911</td></tr>\n",
       "\t<tr><td>14</td><td> 67</td><td> 8.5350318</td></tr>\n",
       "\t<tr><td>15</td><td> 59</td><td> 7.5159236</td></tr>\n",
       "\t<tr><td>16</td><td> 43</td><td> 5.4777070</td></tr>\n",
       "\t<tr><td>17</td><td> 26</td><td> 3.3121019</td></tr>\n",
       "\t<tr><td>18</td><td> 19</td><td> 2.4203822</td></tr>\n",
       "\t<tr><td>19</td><td>  5</td><td> 0.6369427</td></tr>\n",
       "\t<tr><td>20</td><td>  1</td><td> 0.1273885</td></tr>\n",
       "</tbody>\n",
       "</table>\n"
      ],
      "text/latex": [
       "A tibble: 18 × 3\n",
       "\\begin{tabular}{lll}\n",
       " G3 & n & percentage\\\\\n",
       " <int> & <int> & <dbl>\\\\\n",
       "\\hline\n",
       "\t  0 &  42 &  5.3503185\\\\\n",
       "\t  4 &   1 &  0.1273885\\\\\n",
       "\t  5 &   6 &  0.7643312\\\\\n",
       "\t  6 &  13 &  1.6560510\\\\\n",
       "\t  7 &  14 &  1.7834395\\\\\n",
       "\t  8 &  52 &  6.6242038\\\\\n",
       "\t  9 &  45 &  5.7324841\\\\\n",
       "\t 10 & 115 & 14.6496815\\\\\n",
       "\t 11 & 114 & 14.5222930\\\\\n",
       "\t 12 &  75 &  9.5541401\\\\\n",
       "\t 13 &  88 & 11.2101911\\\\\n",
       "\t 14 &  67 &  8.5350318\\\\\n",
       "\t 15 &  59 &  7.5159236\\\\\n",
       "\t 16 &  43 &  5.4777070\\\\\n",
       "\t 17 &  26 &  3.3121019\\\\\n",
       "\t 18 &  19 &  2.4203822\\\\\n",
       "\t 19 &   5 &  0.6369427\\\\\n",
       "\t 20 &   1 &  0.1273885\\\\\n",
       "\\end{tabular}\n"
      ],
      "text/markdown": [
       "\n",
       "A tibble: 18 × 3\n",
       "\n",
       "| G3 &lt;int&gt; | n &lt;int&gt; | percentage &lt;dbl&gt; |\n",
       "|---|---|---|\n",
       "|  0 |  42 |  5.3503185 |\n",
       "|  4 |   1 |  0.1273885 |\n",
       "|  5 |   6 |  0.7643312 |\n",
       "|  6 |  13 |  1.6560510 |\n",
       "|  7 |  14 |  1.7834395 |\n",
       "|  8 |  52 |  6.6242038 |\n",
       "|  9 |  45 |  5.7324841 |\n",
       "| 10 | 115 | 14.6496815 |\n",
       "| 11 | 114 | 14.5222930 |\n",
       "| 12 |  75 |  9.5541401 |\n",
       "| 13 |  88 | 11.2101911 |\n",
       "| 14 |  67 |  8.5350318 |\n",
       "| 15 |  59 |  7.5159236 |\n",
       "| 16 |  43 |  5.4777070 |\n",
       "| 17 |  26 |  3.3121019 |\n",
       "| 18 |  19 |  2.4203822 |\n",
       "| 19 |   5 |  0.6369427 |\n",
       "| 20 |   1 |  0.1273885 |\n",
       "\n"
      ],
      "text/plain": [
       "   G3 n   percentage\n",
       "1   0  42  5.3503185\n",
       "2   4   1  0.1273885\n",
       "3   5   6  0.7643312\n",
       "4   6  13  1.6560510\n",
       "5   7  14  1.7834395\n",
       "6   8  52  6.6242038\n",
       "7   9  45  5.7324841\n",
       "8  10 115 14.6496815\n",
       "9  11 114 14.5222930\n",
       "10 12  75  9.5541401\n",
       "11 13  88 11.2101911\n",
       "12 14  67  8.5350318\n",
       "13 15  59  7.5159236\n",
       "14 16  43  5.4777070\n",
       "15 17  26  3.3121019\n",
       "16 18  19  2.4203822\n",
       "17 19   5  0.6369427\n",
       "18 20   1  0.1273885"
      ]
     },
     "metadata": {},
     "output_type": "display_data"
    }
   ],
   "source": [
    "#first see if the number of observations for each class is similar, otherwise the model will not be properly trained. \n",
    "instances_for_classes <- data_train %>%  \n",
    "    select(G3) %>%  \n",
    "    group_by(G3) %>%  \n",
    "    summarize(n = n(),\n",
    "            percentage = n() / nrow(data_train) * 100)\n",
    "\n",
    "instances_for_classes"
   ]
  },
  {
   "cell_type": "markdown",
   "metadata": {},
   "source": [
    "## Modify initial dataset: Add Classification for G3 \n",
    "\n",
    "To correct the imbalance, we can use step_upsample (future step)."
   ]
  },
  {
   "cell_type": "code",
   "execution_count": 39,
   "metadata": {},
   "outputs": [
    {
     "data": {
      "text/html": [
       "<table>\n",
       "<caption>A data.frame: 10 × 5</caption>\n",
       "<thead>\n",
       "\t<tr><th></th><th scope=col>goout</th><th scope=col>Dalc</th><th scope=col>Walc</th><th scope=col>G3</th><th scope=col>G3_class</th></tr>\n",
       "\t<tr><th></th><th scope=col>&lt;int&gt;</th><th scope=col>&lt;int&gt;</th><th scope=col>&lt;int&gt;</th><th scope=col>&lt;int&gt;</th><th scope=col>&lt;chr&gt;</th></tr>\n",
       "</thead>\n",
       "<tbody>\n",
       "\t<tr><th scope=row>1</th><td>4</td><td>1</td><td>1</td><td> 6</td><td>poor   </td></tr>\n",
       "\t<tr><th scope=row>2</th><td>2</td><td>2</td><td>3</td><td>10</td><td>poor   </td></tr>\n",
       "\t<tr><th scope=row>3</th><td>2</td><td>1</td><td>1</td><td>15</td><td>average</td></tr>\n",
       "\t<tr><th scope=row>4</th><td>2</td><td>1</td><td>2</td><td>10</td><td>poor   </td></tr>\n",
       "\t<tr><th scope=row>5</th><td>2</td><td>1</td><td>2</td><td>15</td><td>average</td></tr>\n",
       "\t<tr><th scope=row>6</th><td>4</td><td>1</td><td>1</td><td> 6</td><td>poor   </td></tr>\n",
       "\t<tr><th scope=row>7</th><td>2</td><td>1</td><td>1</td><td>19</td><td>good   </td></tr>\n",
       "\t<tr><th scope=row>8</th><td>1</td><td>1</td><td>1</td><td>15</td><td>average</td></tr>\n",
       "\t<tr><th scope=row>9</th><td>3</td><td>1</td><td>2</td><td> 9</td><td>poor   </td></tr>\n",
       "\t<tr><th scope=row>10</th><td>2</td><td>1</td><td>1</td><td>12</td><td>average</td></tr>\n",
       "</tbody>\n",
       "</table>\n"
      ],
      "text/latex": [
       "A data.frame: 10 × 5\n",
       "\\begin{tabular}{r|lllll}\n",
       "  & goout & Dalc & Walc & G3 & G3\\_class\\\\\n",
       "  & <int> & <int> & <int> & <int> & <chr>\\\\\n",
       "\\hline\n",
       "\t1 & 4 & 1 & 1 &  6 & poor   \\\\\n",
       "\t2 & 2 & 2 & 3 & 10 & poor   \\\\\n",
       "\t3 & 2 & 1 & 1 & 15 & average\\\\\n",
       "\t4 & 2 & 1 & 2 & 10 & poor   \\\\\n",
       "\t5 & 2 & 1 & 2 & 15 & average\\\\\n",
       "\t6 & 4 & 1 & 1 &  6 & poor   \\\\\n",
       "\t7 & 2 & 1 & 1 & 19 & good   \\\\\n",
       "\t8 & 1 & 1 & 1 & 15 & average\\\\\n",
       "\t9 & 3 & 1 & 2 &  9 & poor   \\\\\n",
       "\t10 & 2 & 1 & 1 & 12 & average\\\\\n",
       "\\end{tabular}\n"
      ],
      "text/markdown": [
       "\n",
       "A data.frame: 10 × 5\n",
       "\n",
       "| <!--/--> | goout &lt;int&gt; | Dalc &lt;int&gt; | Walc &lt;int&gt; | G3 &lt;int&gt; | G3_class &lt;chr&gt; |\n",
       "|---|---|---|---|---|---|\n",
       "| 1 | 4 | 1 | 1 |  6 | poor    |\n",
       "| 2 | 2 | 2 | 3 | 10 | poor    |\n",
       "| 3 | 2 | 1 | 1 | 15 | average |\n",
       "| 4 | 2 | 1 | 2 | 10 | poor    |\n",
       "| 5 | 2 | 1 | 2 | 15 | average |\n",
       "| 6 | 4 | 1 | 1 |  6 | poor    |\n",
       "| 7 | 2 | 1 | 1 | 19 | good    |\n",
       "| 8 | 1 | 1 | 1 | 15 | average |\n",
       "| 9 | 3 | 1 | 2 |  9 | poor    |\n",
       "| 10 | 2 | 1 | 1 | 12 | average |\n",
       "\n"
      ],
      "text/plain": [
       "   goout Dalc Walc G3 G3_class\n",
       "1  4     1    1     6 poor    \n",
       "2  2     2    3    10 poor    \n",
       "3  2     1    1    15 average \n",
       "4  2     1    2    10 poor    \n",
       "5  2     1    2    15 average \n",
       "6  4     1    1     6 poor    \n",
       "7  2     1    1    19 good    \n",
       "8  1     1    1    15 average \n",
       "9  3     1    2     9 poor    \n",
       "10 2     1    1    12 average "
      ]
     },
     "metadata": {},
     "output_type": "display_data"
    },
    {
     "data": {
      "text/html": [
       "<style>\n",
       ".list-inline {list-style: none; margin:0; padding: 0}\n",
       ".list-inline>li {display: inline-block}\n",
       ".list-inline>li:not(:last-child)::after {content: \"\\00b7\"; padding: 0 .5ex}\n",
       "</style>\n",
       "<ol class=list-inline><li>'poor'</li><li>'average'</li><li>'good'</li><li>'very poor'</li></ol>\n"
      ],
      "text/latex": [
       "\\begin{enumerate*}\n",
       "\\item 'poor'\n",
       "\\item 'average'\n",
       "\\item 'good'\n",
       "\\item 'very poor'\n",
       "\\end{enumerate*}\n"
      ],
      "text/markdown": [
       "1. 'poor'\n",
       "2. 'average'\n",
       "3. 'good'\n",
       "4. 'very poor'\n",
       "\n",
       "\n"
      ],
      "text/plain": [
       "[1] \"poor\"      \"average\"   \"good\"      \"very poor\""
      ]
     },
     "metadata": {},
     "output_type": "display_data"
    }
   ],
   "source": [
    "#reduce the number of classes our model needs to predict by grouping final grades (G3)\n",
    "data_train_new_classifier <- data_train %>% \n",
    "    mutate(G3_class = case_when((G3 >= 0 & G3 <= 5) ~ \"very poor\", \n",
    "                                (G3 >= 6 & G3 <= 10) ~ \"poor\",\n",
    "                                (G3 >= 11 & G3 <= 15) ~ \"average\", \n",
    "                                (G3 >= 16 & G3 <= 20) ~ \"good\"))\n",
    "\n",
    "head(data_train_new_classifier, 10)\n",
    "unique(data_train_new_classifier$G3_class)"
   ]
  },
  {
   "cell_type": "code",
   "execution_count": 33,
   "metadata": {},
   "outputs": [
    {
     "name": "stderr",
     "output_type": "stream",
     "text": [
      "`summarise()` ungrouping output (override with `.groups` argument)\n",
      "\n"
     ]
    },
    {
     "data": {
      "text/html": [
       "<table>\n",
       "<caption>A tibble: 4 × 3</caption>\n",
       "<thead>\n",
       "\t<tr><th scope=col>G3_class</th><th scope=col>n</th><th scope=col>percentage</th></tr>\n",
       "\t<tr><th scope=col>&lt;chr&gt;</th><th scope=col>&lt;int&gt;</th><th scope=col>&lt;dbl&gt;</th></tr>\n",
       "</thead>\n",
       "<tbody>\n",
       "\t<tr><td>average  </td><td>403</td><td>51.337580</td></tr>\n",
       "\t<tr><td>good     </td><td> 94</td><td>11.974522</td></tr>\n",
       "\t<tr><td>poor     </td><td>241</td><td>30.700637</td></tr>\n",
       "\t<tr><td>very poor</td><td> 47</td><td> 5.987261</td></tr>\n",
       "</tbody>\n",
       "</table>\n"
      ],
      "text/latex": [
       "A tibble: 4 × 3\n",
       "\\begin{tabular}{lll}\n",
       " G3\\_class & n & percentage\\\\\n",
       " <chr> & <int> & <dbl>\\\\\n",
       "\\hline\n",
       "\t average   & 403 & 51.337580\\\\\n",
       "\t good      &  94 & 11.974522\\\\\n",
       "\t poor      & 241 & 30.700637\\\\\n",
       "\t very poor &  47 &  5.987261\\\\\n",
       "\\end{tabular}\n"
      ],
      "text/markdown": [
       "\n",
       "A tibble: 4 × 3\n",
       "\n",
       "| G3_class &lt;chr&gt; | n &lt;int&gt; | percentage &lt;dbl&gt; |\n",
       "|---|---|---|\n",
       "| average   | 403 | 51.337580 |\n",
       "| good      |  94 | 11.974522 |\n",
       "| poor      | 241 | 30.700637 |\n",
       "| very poor |  47 |  5.987261 |\n",
       "\n"
      ],
      "text/plain": [
       "  G3_class  n   percentage\n",
       "1 average   403 51.337580 \n",
       "2 good       94 11.974522 \n",
       "3 poor      241 30.700637 \n",
       "4 very poor  47  5.987261 "
      ]
     },
     "metadata": {},
     "output_type": "display_data"
    }
   ],
   "source": [
    "#Add summary \n",
    "summary <- data_train_new_classifier %>% \n",
    "    select(G3_class) %>% \n",
    "    group_by(G3_class) %>% \n",
    "    summarize(n = n(),\n",
    "              percentage = n() / nrow(data_train) * 100)\n",
    "\n",
    "summary\n",
    "    "
   ]
  },
  {
   "cell_type": "markdown",
   "metadata": {},
   "source": [
<<<<<<< HEAD:Test.ipynb
    "## Visualization: \n",
    "In the following cells we provide plots that display the count of how many people got good grades (G3 >= 16) for each predictor variable"
=======
    "## Visualization: "
>>>>>>> 792b281d61ce34c097ab473f5f4c54ca20d7739e:Project-Proposal.ipynb
   ]
  },
  {
   "cell_type": "code",
<<<<<<< HEAD:Test.ipynb
   "execution_count": 10,
=======
   "execution_count": 43,
>>>>>>> 792b281d61ce34c097ab473f5f4c54ca20d7739e:Project-Proposal.ipynb
   "metadata": {},
   "outputs": [
    {
     "data": {
      "image/png": "iVBORw0KGgoAAAANSUhEUgAAA0gAAANICAMAAADKOT/pAAAC+lBMVEUAAAABAQECAgIDAwME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\nJIACICSAAiAkgAIgJIACICSAAvj/AtkFAf8DiN0AAAAASUVORK5CYII=",
      "text/plain": [
       "plot without title"
      ]
     },
     "metadata": {
      "image/png": {
       "height": 420,
       "width": 420
      }
     },
     "output_type": "display_data"
    },
    {
     "data": {
      "image/png": "iVBORw0KGgoAAAANSUhEUgAAA0gAAANICAMAAADKOT/pAAAC+lBMVEUAAAABAQECAgIDAwME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\nlENAIsohIBHl0P8HUVsFusn5D+kAAAAASUVORK5CYII=",
      "text/plain": [
       "plot without title"
      ]
     },
     "metadata": {
      "image/png": {
       "height": 420,
       "width": 420
      }
     },
     "output_type": "display_data"
    },
    {
     "data": {
      "image/png": "iVBORw0KGgoAAAANSUhEUgAAA0gAAANICAMAAADKOT/pAAAC+lBMVEUAAAABAQECAgIDAwME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\nHAISUQ79fzsLWI9iaclNAAAAAElFTkSuQmCC",
      "text/plain": [
       "plot without title"
      ]
     },
     "metadata": {
      "image/png": {
       "height": 420,
       "width": 420
      }
     },
     "output_type": "display_data"
    }
   ],
   "source": [
    "#plots that display the count of how many people got good grades (G3 >= 15) for each predictor variable\n",
    "\n",
    "goout_viz <- data_train %>%\n",
    "             filter(G3 >= 16) %>%\n",
    "             ggplot(aes(x = goout)) +\n",
    "             geom_bar() +\n",
    "             xlab(\"Going Out With Friends\") +\n",
    "             ylab(\"Count of grades >= 16\")\n",
    "dalc_viz <- data_train %>%\n",
    "            filter(G3 >= 16) %>%\n",
    "             ggplot(aes(x = Dalc)) +\n",
    "             geom_bar() +\n",
    "             xlab(\"Daytime Alcohol Consumption\") +\n",
    "             ylab(\"Count of grades >= 16\")\n",
    "walc_viz <- data_train %>%\n",
    "            filter(G3 >= 16) %>%\n",
    "             ggplot(aes(x = Walc)) +\n",
    "             geom_bar() +\n",
    "             xlab(\"Weekend Alcohol Consumption\") +\n",
    "             ylab(\"Count of grades >= 16\")\n",
    "goout_viz\n",
    "dalc_viz\n",
    "walc_viz"
   ]
  },
  {
   "cell_type": "markdown",
   "metadata": {},
   "source": [
    "We can see that there is a clear trend with alcohol consumption - students who drink more alcohol tend to not get good grades. However, the trend is not as clear with the \"going out with friends\" variable. "
   ]
  },
  {
   "cell_type": "markdown",
   "metadata": {},
   "source": [
    "# Methods\n",
    "\n",
    "We are interested in finding the relationship between going out with friends, alcohol consumption, and school performance.\n",
    "\n",
    "We will be using the columns as our predictors to make a model that predicts students' (G3_class) final grade \n",
    "- \"goout\": time spent going out with friends,\n",
    "- \"Dalc\": workday alcohol consumption, and\n",
    "- \"Walc\": weekend alcohol consumption \n",
    "\n",
    "We will exclude the other columns not considered as distractions. We propose creating a knn model that predicts the grade a student will receive based on the values for \"goout\", \"Dalc\", and \"Walc\".\n",
    "\n",
    "We can visualize our data/model by creating a scatterplot that divides graph into areas that would predict good, average, poor, or very poor grades. One could then approximate a student's grade visually. "
   ]
  },
  {
   "cell_type": "markdown",
   "metadata": {},
   "source": [
    "# Expected Outcomes and Significance\n",
    "\n",
    "What do you expect to find?\n",
    "- We expect a negative correlation between grades and alcohol consumption (both workday and weekend) \n",
    "- We expect the relationship between going out with friends \n",
    "\n",
    "What impact could such findings have?\n",
    "- These results can highlight the effects of alcohol consumption on school grades for students aged 15-22\n",
    "- These results can show the positive and negative effects of going out with friends, and perhaps elucidate a “sweet spot” for this activity\n",
    "\n",
    "What future questions could this lead to?\n",
    "- What is the best strategy to balance distractions outside school while still achieving good performance? \n",
    "- Can we use this model to assist in early intervention for students who have poor predicted grades?\n"
   ]
  },
  {
   "cell_type": "code",
   "execution_count": null,
   "metadata": {},
   "outputs": [],
   "source": []
  }
 ],
 "metadata": {
  "kernelspec": {
   "display_name": "R",
   "language": "R",
   "name": "ir"
  },
  "language_info": {
   "codemirror_mode": "r",
   "file_extension": ".r",
   "mimetype": "text/x-r-source",
   "name": "R",
   "pygments_lexer": "r",
   "version": "4.0.3"
  }
 },
 "nbformat": 4,
 "nbformat_minor": 4
}
